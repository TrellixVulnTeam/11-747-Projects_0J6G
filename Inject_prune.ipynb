{
  "nbformat": 4,
  "nbformat_minor": 0,
  "metadata": {
    "colab": {
      "name": "Inject-prune.ipynb",
      "provenance": [],
      "collapsed_sections": [
        "cI-C_2rFJwwH",
        "_NRkOaqBJ9Ac",
        "Pntw5rigH8lC"
      ],
      "toc_visible": true,
      "machine_shape": "hm",
      "include_colab_link": true
    },
    "kernelspec": {
      "name": "python3",
      "display_name": "Python 3"
    },
    "language_info": {
      "name": "python"
    },
    "accelerator": "GPU"
  },
  "cells": [
    {
      "cell_type": "markdown",
      "metadata": {
        "id": "view-in-github",
        "colab_type": "text"
      },
      "source": [
        "<a href=\"https://colab.research.google.com/github/gn03249822/11-747-Projects/blob/main/Inject_prune.ipynb\" target=\"_parent\"><img src=\"https://colab.research.google.com/assets/colab-badge.svg\" alt=\"Open In Colab\"/></a>"
      ]
    },
    {
      "cell_type": "code",
      "metadata": {
        "id": "rt9U3CUeVAay",
        "colab": {
          "base_uri": "https://localhost:8080/"
        },
        "outputId": "003813fc-4426-4a19-fabc-787e4a2be5a1"
      },
      "source": [
        "from google.colab import drive\n",
        "drive.mount('/content/drive')"
      ],
      "execution_count": null,
      "outputs": [
        {
          "output_type": "stream",
          "text": [
            "Mounted at /content/drive\n"
          ],
          "name": "stdout"
        }
      ]
    },
    {
      "cell_type": "code",
      "metadata": {
        "id": "sNOBesIHTFda"
      },
      "source": [
        "# !git clone https://github.com/ag1988/injecting_numeracy.git\n",
        "# cd /content/drive/My Drive/CMU/11-747 S21/Inject/injecting_numeracy/pre_training\n",
        "# !bash download.sh"
      ],
      "execution_count": null,
      "outputs": []
    },
    {
      "cell_type": "code",
      "metadata": {
        "colab": {
          "base_uri": "https://localhost:8080/"
        },
        "id": "YkMbwq2qVU1E",
        "outputId": "694c4e9b-cf2c-488c-def0-79b8808e1d29"
      },
      "source": [
        "cd /content/drive/My Drive/CMU/11-747 S21/Inject/injecting_numeracy/pre_training"
      ],
      "execution_count": null,
      "outputs": [
        {
          "output_type": "stream",
          "text": [
            "/content/drive/My Drive/CMU/11-747 S21/Inject/injecting_numeracy/pre_training\n"
          ],
          "name": "stdout"
        }
      ]
    },
    {
      "cell_type": "code",
      "metadata": {
        "id": "Aebi8gtnVYID"
      },
      "source": [
        "pip install -r requirements.txt"
      ],
      "execution_count": null,
      "outputs": []
    },
    {
      "cell_type": "code",
      "metadata": {
        "colab": {
          "base_uri": "https://localhost:8080/"
        },
        "id": "d5HwPOovXMbK",
        "outputId": "814a87ff-4576-4755-ad73-c8a57b2d10ae"
      },
      "source": [
        "cd /content/drive/My Drive/CMU/11-747 S21/Inject/injecting_numeracy/pre_training/gen_bert"
      ],
      "execution_count": null,
      "outputs": [
        {
          "output_type": "stream",
          "text": [
            "/content/drive/My Drive/CMU/11-747 S21/Inject/injecting_numeracy/pre_training/gen_bert\n"
          ],
          "name": "stdout"
        }
      ]
    },
    {
      "cell_type": "code",
      "metadata": {
        "id": "1BLOLDsVVaIS"
      },
      "source": [
        " !python create_examples_n_features.py --split train --drop_json ../data/drop_dataset_train.json --output_dir data/examples_n_features --max_seq_length 512\n",
        " !python create_examples_n_features.py --split eval --drop_json ../data/drop_dataset_dev.json --output_dir data/examples_n_features --max_seq_length 512"
      ],
      "execution_count": null,
      "outputs": []
    },
    {
      "cell_type": "code",
      "metadata": {
        "id": "BFo-I-b89sLR"
      },
      "source": [
        "# numeric data\n",
        "!python create_examples_n_features.py --split train --drop_json ../data/synthetic_numeric_train_drop_format.json --output_dir data/examples_n_features_numeric --max_seq_length 50 --max_decoding_steps 11 --max_n_samples -1\n",
        "!python create_examples_n_features.py --split eval --drop_json ../data/synthetic_numeric_dev_drop_format.json --output_dir data/examples_n_features_numeric --max_seq_length 50 --max_decoding_steps 11\n",
        "# texual synthetic data\n",
        "!python create_examples_n_features.py --split train --drop_json ../data/synthetic_textual_mixed_min3_max6_up0.7_train_drop_format.json --output_dir data/examples_n_features_syntext --max_seq_length 160 --max_n_samples -1\n",
        "!python create_examples_n_features.py --split eval --drop_json ../data/synthetic_textual_mixed_min3_max6_up0.7_dev_drop_format.json --output_dir data/examples_n_features_syntext --max_seq_length 160"
      ],
      "execution_count": null,
      "outputs": []
    },
    {
      "cell_type": "code",
      "metadata": {
        "id": "TSdPxf7FOExm"
      },
      "source": [
        "# !python create_examples_n_features.py --split eval --drop_json ../data/drop_dataset_dev_small.json --output_dir data/examples_n_features_small --max_seq_length 512"
      ],
      "execution_count": null,
      "outputs": []
    },
    {
      "cell_type": "code",
      "metadata": {
        "id": "JdlOQIBOEtqb"
      },
      "source": [
        "# set env variables in Colab \n",
        "import os\n",
        "os.environ[\"DATA_DIR\"] = \"data/drop\"\n",
        "os.environ[\"BERT_DIR\"] = \"bert-base-uncased\""
      ],
      "execution_count": null,
      "outputs": []
    },
    {
      "cell_type": "code",
      "metadata": {
        "id": "q8iBew8qiEKX"
      },
      "source": [
        "!yes y | pip uninstall torch torchvision\n",
        "!yes y | pip install --pre torch -f https://download.pytorch.org/whl/nightly/cpu/torch_nightly.html"
      ],
      "execution_count": null,
      "outputs": []
    },
    {
      "cell_type": "markdown",
      "metadata": {
        "id": "UxYXdtvFBFcE"
      },
      "source": [
        "## Experiment"
      ]
    },
    {
      "cell_type": "markdown",
      "metadata": {
        "id": "cI-C_2rFJwwH"
      },
      "source": [
        "### Global Pruning: 0% - 90%"
      ]
    },
    {
      "cell_type": "code",
      "metadata": {
        "colab": {
          "base_uri": "https://localhost:8080/"
        },
        "id": "Xdz9h94aBHJY",
        "outputId": "d9ae2645-b1a3-4b32-9fb0-20835ff692d4"
      },
      "source": [
        "# Inference\n",
        "!python finetune_on_drop.py --do_eval --do_inference --examples_n_features_dir ./data/examples_n_features/ --eval_batch_size 128 --init_weights_dir out_drop_finetune_syntext_and_numeric  --output_dir preds\n",
        "# Evaluation\n",
        "!python drop_eval.py --gold_path ../data/drop_dataset_dev.json --prediction_path ./preds/predictions.jsonl --answer_key prediction"
      ],
      "execution_count": null,
      "outputs": [
        {
          "output_type": "stream",
          "text": [
            "05/10/2021 05:05:45 - INFO - pytorch_pretrained_bert.tokenization -   loading vocabulary file https://s3.amazonaws.com/models.huggingface.co/bert/bert-base-uncased-vocab.txt from cache at /root/.pytorch_pretrained_bert/26bc1ad6c0ac742e9b52263248f6d0f00068293b33709fae12320c0e35ccfbbb.542ce4285a40d23a559526243235df47c5f75c197f04f37d1a0c124c32c9a084\n",
            "05/10/2021 05:05:45 - INFO - __main__ -   device: cuda n_gpu: 1, distributed training: False, 16-bits training: False\n",
            "05/10/2021 05:05:45 - INFO - pytorch_pretrained_bert.tokenization -   loading vocabulary file https://s3.amazonaws.com/models.huggingface.co/bert/bert-base-uncased-vocab.txt from cache at /root/.pytorch_pretrained_bert/26bc1ad6c0ac742e9b52263248f6d0f00068293b33709fae12320c0e35ccfbbb.542ce4285a40d23a559526243235df47c5f75c197f04f37d1a0c124c32c9a084\n",
            "out_drop_finetune_syntext_and_numeric\n",
            "pytorch_model.bin\n",
            "05/10/2021 05:05:45 - INFO - modeling -   loading weights file out_drop_finetune_syntext_and_numeric/pytorch_model.bin\n",
            "05/10/2021 05:05:45 - INFO - modeling -   loading configuration file out_drop_finetune_syntext_and_numeric/config.json\n",
            "05/10/2021 05:05:45 - INFO - modeling -   Model config {\n",
            "  \"attention_probs_dropout_prob\": 0.1,\n",
            "  \"hidden_act\": \"gelu\",\n",
            "  \"hidden_dropout_prob\": 0.1,\n",
            "  \"hidden_size\": 768,\n",
            "  \"initializer_range\": 0.02,\n",
            "  \"intermediate_size\": 3072,\n",
            "  \"layer_norm_eps\": 1e-12,\n",
            "  \"max_position_embeddings\": 512,\n",
            "  \"num_attention_heads\": 12,\n",
            "  \"num_hidden_layers\": 12,\n",
            "  \"type_vocab_size\": 2,\n",
            "  \"vocab_size\": 30522\n",
            "}\n",
            "\n",
            "$$$$$$$$$$$$$$$$$$$$$$\n",
            "$$$ No Prunning $$$\n",
            "$$$$$$$$$$$$$$$$$$$$$$\n",
            "05/10/2021 05:05:59 - INFO - root -   Loading eval examples and features.\n",
            "\n",
            "05/10/2021 05:06:02 - INFO - __main__ -   ***** Running evaluation *****\n",
            "05/10/2021 05:06:02 - INFO - __main__ -     Num examples = 9536\n",
            "05/10/2021 05:06:02 - INFO - __main__ -     Batch size = 128\n",
            "Inference: 100% 75/75 [11:18<00:00,  9.05s/it]\n",
            "05/10/2021 05:17:25 - INFO - __main__ -   EM: 0.6267827181208053, Drop EM: 0.6886535234899329\n",
            "05/10/2021 05:17:25 - INFO - __main__ -   saving predictions.jsonl in preds\n",
            "Chaz Schilens chaz schilens || 3 3 || Houston Texans raiders || 2 2 || 29 29 || JaMarcus Russell russell || 80 80-yard || 2 2 || 3 3 || 29 29 || 51 51 || 4 4 || 2 2 || 29 29 || 9 9 || 5 5 || 53 53 || 24 24 || 29 29 || T. J. Houshmandzadeh t. j. houshmandzadeh || Exact-match accuracy 68.87\n",
            "F1 score 72.80\n",
            "68.87   &   72.80\n",
            "----\n",
            "date: 148 (1.55%)\n",
            "  Exact-match accuracy 42.568\n",
            "  F1 score 55.824\n",
            "number: 5889 (61.76%)\n",
            "  Exact-match accuracy 75.310\n",
            "  F1 score 75.386\n",
            "span: 3019 (31.66%)\n",
            "  Exact-match accuracy 68.533\n",
            "  F1 score 74.925\n",
            "spans: 480 (5.03%)\n",
            "  Exact-match accuracy 0.000\n",
            "  F1 score 32.846\n"
          ],
          "name": "stdout"
        }
      ]
    },
    {
      "cell_type": "code",
      "metadata": {
        "colab": {
          "base_uri": "https://localhost:8080/"
        },
        "id": "LCyC4ec6uE7o",
        "outputId": "1eb25e0f-3583-49e5-e32c-df3c4ab20999"
      },
      "source": [
        "# Inference\n",
        "!python finetune_on_drop.py --do_eval --do_inference --examples_n_features_dir ./data/examples_n_features/ --eval_batch_size 128 --init_weights_dir out_drop_finetune_syntext_and_numeric  --output_dir preds --prune_rate 0.1\n",
        "# Evaluation\n",
        "!python drop_eval.py --gold_path ../data/drop_dataset_dev.json --prediction_path ./preds/predictions.jsonl --answer_key prediction"
      ],
      "execution_count": null,
      "outputs": [
        {
          "output_type": "stream",
          "text": [
            "05/10/2021 05:20:54 - INFO - pytorch_pretrained_bert.tokenization -   loading vocabulary file https://s3.amazonaws.com/models.huggingface.co/bert/bert-base-uncased-vocab.txt from cache at /root/.pytorch_pretrained_bert/26bc1ad6c0ac742e9b52263248f6d0f00068293b33709fae12320c0e35ccfbbb.542ce4285a40d23a559526243235df47c5f75c197f04f37d1a0c124c32c9a084\n",
            "05/10/2021 05:20:54 - INFO - __main__ -   device: cuda n_gpu: 1, distributed training: False, 16-bits training: False\n",
            "05/10/2021 05:20:54 - INFO - pytorch_pretrained_bert.tokenization -   loading vocabulary file https://s3.amazonaws.com/models.huggingface.co/bert/bert-base-uncased-vocab.txt from cache at /root/.pytorch_pretrained_bert/26bc1ad6c0ac742e9b52263248f6d0f00068293b33709fae12320c0e35ccfbbb.542ce4285a40d23a559526243235df47c5f75c197f04f37d1a0c124c32c9a084\n",
            "out_drop_finetune_syntext_and_numeric\n",
            "pytorch_model.bin\n",
            "05/10/2021 05:20:54 - INFO - modeling -   loading weights file out_drop_finetune_syntext_and_numeric/pytorch_model.bin\n",
            "05/10/2021 05:20:54 - INFO - modeling -   loading configuration file out_drop_finetune_syntext_and_numeric/config.json\n",
            "05/10/2021 05:20:54 - INFO - modeling -   Model config {\n",
            "  \"attention_probs_dropout_prob\": 0.1,\n",
            "  \"hidden_act\": \"gelu\",\n",
            "  \"hidden_dropout_prob\": 0.1,\n",
            "  \"hidden_size\": 768,\n",
            "  \"initializer_range\": 0.02,\n",
            "  \"intermediate_size\": 3072,\n",
            "  \"layer_norm_eps\": 1e-12,\n",
            "  \"max_position_embeddings\": 512,\n",
            "  \"num_attention_heads\": 12,\n",
            "  \"num_hidden_layers\": 12,\n",
            "  \"type_vocab_size\": 2,\n",
            "  \"vocab_size\": 30522\n",
            "}\n",
            "\n",
            "********************************************\n",
            "*** Start Prunning Model, rate: 0.1 ***\n",
            "********************************************\n",
            "05/10/2021 05:21:01 - INFO - root -   Loading eval examples and features.\n",
            "\n",
            "05/10/2021 05:21:04 - INFO - __main__ -   ***** Running evaluation *****\n",
            "05/10/2021 05:21:04 - INFO - __main__ -     Num examples = 9536\n",
            "05/10/2021 05:21:04 - INFO - __main__ -     Batch size = 128\n",
            "Inference: 100% 75/75 [11:18<00:00,  9.05s/it]\n",
            "05/10/2021 05:32:27 - INFO - __main__ -   EM: 0.6269924496644296, Drop EM: 0.6877097315436241\n",
            "05/10/2021 05:32:27 - INFO - __main__ -   saving predictions.jsonl in preds\n",
            "Chaz Schilens chaz schilens || 3 3 || Houston Texans raiders || 2 2 || 29 29 || JaMarcus Russell russell || 80 80-yard || 2 2 || 3 3 || 29 29 || 51 51 || 4 4 || 2 2 || 29 29 || 9 9 || 5 5 || 53 53 || 24 24 || 29 29 || T. J. Houshmandzadeh t. j. houshmandzadeh || Exact-match accuracy 68.77\n",
            "F1 score 72.71\n",
            "68.77   &   72.71\n",
            "----\n",
            "date: 147 (1.54%)\n",
            "  Exact-match accuracy 42.177\n",
            "  F1 score 55.748\n",
            "number: 5889 (61.76%)\n",
            "  Exact-match accuracy 75.276\n",
            "  F1 score 75.353\n",
            "span: 3017 (31.64%)\n",
            "  Exact-match accuracy 68.379\n",
            "  F1 score 74.827\n",
            "spans: 483 (5.07%)\n",
            "  Exact-match accuracy 0.000\n",
            "  F1 score 32.466\n"
          ],
          "name": "stdout"
        }
      ]
    },
    {
      "cell_type": "code",
      "metadata": {
        "colab": {
          "base_uri": "https://localhost:8080/"
        },
        "id": "WZVPPvbHuE4O",
        "outputId": "54630894-6396-4179-cb7c-7a44ed85caf7"
      },
      "source": [
        "# Inference\n",
        "!python finetune_on_drop.py --do_eval --do_inference --examples_n_features_dir ./data/examples_n_features/ --eval_batch_size 128 --init_weights_dir out_drop_finetune_syntext_and_numeric  --output_dir preds --prune_rate 0.2\n",
        "# Evaluation\n",
        "!python drop_eval.py --gold_path ../data/drop_dataset_dev.json --prediction_path ./preds/predictions.jsonl --answer_key prediction"
      ],
      "execution_count": null,
      "outputs": [
        {
          "output_type": "stream",
          "text": [
            "05/10/2021 05:42:11 - INFO - pytorch_pretrained_bert.tokenization -   loading vocabulary file https://s3.amazonaws.com/models.huggingface.co/bert/bert-base-uncased-vocab.txt from cache at /root/.pytorch_pretrained_bert/26bc1ad6c0ac742e9b52263248f6d0f00068293b33709fae12320c0e35ccfbbb.542ce4285a40d23a559526243235df47c5f75c197f04f37d1a0c124c32c9a084\n",
            "05/10/2021 05:42:11 - INFO - __main__ -   device: cuda n_gpu: 1, distributed training: False, 16-bits training: False\n",
            "05/10/2021 05:42:11 - INFO - pytorch_pretrained_bert.tokenization -   loading vocabulary file https://s3.amazonaws.com/models.huggingface.co/bert/bert-base-uncased-vocab.txt from cache at /root/.pytorch_pretrained_bert/26bc1ad6c0ac742e9b52263248f6d0f00068293b33709fae12320c0e35ccfbbb.542ce4285a40d23a559526243235df47c5f75c197f04f37d1a0c124c32c9a084\n",
            "out_drop_finetune_syntext_and_numeric\n",
            "pytorch_model.bin\n",
            "05/10/2021 05:42:11 - INFO - modeling -   loading weights file out_drop_finetune_syntext_and_numeric/pytorch_model.bin\n",
            "05/10/2021 05:42:11 - INFO - modeling -   loading configuration file out_drop_finetune_syntext_and_numeric/config.json\n",
            "05/10/2021 05:42:11 - INFO - modeling -   Model config {\n",
            "  \"attention_probs_dropout_prob\": 0.1,\n",
            "  \"hidden_act\": \"gelu\",\n",
            "  \"hidden_dropout_prob\": 0.1,\n",
            "  \"hidden_size\": 768,\n",
            "  \"initializer_range\": 0.02,\n",
            "  \"intermediate_size\": 3072,\n",
            "  \"layer_norm_eps\": 1e-12,\n",
            "  \"max_position_embeddings\": 512,\n",
            "  \"num_attention_heads\": 12,\n",
            "  \"num_hidden_layers\": 12,\n",
            "  \"type_vocab_size\": 2,\n",
            "  \"vocab_size\": 30522\n",
            "}\n",
            "\n",
            "********************************************\n",
            "*** Start Prunning Model, rate: 0.2 ***\n",
            "********************************************\n",
            "05/10/2021 05:42:19 - INFO - root -   Loading eval examples and features.\n",
            "\n",
            "05/10/2021 05:42:22 - INFO - __main__ -   ***** Running evaluation *****\n",
            "05/10/2021 05:42:22 - INFO - __main__ -     Num examples = 9536\n",
            "05/10/2021 05:42:22 - INFO - __main__ -     Batch size = 128\n",
            "Inference: 100% 75/75 [11:18<00:00,  9.05s/it]\n",
            "05/10/2021 05:53:45 - INFO - __main__ -   EM: 0.6244756711409396, Drop EM: 0.68498322147651\n",
            "05/10/2021 05:53:45 - INFO - __main__ -   saving predictions.jsonl in preds\n",
            "Chaz Schilens chaz schilens || 3 3 || Houston Texans raiders || 2 2 || 29 29 || JaMarcus Russell russell || 80 80-yard || 2 2 || 3 3 || 29 29 || 51 51 || 4 4 || 2 2 || 29 29 || 9 9 || 5 5 || 53 53 || 24 24 || 29 29 || T. J. Houshmandzadeh t. j. houshmandzadeh || Exact-match accuracy 68.50\n",
            "F1 score 72.37\n",
            "68.50   &   72.37\n",
            "----\n",
            "date: 148 (1.55%)\n",
            "  Exact-match accuracy 42.568\n",
            "  F1 score 55.534\n",
            "number: 5886 (61.72%)\n",
            "  Exact-match accuracy 74.805\n",
            "  F1 score 74.893\n",
            "span: 3019 (31.66%)\n",
            "  Exact-match accuracy 68.433\n",
            "  F1 score 74.627\n",
            "spans: 483 (5.07%)\n",
            "  Exact-match accuracy 0.000\n",
            "  F1 score 32.733\n"
          ],
          "name": "stdout"
        }
      ]
    },
    {
      "cell_type": "code",
      "metadata": {
        "colab": {
          "base_uri": "https://localhost:8080/"
        },
        "id": "seik66AIuE1w",
        "outputId": "43f0cd35-cef8-41d5-89a9-c7072bd6ea34"
      },
      "source": [
        "# Inference\n",
        "!python finetune_on_drop.py --do_eval --do_inference --examples_n_features_dir ./data/examples_n_features/ --eval_batch_size 128 --init_weights_dir out_drop_finetune_syntext_and_numeric  --output_dir preds --prune_rate 0.3\n",
        "# Evaluation\n",
        "!python drop_eval.py --gold_path ../data/drop_dataset_dev.json --prediction_path ./preds/predictions.jsonl --answer_key prediction"
      ],
      "execution_count": null,
      "outputs": [
        {
          "output_type": "stream",
          "text": [
            "05/10/2021 05:53:52 - INFO - pytorch_pretrained_bert.tokenization -   loading vocabulary file https://s3.amazonaws.com/models.huggingface.co/bert/bert-base-uncased-vocab.txt from cache at /root/.pytorch_pretrained_bert/26bc1ad6c0ac742e9b52263248f6d0f00068293b33709fae12320c0e35ccfbbb.542ce4285a40d23a559526243235df47c5f75c197f04f37d1a0c124c32c9a084\n",
            "05/10/2021 05:53:52 - INFO - __main__ -   device: cuda n_gpu: 1, distributed training: False, 16-bits training: False\n",
            "05/10/2021 05:53:53 - INFO - pytorch_pretrained_bert.tokenization -   loading vocabulary file https://s3.amazonaws.com/models.huggingface.co/bert/bert-base-uncased-vocab.txt from cache at /root/.pytorch_pretrained_bert/26bc1ad6c0ac742e9b52263248f6d0f00068293b33709fae12320c0e35ccfbbb.542ce4285a40d23a559526243235df47c5f75c197f04f37d1a0c124c32c9a084\n",
            "out_drop_finetune_syntext_and_numeric\n",
            "pytorch_model.bin\n",
            "05/10/2021 05:53:53 - INFO - modeling -   loading weights file out_drop_finetune_syntext_and_numeric/pytorch_model.bin\n",
            "05/10/2021 05:53:53 - INFO - modeling -   loading configuration file out_drop_finetune_syntext_and_numeric/config.json\n",
            "05/10/2021 05:53:53 - INFO - modeling -   Model config {\n",
            "  \"attention_probs_dropout_prob\": 0.1,\n",
            "  \"hidden_act\": \"gelu\",\n",
            "  \"hidden_dropout_prob\": 0.1,\n",
            "  \"hidden_size\": 768,\n",
            "  \"initializer_range\": 0.02,\n",
            "  \"intermediate_size\": 3072,\n",
            "  \"layer_norm_eps\": 1e-12,\n",
            "  \"max_position_embeddings\": 512,\n",
            "  \"num_attention_heads\": 12,\n",
            "  \"num_hidden_layers\": 12,\n",
            "  \"type_vocab_size\": 2,\n",
            "  \"vocab_size\": 30522\n",
            "}\n",
            "\n",
            "********************************************\n",
            "*** Start Prunning Model, rate: 0.3 ***\n",
            "********************************************\n",
            "05/10/2021 05:54:00 - INFO - root -   Loading eval examples and features.\n",
            "\n",
            "05/10/2021 05:54:03 - INFO - __main__ -   ***** Running evaluation *****\n",
            "05/10/2021 05:54:03 - INFO - __main__ -     Num examples = 9536\n",
            "05/10/2021 05:54:03 - INFO - __main__ -     Batch size = 128\n",
            "Inference: 100% 75/75 [11:18<00:00,  9.05s/it]\n",
            "05/10/2021 06:05:26 - INFO - __main__ -   EM: 0.615876677852349, Drop EM: 0.6763842281879194\n",
            "05/10/2021 06:05:26 - INFO - __main__ -   saving predictions.jsonl in preds\n",
            "Chaz Schilens chaz schilens || 3 3 || Houston Texans raiders || 2 2 || 29 29 || JaMarcus Russell russell || 80 80-yard || 3 2 || 3 3 || 29 29 || 51 51 || 4 4 || 2 2 || 29 29 || 9 9 || 5 5 || 53 53 || 24 24 || 29 29 || T. J. Houshmandzadeh t. j. houshmandzadeh || Exact-match accuracy 67.64\n",
            "F1 score 71.65\n",
            "67.64   &   71.65\n",
            "----\n",
            "date: 148 (1.55%)\n",
            "  Exact-match accuracy 41.892\n",
            "  F1 score 55.162\n",
            "number: 5885 (61.71%)\n",
            "  Exact-match accuracy 73.509\n",
            "  F1 score 73.597\n",
            "span: 3023 (31.70%)\n",
            "  Exact-match accuracy 68.210\n",
            "  F1 score 74.869\n",
            "spans: 480 (5.03%)\n",
            "  Exact-match accuracy 0.000\n",
            "  F1 score 32.669\n"
          ],
          "name": "stdout"
        }
      ]
    },
    {
      "cell_type": "code",
      "metadata": {
        "colab": {
          "base_uri": "https://localhost:8080/"
        },
        "id": "LEbgXl11uEzj",
        "outputId": "720a46ce-4192-4f86-e512-ef9104536f68"
      },
      "source": [
        "# Inference\n",
        "!python finetune_on_drop.py --do_eval --do_inference --examples_n_features_dir ./data/examples_n_features/ --eval_batch_size 128 --init_weights_dir out_drop_finetune_syntext_and_numeric  --output_dir preds --prune_rate 0.4\n",
        "# Evaluation\n",
        "!python drop_eval.py --gold_path ../data/drop_dataset_dev.json --prediction_path ./preds/predictions.jsonl --answer_key prediction"
      ],
      "execution_count": null,
      "outputs": [
        {
          "output_type": "stream",
          "text": [
            "05/10/2021 06:05:34 - INFO - pytorch_pretrained_bert.tokenization -   loading vocabulary file https://s3.amazonaws.com/models.huggingface.co/bert/bert-base-uncased-vocab.txt from cache at /root/.pytorch_pretrained_bert/26bc1ad6c0ac742e9b52263248f6d0f00068293b33709fae12320c0e35ccfbbb.542ce4285a40d23a559526243235df47c5f75c197f04f37d1a0c124c32c9a084\n",
            "05/10/2021 06:05:34 - INFO - __main__ -   device: cuda n_gpu: 1, distributed training: False, 16-bits training: False\n",
            "05/10/2021 06:05:35 - INFO - pytorch_pretrained_bert.tokenization -   loading vocabulary file https://s3.amazonaws.com/models.huggingface.co/bert/bert-base-uncased-vocab.txt from cache at /root/.pytorch_pretrained_bert/26bc1ad6c0ac742e9b52263248f6d0f00068293b33709fae12320c0e35ccfbbb.542ce4285a40d23a559526243235df47c5f75c197f04f37d1a0c124c32c9a084\n",
            "out_drop_finetune_syntext_and_numeric\n",
            "pytorch_model.bin\n",
            "05/10/2021 06:05:35 - INFO - modeling -   loading weights file out_drop_finetune_syntext_and_numeric/pytorch_model.bin\n",
            "05/10/2021 06:05:35 - INFO - modeling -   loading configuration file out_drop_finetune_syntext_and_numeric/config.json\n",
            "05/10/2021 06:05:35 - INFO - modeling -   Model config {\n",
            "  \"attention_probs_dropout_prob\": 0.1,\n",
            "  \"hidden_act\": \"gelu\",\n",
            "  \"hidden_dropout_prob\": 0.1,\n",
            "  \"hidden_size\": 768,\n",
            "  \"initializer_range\": 0.02,\n",
            "  \"intermediate_size\": 3072,\n",
            "  \"layer_norm_eps\": 1e-12,\n",
            "  \"max_position_embeddings\": 512,\n",
            "  \"num_attention_heads\": 12,\n",
            "  \"num_hidden_layers\": 12,\n",
            "  \"type_vocab_size\": 2,\n",
            "  \"vocab_size\": 30522\n",
            "}\n",
            "\n",
            "********************************************\n",
            "*** Start Prunning Model, rate: 0.4 ***\n",
            "********************************************\n",
            "05/10/2021 06:05:42 - INFO - root -   Loading eval examples and features.\n",
            "\n",
            "05/10/2021 06:05:45 - INFO - __main__ -   ***** Running evaluation *****\n",
            "05/10/2021 06:05:45 - INFO - __main__ -     Num examples = 9536\n",
            "05/10/2021 06:05:45 - INFO - __main__ -     Batch size = 128\n",
            "Inference: 100% 75/75 [11:18<00:00,  9.04s/it]\n",
            "05/10/2021 06:17:08 - INFO - __main__ -   EM: 0.5839974832214765, Drop EM: 0.6439807046979866\n",
            "05/10/2021 06:17:08 - INFO - __main__ -   saving predictions.jsonl in preds\n",
            "Chaz Schilens chaz schilens || 3 3 || Houston Texans raiders || 2 2 || 29 29 || JaMarcus Russell russell || 80 80-yard || 3 2 || 3 3 || 29 29 || 51 51 || 4 4 || 2 2 || 29 29 || 9 9 || 5 5 || 53 53 || 24 24 || 29 29 || T. J. Houshmandzadeh t. j. houshmandzadeh || Exact-match accuracy 64.40\n",
            "F1 score 68.39\n",
            "64.40   &   68.39\n",
            "----\n",
            "date: 150 (1.57%)\n",
            "  Exact-match accuracy 45.333\n",
            "  F1 score 56.813\n",
            "number: 5877 (61.63%)\n",
            "  Exact-match accuracy 69.202\n",
            "  F1 score 69.299\n",
            "span: 3032 (31.80%)\n",
            "  Exact-match accuracy 66.161\n",
            "  F1 score 72.914\n",
            "spans: 477 (5.00%)\n",
            "  Exact-match accuracy 0.000\n",
            "  F1 score 32.130\n"
          ],
          "name": "stdout"
        }
      ]
    },
    {
      "cell_type": "code",
      "metadata": {
        "colab": {
          "base_uri": "https://localhost:8080/"
        },
        "id": "IH3kYtMguExE",
        "outputId": "32685507-768d-4e3f-b045-e506062983a5"
      },
      "source": [
        "# Inference\n",
        "!python finetune_on_drop.py --do_eval --do_inference --examples_n_features_dir ./data/examples_n_features/ --eval_batch_size 128 --init_weights_dir out_drop_finetune_syntext_and_numeric  --output_dir preds --prune_rate 0.5\n",
        "# Evaluation\n",
        "!python drop_eval.py --gold_path ../data/drop_dataset_dev.json --prediction_path ./preds/predictions.jsonl --answer_key prediction"
      ],
      "execution_count": null,
      "outputs": [
        {
          "output_type": "stream",
          "text": [
            "05/10/2021 06:17:16 - INFO - pytorch_pretrained_bert.tokenization -   loading vocabulary file https://s3.amazonaws.com/models.huggingface.co/bert/bert-base-uncased-vocab.txt from cache at /root/.pytorch_pretrained_bert/26bc1ad6c0ac742e9b52263248f6d0f00068293b33709fae12320c0e35ccfbbb.542ce4285a40d23a559526243235df47c5f75c197f04f37d1a0c124c32c9a084\n",
            "05/10/2021 06:17:16 - INFO - __main__ -   device: cuda n_gpu: 1, distributed training: False, 16-bits training: False\n",
            "05/10/2021 06:17:16 - INFO - pytorch_pretrained_bert.tokenization -   loading vocabulary file https://s3.amazonaws.com/models.huggingface.co/bert/bert-base-uncased-vocab.txt from cache at /root/.pytorch_pretrained_bert/26bc1ad6c0ac742e9b52263248f6d0f00068293b33709fae12320c0e35ccfbbb.542ce4285a40d23a559526243235df47c5f75c197f04f37d1a0c124c32c9a084\n",
            "out_drop_finetune_syntext_and_numeric\n",
            "pytorch_model.bin\n",
            "05/10/2021 06:17:16 - INFO - modeling -   loading weights file out_drop_finetune_syntext_and_numeric/pytorch_model.bin\n",
            "05/10/2021 06:17:16 - INFO - modeling -   loading configuration file out_drop_finetune_syntext_and_numeric/config.json\n",
            "05/10/2021 06:17:16 - INFO - modeling -   Model config {\n",
            "  \"attention_probs_dropout_prob\": 0.1,\n",
            "  \"hidden_act\": \"gelu\",\n",
            "  \"hidden_dropout_prob\": 0.1,\n",
            "  \"hidden_size\": 768,\n",
            "  \"initializer_range\": 0.02,\n",
            "  \"intermediate_size\": 3072,\n",
            "  \"layer_norm_eps\": 1e-12,\n",
            "  \"max_position_embeddings\": 512,\n",
            "  \"num_attention_heads\": 12,\n",
            "  \"num_hidden_layers\": 12,\n",
            "  \"type_vocab_size\": 2,\n",
            "  \"vocab_size\": 30522\n",
            "}\n",
            "\n",
            "********************************************\n",
            "*** Start Prunning Model, rate: 0.5 ***\n",
            "********************************************\n",
            "05/10/2021 06:17:24 - INFO - root -   Loading eval examples and features.\n",
            "\n",
            "05/10/2021 06:17:26 - INFO - __main__ -   ***** Running evaluation *****\n",
            "05/10/2021 06:17:26 - INFO - __main__ -     Num examples = 9536\n",
            "05/10/2021 06:17:26 - INFO - __main__ -     Batch size = 128\n",
            "Inference: 100% 75/75 [11:18<00:00,  9.04s/it]\n",
            "05/10/2021 06:28:50 - INFO - __main__ -   EM: 0.44588926174496646, Drop EM: 0.5009437919463087\n",
            "05/10/2021 06:28:50 - INFO - __main__ -   saving predictions.jsonl in preds\n",
            "Chaz Schilens chaz schilens || 3 3 || Houston Texans raiders || 3 2 || 29 29 || JaMarcus Russell russell || 80 80-yard || 3 2 || 3 3 || 29 29 || 51 51 || 4 4 || 2 2 || 29 29 || 9 9 || 4 5 || 53 53 || 24 24 || 29 29 || T. J. Houshmandzadeh t. j. houshmandzadeh || Exact-match accuracy 50.09\n",
            "F1 score 54.24\n",
            "50.09   &   54.24\n",
            "----\n",
            "date: 149 (1.56%)\n",
            "  Exact-match accuracy 39.597\n",
            "  F1 score 48.289\n",
            "number: 5870 (61.56%)\n",
            "  Exact-match accuracy 50.562\n",
            "  F1 score 50.731\n",
            "span: 3034 (31.82%)\n",
            "  Exact-match accuracy 57.680\n",
            "  F1 score 65.412\n",
            "spans: 483 (5.07%)\n",
            "  Exact-match accuracy 0.000\n",
            "  F1 score 28.516\n"
          ],
          "name": "stdout"
        }
      ]
    },
    {
      "cell_type": "code",
      "metadata": {
        "colab": {
          "base_uri": "https://localhost:8080/"
        },
        "id": "qSkitcd_y47O",
        "outputId": "e359eb70-a479-4cc5-9247-4d745f5a19c3"
      },
      "source": [
        "# Inference\n",
        "!python finetune_on_drop.py --do_eval --do_inference --examples_n_features_dir ./data/examples_n_features/ --eval_batch_size 128 --init_weights_dir out_drop_finetune_syntext_and_numeric  --output_dir preds --prune_rate 0.6\n",
        "# Evaluation\n",
        "!python drop_eval.py --gold_path ../data/drop_dataset_dev.json --prediction_path ./preds/predictions.jsonl --answer_key prediction"
      ],
      "execution_count": null,
      "outputs": [
        {
          "output_type": "stream",
          "text": [
            "05/10/2021 06:28:58 - INFO - pytorch_pretrained_bert.tokenization -   loading vocabulary file https://s3.amazonaws.com/models.huggingface.co/bert/bert-base-uncased-vocab.txt from cache at /root/.pytorch_pretrained_bert/26bc1ad6c0ac742e9b52263248f6d0f00068293b33709fae12320c0e35ccfbbb.542ce4285a40d23a559526243235df47c5f75c197f04f37d1a0c124c32c9a084\n",
            "05/10/2021 06:28:58 - INFO - __main__ -   device: cuda n_gpu: 1, distributed training: False, 16-bits training: False\n",
            "05/10/2021 06:28:58 - INFO - pytorch_pretrained_bert.tokenization -   loading vocabulary file https://s3.amazonaws.com/models.huggingface.co/bert/bert-base-uncased-vocab.txt from cache at /root/.pytorch_pretrained_bert/26bc1ad6c0ac742e9b52263248f6d0f00068293b33709fae12320c0e35ccfbbb.542ce4285a40d23a559526243235df47c5f75c197f04f37d1a0c124c32c9a084\n",
            "out_drop_finetune_syntext_and_numeric\n",
            "pytorch_model.bin\n",
            "05/10/2021 06:28:58 - INFO - modeling -   loading weights file out_drop_finetune_syntext_and_numeric/pytorch_model.bin\n",
            "05/10/2021 06:28:58 - INFO - modeling -   loading configuration file out_drop_finetune_syntext_and_numeric/config.json\n",
            "05/10/2021 06:28:58 - INFO - modeling -   Model config {\n",
            "  \"attention_probs_dropout_prob\": 0.1,\n",
            "  \"hidden_act\": \"gelu\",\n",
            "  \"hidden_dropout_prob\": 0.1,\n",
            "  \"hidden_size\": 768,\n",
            "  \"initializer_range\": 0.02,\n",
            "  \"intermediate_size\": 3072,\n",
            "  \"layer_norm_eps\": 1e-12,\n",
            "  \"max_position_embeddings\": 512,\n",
            "  \"num_attention_heads\": 12,\n",
            "  \"num_hidden_layers\": 12,\n",
            "  \"type_vocab_size\": 2,\n",
            "  \"vocab_size\": 30522\n",
            "}\n",
            "\n",
            "********************************************\n",
            "*** Start Prunning Model, rate: 0.6 ***\n",
            "********************************************\n",
            "05/10/2021 06:29:06 - INFO - root -   Loading eval examples and features.\n",
            "\n",
            "05/10/2021 06:29:08 - INFO - __main__ -   ***** Running evaluation *****\n",
            "05/10/2021 06:29:08 - INFO - __main__ -     Num examples = 9536\n",
            "05/10/2021 06:29:08 - INFO - __main__ -     Batch size = 128\n",
            "Inference: 100% 75/75 [11:18<00:00,  9.05s/it]\n",
            "05/10/2021 06:40:36 - INFO - __main__ -   EM: 0.06763842281879194, Drop EM: 0.08661912751677853\n",
            "05/10/2021 06:40:36 - INFO - __main__ -   saving predictions.jsonl in preds\n",
            "Oakland would get the early lead in the first quarter as quarterback JaMarcus Russell chaz schilens || 53 3 || Raiders raiders || 30 - yard field goal . Houston 2 || 53 29 || Oakland would get the early lead in the first quarter as quarterback JaMarcus Russell russell || 29 80-yard || 30 - yard field goal . Houston would tie the game 2 || 33 3 || 53 29 || 80 51 || 29 4 || 29 2 || 29 29 || 29 9 || 30 - yard field goal . Houston would tie the game 5 || 53 53 || 30 24 || 53 29 || T. J. Houshmandzadeh t. j. houshmandzadeh || Exact-match accuracy 8.66\n",
            "F1 score 13.65\n",
            "8.66   &   13.65\n",
            "----\n",
            "date: 153 (1.60%)\n",
            "  Exact-match accuracy 16.340\n",
            "  F1 score 27.203\n",
            "number: 5861 (61.46%)\n",
            "  Exact-match accuracy 5.272\n",
            "  F1 score 6.116\n",
            "span: 3018 (31.65%)\n",
            "  Exact-match accuracy 16.302\n",
            "  F1 score 27.683\n",
            "spans: 504 (5.29%)\n",
            "  Exact-match accuracy 0.000\n",
            "  F1 score 13.034\n"
          ],
          "name": "stdout"
        }
      ]
    },
    {
      "cell_type": "code",
      "metadata": {
        "colab": {
          "base_uri": "https://localhost:8080/"
        },
        "id": "0TxzTgfqy41g",
        "outputId": "42a10b4b-2b68-40c5-9d56-2e652a32b38d"
      },
      "source": [
        "# Inference\n",
        "!python finetune_on_drop.py --do_eval --do_inference --examples_n_features_dir ./data/examples_n_features/ --eval_batch_size 128 --init_weights_dir out_drop_finetune_syntext_and_numeric  --output_dir preds --prune_rate 0.7\n",
        "# Evaluation\n",
        "!python drop_eval.py --gold_path ../data/drop_dataset_dev.json --prediction_path ./preds/predictions.jsonl --answer_key prediction"
      ],
      "execution_count": null,
      "outputs": [
        {
          "output_type": "stream",
          "text": [
            "05/10/2021 06:40:47 - INFO - pytorch_pretrained_bert.tokenization -   loading vocabulary file https://s3.amazonaws.com/models.huggingface.co/bert/bert-base-uncased-vocab.txt from cache at /root/.pytorch_pretrained_bert/26bc1ad6c0ac742e9b52263248f6d0f00068293b33709fae12320c0e35ccfbbb.542ce4285a40d23a559526243235df47c5f75c197f04f37d1a0c124c32c9a084\n",
            "05/10/2021 06:40:47 - INFO - __main__ -   device: cuda n_gpu: 1, distributed training: False, 16-bits training: False\n",
            "05/10/2021 06:40:47 - INFO - pytorch_pretrained_bert.tokenization -   loading vocabulary file https://s3.amazonaws.com/models.huggingface.co/bert/bert-base-uncased-vocab.txt from cache at /root/.pytorch_pretrained_bert/26bc1ad6c0ac742e9b52263248f6d0f00068293b33709fae12320c0e35ccfbbb.542ce4285a40d23a559526243235df47c5f75c197f04f37d1a0c124c32c9a084\n",
            "out_drop_finetune_syntext_and_numeric\n",
            "pytorch_model.bin\n",
            "05/10/2021 06:40:47 - INFO - modeling -   loading weights file out_drop_finetune_syntext_and_numeric/pytorch_model.bin\n",
            "05/10/2021 06:40:47 - INFO - modeling -   loading configuration file out_drop_finetune_syntext_and_numeric/config.json\n",
            "05/10/2021 06:40:47 - INFO - modeling -   Model config {\n",
            "  \"attention_probs_dropout_prob\": 0.1,\n",
            "  \"hidden_act\": \"gelu\",\n",
            "  \"hidden_dropout_prob\": 0.1,\n",
            "  \"hidden_size\": 768,\n",
            "  \"initializer_range\": 0.02,\n",
            "  \"intermediate_size\": 3072,\n",
            "  \"layer_norm_eps\": 1e-12,\n",
            "  \"max_position_embeddings\": 512,\n",
            "  \"num_attention_heads\": 12,\n",
            "  \"num_hidden_layers\": 12,\n",
            "  \"type_vocab_size\": 2,\n",
            "  \"vocab_size\": 30522\n",
            "}\n",
            "\n",
            "********************************************\n",
            "*** Start Prunning Model, rate: 0.7 ***\n",
            "********************************************\n",
            "05/10/2021 06:40:55 - INFO - root -   Loading eval examples and features.\n",
            "\n",
            "05/10/2021 06:40:57 - INFO - __main__ -   ***** Running evaluation *****\n",
            "05/10/2021 06:40:57 - INFO - __main__ -     Num examples = 9536\n",
            "05/10/2021 06:40:57 - INFO - __main__ -     Batch size = 128\n",
            "Inference: 100% 75/75 [11:18<00:00,  9.04s/it]\n",
            "05/10/2021 06:52:37 - INFO - __main__ -   EM: 0.0025167785234899327, Drop EM: 0.003460570469798658\n",
            "05/10/2021 06:52:37 - INFO - __main__ -   saving predictions.jsonl in preds\n",
            "16 duel with the Houston Texans . Oakland would get the early lead in the first quarter as quarterback JaMarcus Russell completed a 20 - yard touchdown pass to rookie wide receiver Chaz Schilens . The Texans would respond with fullback Vonta Leach getting a 1 - yard touchdown run , yet the Raiders would answer with kicker Sebastian Janikowski getting a 33 - yard and a 30 - yard field goal . Houston would tie the game chaz schilens || 1 - yard touchdown run , yet the Raiders would answer with kicker Sebastian Janikowski getting a 33 - yard and a 30 - yard field goal . Houston would tie the game 3 || 16 duel with the Houston Texans . Oakland would get the early lead in the first quarter as quarterback JaMarcus Russell completed a 20 - yard touchdown pass to rookie wide receiver Chaz Schilens . The Texans would respond with fullback Vonta Leach getting a 1 - yard touchdown run , yet the Raiders would answer with kicker Sebastian Janikowski getting a 33 - yard and a 30 - yard field goal . Houston would tie the game raiders || 16 duel with the Houston Texans . Oakland would get the early lead in the first quarter as quarterback JaMarcus Russell completed a 20 - yard touchdown pass to rookie wide receiver Chaz Schilens . The Texans would respond with fullback Vonta Leach getting a 1 - yard touchdown run , yet the Raiders would answer with kicker Sebastian Janikowski getting a 33 - yard and a 30 - yard field goal . Houston would tie the game 2 || 16 duel with the Houston Texans . Oakland would get the early lead in the first quarter as quarterback JaMarcus Russell completed a 20 - yard touchdown pass to rookie wide receiver Chaz Schilens . The Texans would respond with fullback Vonta Leach getting a 1 - yard touchdown run , yet the Raiders would answer with kicker Sebastian Janikowski getting a 33 - yard and a 30 - yard field goal . Houston would tie the game 29 || 16 duel with the Houston Texans . Oakland would get the early lead in the first quarter as quarterback JaMarcus Russell completed a 20 - yard touchdown pass to rookie wide receiver Chaz Schilens . The Texans would respond with fullback Vonta Leach getting a 1 - yard touchdown run , yet the Raiders would answer with kicker Sebastian Janikowski getting a 33 - yard and a 30 - yard field goal . Houston would tie the game russell || 16 duel with the Houston Texans . Oakland would get the early lead in the first quarter as quarterback JaMarcus Russell completed a 20 - yard touchdown pass to rookie wide receiver Chaz Schilens . The Texans would respond with fullback Vonta Leach getting a 1 - yard touchdown run , yet the Raiders would answer with kicker Sebastian Janikowski getting a 33 - yard and a 30 - yard field goal . Houston would tie the game 80-yard || 1 - yard touchdown run , yet the Raiders would answer with kicker Sebastian Janikowski getting a 33 - yard and a 30 - yard field goal . Houston would tie the game 2 || 1 - yard touchdown run , yet the Raiders would answer with kicker Sebastian Janikowski getting a 33 - yard and a 30 - yard field goal . Houston would tie the game 3 || 16 duel with the Houston Texans . Oakland would get the early lead in the first quarter as quarterback JaMarcus Russell completed a 20 - yard touchdown pass to rookie wide receiver Chaz Schilens . The Texans would respond with fullback Vonta Leach getting a 1 - yard touchdown run , yet the Raiders would answer with kicker Sebastian Janikowski getting a 33 - yard and a 30 - yard field goal . Houston would tie the game 29 || 24 - yard field goal . Oakland would take the lead in the third quarter with wide receiver Johnnie Lee Higgins catching a 29 - yard touchdown pass from Russell , followed up by an 80 51 || 16 duel with the Houston Texans . Oakland would get the early lead in the first quarter as quarterback JaMarcus Russell completed a 20 - yard touchdown pass to rookie wide receiver Chaz Schilens . The Texans would respond with fullback Vonta Leach getting a 1 - yard touchdown run , yet the Raiders would answer with kicker Sebastian Janikowski getting a 33 - yard and a 30 - yard field goal . Houston would tie the game 4 || 16 duel with the Houston Texans . Oakland would get the early lead in the first quarter as quarterback JaMarcus Russell completed a 20 - yard touchdown pass to rookie wide receiver Chaz Schilens . The Texans would respond with fullback Vonta Leach getting a 1 - yard touchdown run , yet the Raiders would answer with kicker Sebastian Janikowski getting a 33 - yard and a 30 - yard field goal . Houston would tie the game 2 || 29 29 || 16 duel with the Houston Texans . Oakland would get the early lead in the first quarter as quarterback JaMarcus Russell completed a 20 - yard touchdown pass to rookie wide receiver Chaz Schilens . The Texans would respond with fullback Vonta Leach getting a 1 - yard touchdown run , yet the Raiders would answer with kicker Sebastian Janikowski getting a 33 - yard and a 30 - yard field goal . Houston would tie the game 9 || 16 duel with the Houston Texans . Oakland would get the early lead in the first quarter as quarterback JaMarcus Russell completed a 20 - yard touchdown pass to rookie wide receiver Chaz Schilens . The Texans would respond with fullback Vonta Leach getting a 1 - yard touchdown run , yet the Raiders would answer with kicker Sebastian Janikowski getting a 33 - yard and a 30 - yard field goal . Houston would tie the game 5 || 16 duel with the Houston Texans . Oakland would get the early lead in the first quarter as quarterback JaMarcus Russell completed a 20 - yard touchdown pass to rookie wide receiver Chaz Schilens . The Texans would respond with fullback Vonta Leach getting a 1 - yard touchdown run , yet the Raiders would answer with kicker Sebastian Janikowski getting a 33 - yard and a 30 - yard field goal . Houston would tie the game 53 || 16 duel with the Houston Texans . Oakland would get the early lead in the first quarter as quarterback JaMarcus Russell completed a 20 - yard touchdown pass to rookie wide receiver Chaz Schilens . The Texans would respond with fullback Vonta Leach getting a 1 - yard touchdown run , yet the Raiders would answer with kicker Sebastian Janikowski getting a 33 - yard and a 30 - yard field goal . Houston would tie the game 24 || 16 duel with the Houston Texans . Oakland would get the early lead in the first quarter as quarterback JaMarcus Russell completed a 20 - yard touchdown pass to rookie wide receiver Chaz Schilens . The Texans would respond with fullback Vonta Leach getting a 1 - yard touchdown run , yet the Raiders would answer with kicker Sebastian Janikowski getting a 33 - yard and a 30 - yard field goal . Houston would tie the game 29 || 41 - yard and a 31 t. j. houshmandzadeh || Exact-match accuracy 0.35\n",
            "F1 score 3.01\n",
            "0.35   &   3.01\n",
            "----\n",
            "date: 151 (1.58%)\n",
            "  Exact-match accuracy 3.974\n",
            "  F1 score 12.709\n",
            "number: 5849 (61.34%)\n",
            "  Exact-match accuracy 0.445\n",
            "  F1 score 1.058\n",
            "span: 3036 (31.84%)\n",
            "  Exact-match accuracy 0.033\n",
            "  F1 score 6.082\n",
            "spans: 500 (5.24%)\n",
            "  Exact-match accuracy 0.000\n",
            "  F1 score 4.180\n"
          ],
          "name": "stdout"
        }
      ]
    },
    {
      "cell_type": "code",
      "metadata": {
        "colab": {
          "base_uri": "https://localhost:8080/"
        },
        "id": "I3rEz6Spy4vX",
        "outputId": "c37ad417-3cc7-4cb9-c242-035bd0d6ccf8"
      },
      "source": [
        "# Inference\n",
        "!python finetune_on_drop.py --do_eval --do_inference --examples_n_features_dir ./data/examples_n_features/ --eval_batch_size 128 --init_weights_dir out_drop_finetune_syntext_and_numeric  --output_dir preds --prune_rate 0.8\n",
        "# Evaluation\n",
        "!python drop_eval.py --gold_path ../data/drop_dataset_dev.json --prediction_path ./preds/predictions.jsonl --answer_key prediction"
      ],
      "execution_count": null,
      "outputs": [
        {
          "output_type": "stream",
          "text": [
            "05/10/2021 06:52:56 - INFO - pytorch_pretrained_bert.tokenization -   loading vocabulary file https://s3.amazonaws.com/models.huggingface.co/bert/bert-base-uncased-vocab.txt from cache at /root/.pytorch_pretrained_bert/26bc1ad6c0ac742e9b52263248f6d0f00068293b33709fae12320c0e35ccfbbb.542ce4285a40d23a559526243235df47c5f75c197f04f37d1a0c124c32c9a084\n",
            "05/10/2021 06:52:56 - INFO - __main__ -   device: cuda n_gpu: 1, distributed training: False, 16-bits training: False\n",
            "05/10/2021 06:52:56 - INFO - pytorch_pretrained_bert.tokenization -   loading vocabulary file https://s3.amazonaws.com/models.huggingface.co/bert/bert-base-uncased-vocab.txt from cache at /root/.pytorch_pretrained_bert/26bc1ad6c0ac742e9b52263248f6d0f00068293b33709fae12320c0e35ccfbbb.542ce4285a40d23a559526243235df47c5f75c197f04f37d1a0c124c32c9a084\n",
            "out_drop_finetune_syntext_and_numeric\n",
            "pytorch_model.bin\n",
            "05/10/2021 06:52:56 - INFO - modeling -   loading weights file out_drop_finetune_syntext_and_numeric/pytorch_model.bin\n",
            "05/10/2021 06:52:56 - INFO - modeling -   loading configuration file out_drop_finetune_syntext_and_numeric/config.json\n",
            "05/10/2021 06:52:56 - INFO - modeling -   Model config {\n",
            "  \"attention_probs_dropout_prob\": 0.1,\n",
            "  \"hidden_act\": \"gelu\",\n",
            "  \"hidden_dropout_prob\": 0.1,\n",
            "  \"hidden_size\": 768,\n",
            "  \"initializer_range\": 0.02,\n",
            "  \"intermediate_size\": 3072,\n",
            "  \"layer_norm_eps\": 1e-12,\n",
            "  \"max_position_embeddings\": 512,\n",
            "  \"num_attention_heads\": 12,\n",
            "  \"num_hidden_layers\": 12,\n",
            "  \"type_vocab_size\": 2,\n",
            "  \"vocab_size\": 30522\n",
            "}\n",
            "\n",
            "********************************************\n",
            "*** Start Prunning Model, rate: 0.8 ***\n",
            "********************************************\n",
            "05/10/2021 06:53:04 - INFO - root -   Loading eval examples and features.\n",
            "\n",
            "05/10/2021 06:53:06 - INFO - __main__ -   ***** Running evaluation *****\n",
            "05/10/2021 06:53:06 - INFO - __main__ -     Num examples = 9536\n",
            "05/10/2021 06:53:06 - INFO - __main__ -     Batch size = 128\n",
            "Inference: 100% 75/75 [11:18<00:00,  9.04s/it]\n",
            "05/10/2021 07:04:51 - INFO - __main__ -   EM: 0.0006291946308724832, Drop EM: 0.001153523489932886\n",
            "05/10/2021 07:04:51 - INFO - __main__ -   saving predictions.jsonl in preds\n",
            "16 duel with the Houston Texans . Oakland would get the early lead in the first quarter as quarterback JaMarcus Russell completed a 20 - yard touchdown pass to rookie wide receiver Chaz Schilens . The Texans would respond with fullback Vonta Leach getting a 1 - yard touchdown run , yet the Raiders would answer with kicker Sebastian Janikowski getting a 33 - yard and a 30 - yard field goal . Houston would tie the game in the second quarter with kicker Kris Brown getting a 53 chaz schilens || 16 duel with the Houston Texans . Oakland would get the early lead in the first quarter as quarterback JaMarcus Russell completed a 20 - yard touchdown pass to rookie wide receiver Chaz Schilens . The Texans would respond with fullback Vonta Leach getting a 1 - yard touchdown run , yet the Raiders would answer with kicker Sebastian Janikowski getting a 33 - yard and a 30 - yard field goal . Houston would tie the game in the second quarter with kicker Kris Brown getting a 53 3 || 16 duel with the Houston Texans . Oakland would get the early lead in the first quarter as quarterback JaMarcus Russell completed a 20 - yard touchdown pass to rookie wide receiver Chaz Schilens . The Texans would respond with fullback Vonta Leach getting a 1 - yard touchdown run , yet the Raiders would answer with kicker Sebastian Janikowski getting a 33 raiders || 16 duel with the Houston Texans . Oakland would get the early lead in the first quarter as quarterback JaMarcus Russell completed a 20 - yard touchdown pass to rookie wide receiver Chaz Schilens . The Texans would respond with fullback Vonta Leach getting a 1 - yard touchdown run , yet the Raiders would answer with kicker Sebastian Janikowski getting a 33 2 || 16 duel with the Houston Texans . Oakland would get the early lead in the first quarter as quarterback JaMarcus Russell completed a 20 - yard touchdown pass to rookie wide receiver Chaz Schilens . The Texans would respond with fullback Vonta Leach getting a 1 - yard touchdown run , yet the Raiders would answer with kicker Sebastian Janikowski getting a 33 - yard and a 30 - yard field goal . Houston would tie the game 29 || 16 duel with the Houston Texans . Oakland would get the early lead in the first quarter as quarterback JaMarcus Russell completed a 20 - yard touchdown pass to rookie wide receiver Chaz Schilens . The Texans would respond with fullback Vonta Leach getting a 1 - yard touchdown run , yet the Raiders would answer with kicker Sebastian Janikowski getting a 33 russell || 16 duel with the Houston Texans . Oakland would get the early lead in the first quarter as quarterback JaMarcus Russell completed a 20 - yard touchdown pass to rookie wide receiver Chaz Schilens . The Texans would respond with fullback Vonta Leach getting a 1 - yard touchdown run , yet the Raiders would answer with kicker Sebastian Janikowski getting a 33 80-yard || 16 duel with the Houston Texans . Oakland would get the early lead in the first quarter as quarterback JaMarcus Russell completed a 20 - yard touchdown pass to rookie wide receiver Chaz Schilens . The Texans would respond with fullback Vonta Leach getting a 1 - yard touchdown run , yet the Raiders would answer with kicker Sebastian Janikowski getting a 33 - yard and a 30 - yard field goal . Houston would tie the game 2 || 16 duel with the Houston Texans . Oakland would get the early lead in the first quarter as quarterback JaMarcus Russell completed a 20 - yard touchdown pass to rookie wide receiver Chaz Schilens . The Texans would respond with fullback Vonta Leach getting a 1 - yard touchdown run , yet the Raiders would answer with kicker Sebastian Janikowski getting a 33 - yard and a 30 - yard field goal . Houston would tie the game in the second quarter with kicker Kris Brown getting a 53 3 || 16 duel with the Houston Texans . Oakland would get the early lead in the first quarter as quarterback JaMarcus Russell completed a 20 - yard touchdown pass to rookie wide receiver Chaz Schilens . The Texans would respond with fullback Vonta Leach getting a 1 - yard touchdown run , yet the Raiders would answer with kicker Sebastian Janikowski getting a 33 29 || 16 duel with the Houston Texans . Oakland would get the early lead in the first quarter as quarterback JaMarcus Russell completed a 20 - yard touchdown pass to rookie wide receiver Chaz Schilens . The Texans would respond with fullback Vonta Leach getting a 1 - yard touchdown run , yet the Raiders would answer with kicker Sebastian Janikowski getting a 33 - yard and a 30 - yard field goal . Houston would tie the game in the second quarter with kicker Kris Brown getting a 53 51 || 16 duel with the Houston Texans . Oakland would get the early lead in the first quarter as quarterback JaMarcus Russell completed a 20 - yard touchdown pass to rookie wide receiver Chaz Schilens . The Texans would respond with fullback Vonta Leach getting a 1 - yard touchdown run , yet the Raiders would answer with kicker Sebastian Janikowski getting a 33 - yard and a 30 - yard field goal . Houston would tie the game in the second quarter with kicker Kris Brown getting a 53 4 || 16 duel with the Houston Texans . Oakland would get the early lead in the first quarter as quarterback JaMarcus Russell completed a 20 - yard touchdown pass to rookie wide receiver Chaz Schilens . The Texans would respond with fullback Vonta Leach getting a 1 - yard touchdown run , yet the Raiders would answer with kicker Sebastian Janikowski getting a 33 - yard and a 30 - yard field goal . Houston would tie the game in the second quarter with kicker Kris Brown getting a 53 2 || 16 duel with the Houston Texans . Oakland would get the early lead in the first quarter as quarterback JaMarcus Russell completed a 20 - yard touchdown pass to rookie wide receiver Chaz Schilens . The Texans would respond with fullback Vonta Leach getting a 1 - yard touchdown run , yet the Raiders would answer with kicker Sebastian Janikowski getting a 33 - yard and a 30 - yard field goal . Houston would tie the game in the second quarter with kicker Kris Brown getting a 53 29 || 1 - yard touchdown run , yet the Raiders would answer with kicker Sebastian Janikowski getting a 33 9 || 16 duel with the Houston Texans . Oakland would get the early lead in the first quarter as quarterback JaMarcus Russell completed a 20 - yard touchdown pass to rookie wide receiver Chaz Schilens . The Texans would respond with fullback Vonta Leach getting a 1 - yard touchdown run , yet the Raiders would answer with kicker Sebastian Janikowski getting a 33 - yard and a 30 - yard field goal . 5 || 16 duel with the Houston Texans . Oakland would get the early lead in the first quarter as quarterback JaMarcus Russell completed a 20 - yard touchdown pass to rookie wide receiver Chaz Schilens . The Texans would respond with fullback Vonta Leach getting a 1 - yard touchdown run , yet the Raiders would answer with kicker Sebastian Janikowski getting a 33 - yard and a 30 - yard field goal . Houston would tie the game 53 || 16 duel with the Houston Texans . Oakland would get the early lead in the first quarter as quarterback JaMarcus Russell completed a 20 - yard touchdown pass to rookie wide receiver Chaz Schilens . The Texans would respond with fullback Vonta Leach getting a 1 - yard touchdown run , yet the Raiders would answer with kicker Sebastian Janikowski getting a 33 - yard and a 30 - yard field goal . Houston would tie the game 24 || 1 - yard touchdown run , yet the Raiders would answer with kicker Sebastian Janikowski getting a 33 29 || 15 - yard TD pass to WR Patrick Crayton . t. j. houshmandzadeh || Exact-match accuracy 0.12\n",
            "F1 score 2.55\n",
            "0.12   &   2.55\n",
            "----\n",
            "date: 147 (1.54%)\n",
            "  Exact-match accuracy 0.000\n",
            "  F1 score 4.395\n",
            "number: 5836 (61.20%)\n",
            "  Exact-match accuracy 0.188\n",
            "  F1 score 0.737\n",
            "span: 3056 (32.05%)\n",
            "  Exact-match accuracy 0.000\n",
            "  F1 score 5.686\n",
            "spans: 497 (5.21%)\n",
            "  Exact-match accuracy 0.000\n",
            "  F1 score 4.068\n"
          ],
          "name": "stdout"
        }
      ]
    },
    {
      "cell_type": "code",
      "metadata": {
        "colab": {
          "base_uri": "https://localhost:8080/"
        },
        "id": "jzWNaVN6y4pR",
        "outputId": "eb07464b-39bc-411e-8ecd-12e1cc265ba0"
      },
      "source": [
        "# Inference\n",
        "!python finetune_on_drop.py --do_eval --do_inference --examples_n_features_dir ./data/examples_n_features/ --eval_batch_size 128 --init_weights_dir out_drop_finetune_syntext_and_numeric  --output_dir preds --prune_rate 0.9\n",
        "# Evaluation\n",
        "!python drop_eval.py --gold_path ../data/drop_dataset_dev.json --prediction_path ./preds/predictions.jsonl --answer_key prediction"
      ],
      "execution_count": null,
      "outputs": [
        {
          "output_type": "stream",
          "text": [
            "05/10/2021 07:05:12 - INFO - pytorch_pretrained_bert.tokenization -   loading vocabulary file https://s3.amazonaws.com/models.huggingface.co/bert/bert-base-uncased-vocab.txt from cache at /root/.pytorch_pretrained_bert/26bc1ad6c0ac742e9b52263248f6d0f00068293b33709fae12320c0e35ccfbbb.542ce4285a40d23a559526243235df47c5f75c197f04f37d1a0c124c32c9a084\n",
            "05/10/2021 07:05:12 - INFO - __main__ -   device: cuda n_gpu: 1, distributed training: False, 16-bits training: False\n",
            "05/10/2021 07:05:12 - INFO - pytorch_pretrained_bert.tokenization -   loading vocabulary file https://s3.amazonaws.com/models.huggingface.co/bert/bert-base-uncased-vocab.txt from cache at /root/.pytorch_pretrained_bert/26bc1ad6c0ac742e9b52263248f6d0f00068293b33709fae12320c0e35ccfbbb.542ce4285a40d23a559526243235df47c5f75c197f04f37d1a0c124c32c9a084\n",
            "out_drop_finetune_syntext_and_numeric\n",
            "pytorch_model.bin\n",
            "05/10/2021 07:05:12 - INFO - modeling -   loading weights file out_drop_finetune_syntext_and_numeric/pytorch_model.bin\n",
            "05/10/2021 07:05:12 - INFO - modeling -   loading configuration file out_drop_finetune_syntext_and_numeric/config.json\n",
            "05/10/2021 07:05:12 - INFO - modeling -   Model config {\n",
            "  \"attention_probs_dropout_prob\": 0.1,\n",
            "  \"hidden_act\": \"gelu\",\n",
            "  \"hidden_dropout_prob\": 0.1,\n",
            "  \"hidden_size\": 768,\n",
            "  \"initializer_range\": 0.02,\n",
            "  \"intermediate_size\": 3072,\n",
            "  \"layer_norm_eps\": 1e-12,\n",
            "  \"max_position_embeddings\": 512,\n",
            "  \"num_attention_heads\": 12,\n",
            "  \"num_hidden_layers\": 12,\n",
            "  \"type_vocab_size\": 2,\n",
            "  \"vocab_size\": 30522\n",
            "}\n",
            "\n",
            "********************************************\n",
            "*** Start Prunning Model, rate: 0.9 ***\n",
            "********************************************\n",
            "05/10/2021 07:05:19 - INFO - root -   Loading eval examples and features.\n",
            "\n",
            "05/10/2021 07:05:22 - INFO - __main__ -   ***** Running evaluation *****\n",
            "05/10/2021 07:05:22 - INFO - __main__ -     Num examples = 9536\n",
            "05/10/2021 07:05:22 - INFO - __main__ -     Batch size = 128\n",
            "Inference: 100% 75/75 [11:18<00:00,  9.04s/it]\n",
            "05/10/2021 07:17:05 - INFO - __main__ -   EM: 0.00010486577181208053, Drop EM: 0.00010486577181208053\n",
            "05/10/2021 07:17:05 - INFO - __main__ -   saving predictions.jsonl in preds\n",
            "Hoping to rebound from their loss to the Patriots , the Raiders stayed at home for a Week 16 duel with the Houston Texans . Oakland would get the early lead in the first quarter as quarterback JaMarcus Russell completed a 20 - yard touchdown pass to rookie wide receiver Chaz Schilens . The Texans would respond with fullback Vonta Leach getting a 1 - yard touchdown run , yet the Raiders would answer with kicker Sebastian Janikowski getting a 33 - yard and a 30 - yard field goal . Houston would tie the game in the second quarter with kicker Kris Brown getting a 53 chaz schilens || Hoping to rebound from their loss to the Patriots , the Raiders stayed at home for a Week 16 duel with the Houston Texans . Oakland would get the early lead in the first quarter as quarterback JaMarcus Russell completed a 20 - yard touchdown pass to rookie wide receiver Chaz Schilens . The Texans would respond with fullback Vonta Leach getting a 1 - yard touchdown run , yet the Raiders would answer with kicker Sebastian Janikowski getting a 33 - yard and a 30 - yard field goal . Houston would tie the game in the second quarter with kicker Kris Brown getting a 53 3 || Sebastian Janikowski getting a 33 - yard and a 30 - yard field goal . Houston would tie the game in the second quarter with kicker Kris Brown getting a 53 - yard and a 24 - yard field goal . Oakland would take the lead in the third quarter with wide receiver Johnnie Lee Higgins catching a 29 - yard touchdown pass from Russell , followed up by an 80 - yard punt return for a touchdown . The Texans tried to rally in the fourth quarter raiders || kicker Sebastian Janikowski getting a 33 - yard and a 30 - yard field goal . Houston would tie the game 2 || kicker Sebastian Janikowski getting a 33 - yard and a 30 - yard field goal . Houston would tie the game in the second quarter with kicker Kris Brown getting a 53 29 || Patriots , the Raiders stayed at home for a Week 16 duel with the Houston Texans . Oakland would get the early lead in the first quarter as quarterback JaMarcus Russell completed a 20 - yard touchdown pass to rookie wide receiver Chaz Schilens . The Texans would respond with fullback Vonta Leach getting a 1 - yard touchdown run , yet the Raiders would answer with kicker Sebastian Janikowski getting a 33 - yard and a 30 - yard field goal . Houston would tie the game in the second quarter with kicker Kris Brown getting a 53 - yard and a 24 - yard field goal . Oakland would take the lead in the third quarter with wide receiver Johnnie Lee Higgins catching a 29 - yard touchdown pass from Russell , followed up by an 80 - yard punt return for a touchdown . The Texans tried to rally in the fourth quarter russell || Hoping to rebound from their loss to the Patriots , the Raiders stayed at home for a Week 16 duel with the Houston Texans . Oakland would get the early lead in the first quarter as quarterback JaMarcus Russell completed a 20 - yard touchdown pass to rookie wide receiver Chaz Schilens . The Texans would respond with fullback Vonta Leach getting a 1 - yard touchdown run , yet the Raiders would answer with kicker Sebastian Janikowski getting a 33 - yard and a 30 - yard field goal . Houston would tie the game in the second quarter with kicker Kris Brown getting a 53 80-yard || kicker Sebastian Janikowski getting a 33 - yard and a 30 - yard field goal . Houston would tie the game in the second quarter with kicker Kris Brown getting a 53 2 || 20 - yard touchdown pass to rookie wide receiver Chaz Schilens . The Texans would respond with fullback Vonta Leach getting a 1 - yard touchdown run , yet the Raiders would answer with kicker Sebastian Janikowski getting a 33 - yard and a 30 - yard field goal . Houston would tie the game in the second quarter with kicker Kris Brown getting a 53 3 || fullback Vonta Leach getting a 1 - yard touchdown run , yet the Raiders would answer with kicker Sebastian Janikowski getting a 33 - yard and a 30 - yard field goal . Houston would tie the game in the second quarter with kicker Kris Brown getting a 53 29 || 20 - yard touchdown pass to rookie wide receiver Chaz Schilens . The Texans would respond with fullback Vonta Leach getting a 1 - yard touchdown run , yet the Raiders would answer with kicker Sebastian Janikowski getting a 33 - yard and a 30 - yard field goal . Houston would tie the game in the second quarter with kicker Kris Brown getting a 53 51 || Hoping to rebound from their loss to the Patriots , the Raiders stayed at home for a Week 16 duel with the Houston Texans . Oakland would get the early lead in the first quarter as quarterback JaMarcus Russell completed a 20 - yard touchdown pass to rookie wide receiver Chaz Schilens . The Texans would respond with fullback Vonta Leach getting a 1 - yard touchdown run , yet the Raiders would answer with kicker Sebastian Janikowski getting a 33 - yard and a 30 - yard field goal . Houston would tie the game in the second quarter with kicker Kris Brown getting a 53 4 || Hoping to rebound from their loss to the Patriots , the Raiders stayed at home for a Week 16 duel with the Houston Texans . Oakland would get the early lead in the first quarter as quarterback JaMarcus Russell completed a 20 - yard touchdown pass to rookie wide receiver Chaz Schilens . The Texans would respond with fullback Vonta Leach getting a 1 - yard touchdown run , yet the Raiders would answer with kicker Sebastian Janikowski getting a 33 - yard and a 30 - yard field goal . Houston would tie the game in the second quarter with kicker Kris Brown getting a 53 2 || Hoping to rebound from their loss to the Patriots , the Raiders stayed at home for a Week 16 duel with the Houston Texans . Oakland would get the early lead in the first quarter as quarterback JaMarcus Russell completed a 20 - yard touchdown pass to rookie wide receiver Chaz Schilens . The Texans would respond with fullback Vonta Leach getting a 1 - yard touchdown run , yet the Raiders would answer with kicker Sebastian Janikowski getting a 33 - yard and a 30 - yard field goal . Houston would tie the game in the second quarter with kicker Kris Brown getting a 53 29 || Hoping to rebound from their loss to the Patriots , the Raiders stayed at home 9 || Hoping to rebound from their loss to the Patriots , the Raiders stayed at home for a Week 16 duel with the Houston Texans . Oakland would get the early lead in the first quarter as quarterback JaMarcus Russell completed a 20 - yard touchdown pass to rookie wide receiver Chaz Schilens . The Texans would respond with fullback Vonta Leach getting a 1 - yard touchdown run , yet the Raiders would answer with kicker Sebastian Janikowski getting a 33 - yard and a 30 - yard field goal . Houston would tie the game in the second quarter with kicker Kris Brown getting a 53 5 || Hoping to rebound from their loss to the Patriots , the Raiders stayed at home for a Week 16 53 || Hoping to rebound from their loss to the Patriots , the Raiders stayed at home for a Week 16 24 || kicker Sebastian Janikowski getting a 33 - yard and a 30 - yard field goal . Houston would tie the game 29 || Nick Folk got a 30 - yard field goal , along with RB Felix Jones getting a 33 t. j. houshmandzadeh || Exact-match accuracy 0.01\n",
            "F1 score 2.35\n",
            "0.01   &   2.35\n",
            "----\n",
            "date: 150 (1.57%)\n",
            "  Exact-match accuracy 0.000\n",
            "  F1 score 2.533\n",
            "number: 5833 (61.17%)\n",
            "  Exact-match accuracy 0.017\n",
            "  F1 score 0.459\n",
            "span: 3068 (32.17%)\n",
            "  Exact-match accuracy 0.000\n",
            "  F1 score 5.631\n",
            "spans: 485 (5.09%)\n",
            "  Exact-match accuracy 0.000\n",
            "  F1 score 4.252\n"
          ],
          "name": "stdout"
        }
      ]
    },
    {
      "cell_type": "markdown",
      "metadata": {
        "id": "_NRkOaqBJ9Ac"
      },
      "source": [
        "### Local attention.output.dense Layer Pruning"
      ]
    },
    {
      "cell_type": "code",
      "metadata": {
        "colab": {
          "base_uri": "https://localhost:8080/"
        },
        "id": "61YV4I3YLHy6",
        "outputId": "b38b3772-fd40-4cfb-e6ff-c3b85fe1b1ca"
      },
      "source": [
        "# Inference\n",
        "!python finetune_on_drop.py \\\n",
        "  --do_eval --do_inference  \\\n",
        "  --examples_n_features_dir ./data/examples_n_features/ \\\n",
        "  --eval_batch_size 128 \\\n",
        "  --init_weights_dir out_drop_finetune_syntext_and_numeric  \\\n",
        "  --output_dir preds_attention_output_dense \\\n",
        "  --prune_rate 0.1 \\\n",
        "  --prune_layer_name  \"attention.output.dense\"\n",
        "# Evaluation\n",
        "!python drop_eval.py --gold_path ../data/drop_dataset_dev.json --prediction_path ./preds_attention_output_dense/predictions.jsonl --answer_key prediction"
      ],
      "execution_count": null,
      "outputs": [
        {
          "output_type": "stream",
          "text": [
            "05/10/2021 13:02:21 - INFO - pytorch_pretrained_bert.file_utils -   https://s3.amazonaws.com/models.huggingface.co/bert/bert-base-uncased-vocab.txt not found in cache, downloading to /tmp/tmpcjsgr1a0\n",
            "100% 231508/231508 [00:00<00:00, 1195734.00B/s]\n",
            "05/10/2021 13:02:22 - INFO - pytorch_pretrained_bert.file_utils -   copying /tmp/tmpcjsgr1a0 to cache at /root/.pytorch_pretrained_bert/26bc1ad6c0ac742e9b52263248f6d0f00068293b33709fae12320c0e35ccfbbb.542ce4285a40d23a559526243235df47c5f75c197f04f37d1a0c124c32c9a084\n",
            "05/10/2021 13:02:22 - INFO - pytorch_pretrained_bert.file_utils -   creating metadata file for /root/.pytorch_pretrained_bert/26bc1ad6c0ac742e9b52263248f6d0f00068293b33709fae12320c0e35ccfbbb.542ce4285a40d23a559526243235df47c5f75c197f04f37d1a0c124c32c9a084\n",
            "05/10/2021 13:02:22 - INFO - pytorch_pretrained_bert.file_utils -   removing temp file /tmp/tmpcjsgr1a0\n",
            "05/10/2021 13:02:22 - INFO - pytorch_pretrained_bert.tokenization -   loading vocabulary file https://s3.amazonaws.com/models.huggingface.co/bert/bert-base-uncased-vocab.txt from cache at /root/.pytorch_pretrained_bert/26bc1ad6c0ac742e9b52263248f6d0f00068293b33709fae12320c0e35ccfbbb.542ce4285a40d23a559526243235df47c5f75c197f04f37d1a0c124c32c9a084\n",
            "05/10/2021 13:02:22 - INFO - __main__ -   device: cuda n_gpu: 1, distributed training: False, 16-bits training: False\n",
            "05/10/2021 13:02:23 - INFO - pytorch_pretrained_bert.tokenization -   loading vocabulary file https://s3.amazonaws.com/models.huggingface.co/bert/bert-base-uncased-vocab.txt from cache at /root/.pytorch_pretrained_bert/26bc1ad6c0ac742e9b52263248f6d0f00068293b33709fae12320c0e35ccfbbb.542ce4285a40d23a559526243235df47c5f75c197f04f37d1a0c124c32c9a084\n",
            "out_drop_finetune_syntext_and_numeric\n",
            "pytorch_model.bin\n",
            "05/10/2021 13:02:23 - INFO - modeling -   loading weights file out_drop_finetune_syntext_and_numeric/pytorch_model.bin\n",
            "05/10/2021 13:02:23 - INFO - modeling -   loading configuration file out_drop_finetune_syntext_and_numeric/config.json\n",
            "05/10/2021 13:02:23 - INFO - modeling -   Model config {\n",
            "  \"attention_probs_dropout_prob\": 0.1,\n",
            "  \"hidden_act\": \"gelu\",\n",
            "  \"hidden_dropout_prob\": 0.1,\n",
            "  \"hidden_size\": 768,\n",
            "  \"initializer_range\": 0.02,\n",
            "  \"intermediate_size\": 3072,\n",
            "  \"layer_norm_eps\": 1e-12,\n",
            "  \"max_position_embeddings\": 512,\n",
            "  \"num_attention_heads\": 12,\n",
            "  \"num_hidden_layers\": 12,\n",
            "  \"type_vocab_size\": 2,\n",
            "  \"vocab_size\": 30522\n",
            "}\n",
            "\n",
            "********************************************\n",
            "*** Start Prunning Model, rate: 0.1 ***\n",
            "********************************************\n",
            "Global Sparsity: 0.8336043360433605%\n",
            "05/10/2021 13:02:33 - INFO - root -   Loading eval examples and features.\n",
            "\n",
            "05/10/2021 13:02:38 - INFO - __main__ -   ***** Running evaluation *****\n",
            "05/10/2021 13:02:38 - INFO - __main__ -     Num examples = 9536\n",
            "05/10/2021 13:02:38 - INFO - __main__ -     Batch size = 128\n",
            "Inference: 100% 75/75 [11:18<00:00,  9.04s/it]\n",
            "05/10/2021 13:14:01 - INFO - __main__ -   EM: 0.6267827181208053, Drop EM: 0.6885486577181208\n",
            "05/10/2021 13:14:01 - INFO - __main__ -   saving predictions.jsonl in preds_attention_output_dense\n",
            "Chaz Schilens chaz schilens || 3 3 || Houston Texans raiders || 2 2 || 29 29 || JaMarcus Russell russell || 80 80-yard || 2 2 || 3 3 || 29 29 || 51 51 || 4 4 || 2 2 || 29 29 || 9 9 || 5 5 || 53 53 || 24 24 || 29 29 || T. J. Houshmandzadeh t. j. houshmandzadeh || Exact-match accuracy 68.85\n",
            "F1 score 72.79\n",
            "68.85   &   72.79\n",
            "----\n",
            "date: 149 (1.56%)\n",
            "  Exact-match accuracy 42.282\n",
            "  F1 score 55.651\n",
            "number: 5888 (61.74%)\n",
            "  Exact-match accuracy 75.289\n",
            "  F1 score 75.365\n",
            "span: 3019 (31.66%)\n",
            "  Exact-match accuracy 68.566\n",
            "  F1 score 74.974\n",
            "spans: 480 (5.03%)\n",
            "  Exact-match accuracy 0.000\n",
            "  F1 score 32.840\n"
          ],
          "name": "stdout"
        }
      ]
    },
    {
      "cell_type": "code",
      "metadata": {
        "id": "I4PYag76LHq8",
        "colab": {
          "base_uri": "https://localhost:8080/"
        },
        "outputId": "d90217fb-8130-4459-a5c9-4f64f22c0cee"
      },
      "source": [
        "# Inference\n",
        "!python finetune_on_drop.py \\\n",
        "  --do_eval --do_inference  \\\n",
        "  --examples_n_features_dir ./data/examples_n_features/ \\\n",
        "  --eval_batch_size 128 \\\n",
        "  --init_weights_dir out_drop_finetune_syntext_and_numeric  \\\n",
        "  --output_dir preds_attention_output_dense \\\n",
        "  --prune_rate 0.2 \\\n",
        "  --prune_layer_name  \"attention.output.dense\"\n",
        "# Evaluation\n",
        "!python drop_eval.py --gold_path ../data/drop_dataset_dev.json --prediction_path ./preds_attention_output_dense/predictions.jsonl --answer_key prediction"
      ],
      "execution_count": null,
      "outputs": [
        {
          "output_type": "stream",
          "text": [
            "05/10/2021 13:14:10 - INFO - pytorch_pretrained_bert.tokenization -   loading vocabulary file https://s3.amazonaws.com/models.huggingface.co/bert/bert-base-uncased-vocab.txt from cache at /root/.pytorch_pretrained_bert/26bc1ad6c0ac742e9b52263248f6d0f00068293b33709fae12320c0e35ccfbbb.542ce4285a40d23a559526243235df47c5f75c197f04f37d1a0c124c32c9a084\n",
            "05/10/2021 13:14:10 - INFO - __main__ -   device: cuda n_gpu: 1, distributed training: False, 16-bits training: False\n",
            "05/10/2021 13:14:10 - INFO - pytorch_pretrained_bert.tokenization -   loading vocabulary file https://s3.amazonaws.com/models.huggingface.co/bert/bert-base-uncased-vocab.txt from cache at /root/.pytorch_pretrained_bert/26bc1ad6c0ac742e9b52263248f6d0f00068293b33709fae12320c0e35ccfbbb.542ce4285a40d23a559526243235df47c5f75c197f04f37d1a0c124c32c9a084\n",
            "out_drop_finetune_syntext_and_numeric\n",
            "pytorch_model.bin\n",
            "05/10/2021 13:14:10 - INFO - modeling -   loading weights file out_drop_finetune_syntext_and_numeric/pytorch_model.bin\n",
            "05/10/2021 13:14:10 - INFO - modeling -   loading configuration file out_drop_finetune_syntext_and_numeric/config.json\n",
            "05/10/2021 13:14:10 - INFO - modeling -   Model config {\n",
            "  \"attention_probs_dropout_prob\": 0.1,\n",
            "  \"hidden_act\": \"gelu\",\n",
            "  \"hidden_dropout_prob\": 0.1,\n",
            "  \"hidden_size\": 768,\n",
            "  \"initializer_range\": 0.02,\n",
            "  \"intermediate_size\": 3072,\n",
            "  \"layer_norm_eps\": 1e-12,\n",
            "  \"max_position_embeddings\": 512,\n",
            "  \"num_attention_heads\": 12,\n",
            "  \"num_hidden_layers\": 12,\n",
            "  \"type_vocab_size\": 2,\n",
            "  \"vocab_size\": 30522\n",
            "}\n",
            "\n",
            "********************************************\n",
            "*** Start Prunning Model, rate: 0.2 ***\n",
            "********************************************\n",
            "Global Sparsity: 1.667208672086721%\n",
            "05/10/2021 13:14:16 - INFO - root -   Loading eval examples and features.\n",
            "\n",
            "05/10/2021 13:14:18 - INFO - __main__ -   ***** Running evaluation *****\n",
            "05/10/2021 13:14:18 - INFO - __main__ -     Num examples = 9536\n",
            "05/10/2021 13:14:18 - INFO - __main__ -     Batch size = 128\n",
            "Inference: 100% 75/75 [11:18<00:00,  9.04s/it]\n",
            "05/10/2021 13:25:41 - INFO - __main__ -   EM: 0.6274119127516778, Drop EM: 0.6884437919463087\n",
            "05/10/2021 13:25:41 - INFO - __main__ -   saving predictions.jsonl in preds_attention_output_dense\n",
            "Chaz Schilens chaz schilens || 3 3 || Houston Texans raiders || 2 2 || 29 29 || JaMarcus Russell russell || 80 80-yard || 2 2 || 3 3 || 29 29 || 51 51 || 4 4 || 2 2 || 29 29 || 9 9 || 5 5 || 53 53 || 24 24 || 29 29 || T. J. Houshmandzadeh t. j. houshmandzadeh || Exact-match accuracy 68.84\n",
            "F1 score 72.73\n",
            "68.84   &   72.73\n",
            "----\n",
            "date: 148 (1.55%)\n",
            "  Exact-match accuracy 43.919\n",
            "  F1 score 56.946\n",
            "number: 5887 (61.73%)\n",
            "  Exact-match accuracy 75.200\n",
            "  F1 score 75.276\n",
            "span: 3020 (31.67%)\n",
            "  Exact-match accuracy 68.642\n",
            "  F1 score 74.921\n",
            "spans: 481 (5.04%)\n",
            "  Exact-match accuracy 0.000\n",
            "  F1 score 32.696\n"
          ],
          "name": "stdout"
        }
      ]
    },
    {
      "cell_type": "code",
      "metadata": {
        "id": "RRL0Bve5LHi6",
        "colab": {
          "base_uri": "https://localhost:8080/"
        },
        "outputId": "915b984d-f7fd-4b95-f33e-4afcd6ffaa3c"
      },
      "source": [
        "# Inference\n",
        "!python finetune_on_drop.py \\\n",
        "  --do_eval --do_inference  \\\n",
        "  --examples_n_features_dir ./data/examples_n_features/ \\\n",
        "  --eval_batch_size 128 \\\n",
        "  --init_weights_dir out_drop_finetune_syntext_and_numeric  \\\n",
        "  --output_dir preds_attention_output_dense \\\n",
        "  --prune_rate 0.3 \\\n",
        "  --prune_layer_name  \"attention.output.dense\"\n",
        "# Evaluation\n",
        "!python drop_eval.py --gold_path ../data/drop_dataset_dev.json --prediction_path ./preds_attention_output_dense/predictions.jsonl --answer_key prediction"
      ],
      "execution_count": null,
      "outputs": [
        {
          "output_type": "stream",
          "text": [
            "05/10/2021 13:25:48 - INFO - pytorch_pretrained_bert.tokenization -   loading vocabulary file https://s3.amazonaws.com/models.huggingface.co/bert/bert-base-uncased-vocab.txt from cache at /root/.pytorch_pretrained_bert/26bc1ad6c0ac742e9b52263248f6d0f00068293b33709fae12320c0e35ccfbbb.542ce4285a40d23a559526243235df47c5f75c197f04f37d1a0c124c32c9a084\n",
            "05/10/2021 13:25:49 - INFO - __main__ -   device: cuda n_gpu: 1, distributed training: False, 16-bits training: False\n",
            "05/10/2021 13:25:49 - INFO - pytorch_pretrained_bert.tokenization -   loading vocabulary file https://s3.amazonaws.com/models.huggingface.co/bert/bert-base-uncased-vocab.txt from cache at /root/.pytorch_pretrained_bert/26bc1ad6c0ac742e9b52263248f6d0f00068293b33709fae12320c0e35ccfbbb.542ce4285a40d23a559526243235df47c5f75c197f04f37d1a0c124c32c9a084\n",
            "out_drop_finetune_syntext_and_numeric\n",
            "pytorch_model.bin\n",
            "05/10/2021 13:25:49 - INFO - modeling -   loading weights file out_drop_finetune_syntext_and_numeric/pytorch_model.bin\n",
            "05/10/2021 13:25:49 - INFO - modeling -   loading configuration file out_drop_finetune_syntext_and_numeric/config.json\n",
            "05/10/2021 13:25:49 - INFO - modeling -   Model config {\n",
            "  \"attention_probs_dropout_prob\": 0.1,\n",
            "  \"hidden_act\": \"gelu\",\n",
            "  \"hidden_dropout_prob\": 0.1,\n",
            "  \"hidden_size\": 768,\n",
            "  \"initializer_range\": 0.02,\n",
            "  \"intermediate_size\": 3072,\n",
            "  \"layer_norm_eps\": 1e-12,\n",
            "  \"max_position_embeddings\": 512,\n",
            "  \"num_attention_heads\": 12,\n",
            "  \"num_hidden_layers\": 12,\n",
            "  \"type_vocab_size\": 2,\n",
            "  \"vocab_size\": 30522\n",
            "}\n",
            "\n",
            "********************************************\n",
            "*** Start Prunning Model, rate: 0.3 ***\n",
            "********************************************\n",
            "Global Sparsity: 2.500813008130081%\n",
            "05/10/2021 13:25:55 - INFO - root -   Loading eval examples and features.\n",
            "\n",
            "05/10/2021 13:25:57 - INFO - __main__ -   ***** Running evaluation *****\n",
            "05/10/2021 13:25:57 - INFO - __main__ -     Num examples = 9536\n",
            "05/10/2021 13:25:57 - INFO - __main__ -     Batch size = 128\n",
            "Inference: 100% 75/75 [11:18<00:00,  9.04s/it]\n",
            "05/10/2021 13:37:20 - INFO - __main__ -   EM: 0.6264681208053692, Drop EM: 0.6872902684563759\n",
            "05/10/2021 13:37:20 - INFO - __main__ -   saving predictions.jsonl in preds_attention_output_dense\n",
            "Chaz Schilens chaz schilens || 3 3 || Houston Texans raiders || 2 2 || 29 29 || JaMarcus Russell russell || 80 80-yard || 2 2 || 3 3 || 29 29 || 51 51 || 4 4 || 2 2 || 29 29 || 9 9 || 5 5 || 53 53 || 24 24 || 29 29 || T. J. Houshmandzadeh t. j. houshmandzadeh || Exact-match accuracy 68.73\n",
            "F1 score 72.59\n",
            "68.73   &   72.59\n",
            "----\n",
            "date: 147 (1.54%)\n",
            "  Exact-match accuracy 44.218\n",
            "  F1 score 57.823\n",
            "number: 5889 (61.76%)\n",
            "  Exact-match accuracy 74.970\n",
            "  F1 score 75.046\n",
            "span: 3016 (31.63%)\n",
            "  Exact-match accuracy 68.767\n",
            "  F1 score 74.999\n",
            "spans: 484 (5.08%)\n",
            "  Exact-match accuracy 0.000\n",
            "  F1 score 32.264\n"
          ],
          "name": "stdout"
        }
      ]
    },
    {
      "cell_type": "code",
      "metadata": {
        "id": "iDVQktbuLHbE",
        "colab": {
          "base_uri": "https://localhost:8080/"
        },
        "outputId": "f4cfd18c-5104-4c87-a8ba-cd7a4454bbfb"
      },
      "source": [
        "# Inference\n",
        "!python finetune_on_drop.py \\\n",
        "  --do_eval --do_inference  \\\n",
        "  --examples_n_features_dir ./data/examples_n_features/ \\\n",
        "  --eval_batch_size 128 \\\n",
        "  --init_weights_dir out_drop_finetune_syntext_and_numeric  \\\n",
        "  --output_dir preds_attention_output_dense \\\n",
        "  --prune_rate 0.4 \\\n",
        "  --prune_layer_name  \"attention.output.dense\"\n",
        "# Evaluation\n",
        "!python drop_eval.py --gold_path ../data/drop_dataset_dev.json --prediction_path ./preds_attention_output_dense/predictions.jsonl --answer_key prediction"
      ],
      "execution_count": null,
      "outputs": [
        {
          "output_type": "stream",
          "text": [
            "05/10/2021 13:37:27 - INFO - pytorch_pretrained_bert.tokenization -   loading vocabulary file https://s3.amazonaws.com/models.huggingface.co/bert/bert-base-uncased-vocab.txt from cache at /root/.pytorch_pretrained_bert/26bc1ad6c0ac742e9b52263248f6d0f00068293b33709fae12320c0e35ccfbbb.542ce4285a40d23a559526243235df47c5f75c197f04f37d1a0c124c32c9a084\n",
            "05/10/2021 13:37:27 - INFO - __main__ -   device: cuda n_gpu: 1, distributed training: False, 16-bits training: False\n",
            "05/10/2021 13:37:28 - INFO - pytorch_pretrained_bert.tokenization -   loading vocabulary file https://s3.amazonaws.com/models.huggingface.co/bert/bert-base-uncased-vocab.txt from cache at /root/.pytorch_pretrained_bert/26bc1ad6c0ac742e9b52263248f6d0f00068293b33709fae12320c0e35ccfbbb.542ce4285a40d23a559526243235df47c5f75c197f04f37d1a0c124c32c9a084\n",
            "out_drop_finetune_syntext_and_numeric\n",
            "pytorch_model.bin\n",
            "05/10/2021 13:37:28 - INFO - modeling -   loading weights file out_drop_finetune_syntext_and_numeric/pytorch_model.bin\n",
            "05/10/2021 13:37:28 - INFO - modeling -   loading configuration file out_drop_finetune_syntext_and_numeric/config.json\n",
            "05/10/2021 13:37:28 - INFO - modeling -   Model config {\n",
            "  \"attention_probs_dropout_prob\": 0.1,\n",
            "  \"hidden_act\": \"gelu\",\n",
            "  \"hidden_dropout_prob\": 0.1,\n",
            "  \"hidden_size\": 768,\n",
            "  \"initializer_range\": 0.02,\n",
            "  \"intermediate_size\": 3072,\n",
            "  \"layer_norm_eps\": 1e-12,\n",
            "  \"max_position_embeddings\": 512,\n",
            "  \"num_attention_heads\": 12,\n",
            "  \"num_hidden_layers\": 12,\n",
            "  \"type_vocab_size\": 2,\n",
            "  \"vocab_size\": 30522\n",
            "}\n",
            "\n",
            "********************************************\n",
            "*** Start Prunning Model, rate: 0.4 ***\n",
            "********************************************\n",
            "Global Sparsity: 3.334417344173442%\n",
            "05/10/2021 13:37:34 - INFO - root -   Loading eval examples and features.\n",
            "\n",
            "05/10/2021 13:37:36 - INFO - __main__ -   ***** Running evaluation *****\n",
            "05/10/2021 13:37:36 - INFO - __main__ -     Num examples = 9536\n",
            "05/10/2021 13:37:36 - INFO - __main__ -     Batch size = 128\n",
            "Inference: 100% 75/75 [11:18<00:00,  9.04s/it]\n",
            "05/10/2021 13:48:59 - INFO - __main__ -   EM: 0.6226929530201343, Drop EM: 0.683619966442953\n",
            "05/10/2021 13:48:59 - INFO - __main__ -   saving predictions.jsonl in preds_attention_output_dense\n",
            "Chaz Schilens chaz schilens || 3 3 || Houston Texans raiders || 2 2 || 29 29 || JaMarcus Russell russell || 80 80-yard || 3 2 || 3 3 || 29 29 || 51 51 || 4 4 || 2 2 || 29 29 || 9 9 || 5 5 || 53 53 || 24 24 || 29 29 || T. J. Houshmandzadeh t. j. houshmandzadeh || Exact-match accuracy 68.36\n",
            "F1 score 72.29\n",
            "68.36   &   72.29\n",
            "----\n",
            "date: 147 (1.54%)\n",
            "  Exact-match accuracy 42.857\n",
            "  F1 score 56.136\n",
            "number: 5887 (61.73%)\n",
            "  Exact-match accuracy 74.707\n",
            "  F1 score 74.797\n",
            "span: 3022 (31.69%)\n",
            "  Exact-match accuracy 68.101\n",
            "  F1 score 74.387\n",
            "spans: 480 (5.03%)\n",
            "  Exact-match accuracy 0.000\n",
            "  F1 score 33.319\n"
          ],
          "name": "stdout"
        }
      ]
    },
    {
      "cell_type": "code",
      "metadata": {
        "id": "E-CA9ON5LHTR",
        "colab": {
          "base_uri": "https://localhost:8080/"
        },
        "outputId": "0348dfca-069d-4d97-c8f4-0b65a30af3c0"
      },
      "source": [
        "# Inference\n",
        "!python finetune_on_drop.py \\\n",
        "  --do_eval --do_inference  \\\n",
        "  --examples_n_features_dir ./data/examples_n_features/ \\\n",
        "  --eval_batch_size 128 \\\n",
        "  --init_weights_dir out_drop_finetune_syntext_and_numeric  \\\n",
        "  --output_dir preds_attention_output_dense \\\n",
        "  --prune_rate 0.5 \\\n",
        "  --prune_layer_name  \"attention.output.dense\"\n",
        "# Evaluation\n",
        "!python drop_eval.py --gold_path ../data/drop_dataset_dev.json --prediction_path ./preds_attention_output_dense/predictions.jsonl --answer_key prediction"
      ],
      "execution_count": null,
      "outputs": [
        {
          "output_type": "stream",
          "text": [
            "05/10/2021 13:49:06 - INFO - pytorch_pretrained_bert.tokenization -   loading vocabulary file https://s3.amazonaws.com/models.huggingface.co/bert/bert-base-uncased-vocab.txt from cache at /root/.pytorch_pretrained_bert/26bc1ad6c0ac742e9b52263248f6d0f00068293b33709fae12320c0e35ccfbbb.542ce4285a40d23a559526243235df47c5f75c197f04f37d1a0c124c32c9a084\n",
            "05/10/2021 13:49:06 - INFO - __main__ -   device: cuda n_gpu: 1, distributed training: False, 16-bits training: False\n",
            "05/10/2021 13:49:06 - INFO - pytorch_pretrained_bert.tokenization -   loading vocabulary file https://s3.amazonaws.com/models.huggingface.co/bert/bert-base-uncased-vocab.txt from cache at /root/.pytorch_pretrained_bert/26bc1ad6c0ac742e9b52263248f6d0f00068293b33709fae12320c0e35ccfbbb.542ce4285a40d23a559526243235df47c5f75c197f04f37d1a0c124c32c9a084\n",
            "out_drop_finetune_syntext_and_numeric\n",
            "pytorch_model.bin\n",
            "05/10/2021 13:49:06 - INFO - modeling -   loading weights file out_drop_finetune_syntext_and_numeric/pytorch_model.bin\n",
            "05/10/2021 13:49:06 - INFO - modeling -   loading configuration file out_drop_finetune_syntext_and_numeric/config.json\n",
            "05/10/2021 13:49:06 - INFO - modeling -   Model config {\n",
            "  \"attention_probs_dropout_prob\": 0.1,\n",
            "  \"hidden_act\": \"gelu\",\n",
            "  \"hidden_dropout_prob\": 0.1,\n",
            "  \"hidden_size\": 768,\n",
            "  \"initializer_range\": 0.02,\n",
            "  \"intermediate_size\": 3072,\n",
            "  \"layer_norm_eps\": 1e-12,\n",
            "  \"max_position_embeddings\": 512,\n",
            "  \"num_attention_heads\": 12,\n",
            "  \"num_hidden_layers\": 12,\n",
            "  \"type_vocab_size\": 2,\n",
            "  \"vocab_size\": 30522\n",
            "}\n",
            "\n",
            "********************************************\n",
            "*** Start Prunning Model, rate: 0.5 ***\n",
            "********************************************\n",
            "Global Sparsity: 4.1680216802168015%\n",
            "05/10/2021 13:49:12 - INFO - root -   Loading eval examples and features.\n",
            "\n",
            "05/10/2021 13:49:15 - INFO - __main__ -   ***** Running evaluation *****\n",
            "05/10/2021 13:49:15 - INFO - __main__ -     Num examples = 9536\n",
            "05/10/2021 13:49:15 - INFO - __main__ -     Batch size = 128\n",
            "Inference: 100% 75/75 [11:18<00:00,  9.04s/it]\n",
            "05/10/2021 14:00:38 - INFO - __main__ -   EM: 0.6138842281879194, Drop EM: 0.6751258389261745\n",
            "05/10/2021 14:00:38 - INFO - __main__ -   saving predictions.jsonl in preds_attention_output_dense\n",
            "Chaz Schilens chaz schilens || 3 3 || Houston Texans raiders || 2 2 || 29 29 || JaMarcus Russell russell || 80 80-yard || 2 2 || 3 3 || 29 29 || 51 51 || 4 4 || 2 2 || 29 29 || 9 9 || 5 5 || 53 53 || 24 24 || 29 29 || T. J. Houshmandzadeh t. j. houshmandzadeh || Exact-match accuracy 67.51\n",
            "F1 score 71.48\n",
            "67.51   &   71.48\n",
            "----\n",
            "date: 148 (1.55%)\n",
            "  Exact-match accuracy 39.865\n",
            "  F1 score 54.182\n",
            "number: 5889 (61.76%)\n",
            "  Exact-match accuracy 73.765\n",
            "  F1 score 73.840\n",
            "span: 3019 (31.66%)\n",
            "  Exact-match accuracy 67.406\n",
            "  F1 score 73.875\n",
            "spans: 480 (5.03%)\n",
            "  Exact-match accuracy 0.000\n",
            "  F1 score 32.840\n"
          ],
          "name": "stdout"
        }
      ]
    },
    {
      "cell_type": "code",
      "metadata": {
        "id": "6jum5FMKLHLd",
        "colab": {
          "base_uri": "https://localhost:8080/"
        },
        "outputId": "034cffb1-65ee-4980-fdd4-0ed0740248f3"
      },
      "source": [
        "# Inference\n",
        "!python finetune_on_drop.py \\\n",
        "  --do_eval --do_inference  \\\n",
        "  --examples_n_features_dir ./data/examples_n_features/ \\\n",
        "  --eval_batch_size 128 \\\n",
        "  --init_weights_dir out_drop_finetune_syntext_and_numeric  \\\n",
        "  --output_dir preds_attention_output_dense \\\n",
        "  --prune_rate 0.6 \\\n",
        "  --prune_layer_name  \"attention.output.dense\"\n",
        "# Evaluation\n",
        "!python drop_eval.py --gold_path ../data/drop_dataset_dev.json --prediction_path ./preds_attention_output_dense/predictions.jsonl --answer_key prediction"
      ],
      "execution_count": null,
      "outputs": [
        {
          "output_type": "stream",
          "text": [
            "05/10/2021 14:00:45 - INFO - pytorch_pretrained_bert.tokenization -   loading vocabulary file https://s3.amazonaws.com/models.huggingface.co/bert/bert-base-uncased-vocab.txt from cache at /root/.pytorch_pretrained_bert/26bc1ad6c0ac742e9b52263248f6d0f00068293b33709fae12320c0e35ccfbbb.542ce4285a40d23a559526243235df47c5f75c197f04f37d1a0c124c32c9a084\n",
            "05/10/2021 14:00:45 - INFO - __main__ -   device: cuda n_gpu: 1, distributed training: False, 16-bits training: False\n",
            "05/10/2021 14:00:45 - INFO - pytorch_pretrained_bert.tokenization -   loading vocabulary file https://s3.amazonaws.com/models.huggingface.co/bert/bert-base-uncased-vocab.txt from cache at /root/.pytorch_pretrained_bert/26bc1ad6c0ac742e9b52263248f6d0f00068293b33709fae12320c0e35ccfbbb.542ce4285a40d23a559526243235df47c5f75c197f04f37d1a0c124c32c9a084\n",
            "out_drop_finetune_syntext_and_numeric\n",
            "pytorch_model.bin\n",
            "05/10/2021 14:00:46 - INFO - modeling -   loading weights file out_drop_finetune_syntext_and_numeric/pytorch_model.bin\n",
            "05/10/2021 14:00:46 - INFO - modeling -   loading configuration file out_drop_finetune_syntext_and_numeric/config.json\n",
            "05/10/2021 14:00:46 - INFO - modeling -   Model config {\n",
            "  \"attention_probs_dropout_prob\": 0.1,\n",
            "  \"hidden_act\": \"gelu\",\n",
            "  \"hidden_dropout_prob\": 0.1,\n",
            "  \"hidden_size\": 768,\n",
            "  \"initializer_range\": 0.02,\n",
            "  \"intermediate_size\": 3072,\n",
            "  \"layer_norm_eps\": 1e-12,\n",
            "  \"max_position_embeddings\": 512,\n",
            "  \"num_attention_heads\": 12,\n",
            "  \"num_hidden_layers\": 12,\n",
            "  \"type_vocab_size\": 2,\n",
            "  \"vocab_size\": 30522\n",
            "}\n",
            "\n",
            "********************************************\n",
            "*** Start Prunning Model, rate: 0.6 ***\n",
            "********************************************\n",
            "Global Sparsity: 5.001626016260162%\n",
            "05/10/2021 14:00:51 - INFO - root -   Loading eval examples and features.\n",
            "\n",
            "05/10/2021 14:00:54 - INFO - __main__ -   ***** Running evaluation *****\n",
            "05/10/2021 14:00:54 - INFO - __main__ -     Num examples = 9536\n",
            "05/10/2021 14:00:54 - INFO - __main__ -     Batch size = 128\n",
            "Inference: 100% 75/75 [11:18<00:00,  9.04s/it]\n",
            "05/10/2021 14:12:17 - INFO - __main__ -   EM: 0.5986786912751678, Drop EM: 0.6605494966442953\n",
            "05/10/2021 14:12:17 - INFO - __main__ -   saving predictions.jsonl in preds_attention_output_dense\n",
            "Chaz Schilens chaz schilens || 3 3 || Houston Texans raiders || 2 2 || 29 29 || JaMarcus Russell russell || 80 80-yard || 2 2 || 3 3 || 29 29 || 51 51 || 4 4 || 2 2 || 29 29 || 9 9 || 5 5 || 53 53 || 24 24 || 29 29 || T. J. Houshmandzadeh t. j. houshmandzadeh || Exact-match accuracy 66.05\n",
            "F1 score 70.06\n",
            "66.05   &   70.06\n",
            "----\n",
            "date: 146 (1.53%)\n",
            "  Exact-match accuracy 36.301\n",
            "  F1 score 50.575\n",
            "number: 5883 (61.69%)\n",
            "  Exact-match accuracy 71.596\n",
            "  F1 score 71.656\n",
            "span: 3028 (31.75%)\n",
            "  Exact-match accuracy 67.173\n",
            "  F1 score 73.791\n",
            "spans: 479 (5.02%)\n",
            "  Exact-match accuracy 0.000\n",
            "  F1 score 32.787\n"
          ],
          "name": "stdout"
        }
      ]
    },
    {
      "cell_type": "code",
      "metadata": {
        "id": "caghaE1tLHDj",
        "colab": {
          "base_uri": "https://localhost:8080/"
        },
        "outputId": "93e65248-5434-45d1-93bb-f010de783539"
      },
      "source": [
        "# Inference\n",
        "!python finetune_on_drop.py \\\n",
        "  --do_eval --do_inference  \\\n",
        "  --examples_n_features_dir ./data/examples_n_features/ \\\n",
        "  --eval_batch_size 128 \\\n",
        "  --init_weights_dir out_drop_finetune_syntext_and_numeric  \\\n",
        "  --output_dir preds_attention_output_dense \\\n",
        "  --prune_rate 0.7 \\\n",
        "  --prune_layer_name  \"attention.output.dense\"\n",
        "# Evaluation\n",
        "!python drop_eval.py --gold_path ../data/drop_dataset_dev.json --prediction_path ./preds_attention_output_dense/predictions.jsonl --answer_key prediction"
      ],
      "execution_count": null,
      "outputs": [
        {
          "output_type": "stream",
          "text": [
            "05/10/2021 14:12:24 - INFO - pytorch_pretrained_bert.tokenization -   loading vocabulary file https://s3.amazonaws.com/models.huggingface.co/bert/bert-base-uncased-vocab.txt from cache at /root/.pytorch_pretrained_bert/26bc1ad6c0ac742e9b52263248f6d0f00068293b33709fae12320c0e35ccfbbb.542ce4285a40d23a559526243235df47c5f75c197f04f37d1a0c124c32c9a084\n",
            "05/10/2021 14:12:24 - INFO - __main__ -   device: cuda n_gpu: 1, distributed training: False, 16-bits training: False\n",
            "05/10/2021 14:12:25 - INFO - pytorch_pretrained_bert.tokenization -   loading vocabulary file https://s3.amazonaws.com/models.huggingface.co/bert/bert-base-uncased-vocab.txt from cache at /root/.pytorch_pretrained_bert/26bc1ad6c0ac742e9b52263248f6d0f00068293b33709fae12320c0e35ccfbbb.542ce4285a40d23a559526243235df47c5f75c197f04f37d1a0c124c32c9a084\n",
            "out_drop_finetune_syntext_and_numeric\n",
            "pytorch_model.bin\n",
            "05/10/2021 14:12:25 - INFO - modeling -   loading weights file out_drop_finetune_syntext_and_numeric/pytorch_model.bin\n",
            "05/10/2021 14:12:25 - INFO - modeling -   loading configuration file out_drop_finetune_syntext_and_numeric/config.json\n",
            "05/10/2021 14:12:25 - INFO - modeling -   Model config {\n",
            "  \"attention_probs_dropout_prob\": 0.1,\n",
            "  \"hidden_act\": \"gelu\",\n",
            "  \"hidden_dropout_prob\": 0.1,\n",
            "  \"hidden_size\": 768,\n",
            "  \"initializer_range\": 0.02,\n",
            "  \"intermediate_size\": 3072,\n",
            "  \"layer_norm_eps\": 1e-12,\n",
            "  \"max_position_embeddings\": 512,\n",
            "  \"num_attention_heads\": 12,\n",
            "  \"num_hidden_layers\": 12,\n",
            "  \"type_vocab_size\": 2,\n",
            "  \"vocab_size\": 30522\n",
            "}\n",
            "\n",
            "********************************************\n",
            "*** Start Prunning Model, rate: 0.7 ***\n",
            "********************************************\n",
            "Global Sparsity: 5.8352303523035225%\n",
            "05/10/2021 14:12:30 - INFO - root -   Loading eval examples and features.\n",
            "\n",
            "05/10/2021 14:12:33 - INFO - __main__ -   ***** Running evaluation *****\n",
            "05/10/2021 14:12:33 - INFO - __main__ -     Num examples = 9536\n",
            "05/10/2021 14:12:33 - INFO - __main__ -     Batch size = 128\n",
            "Inference: 100% 75/75 [11:18<00:00,  9.04s/it]\n",
            "05/10/2021 14:23:56 - INFO - __main__ -   EM: 0.5545302013422819, Drop EM: 0.6135696308724832\n",
            "05/10/2021 14:23:56 - INFO - __main__ -   saving predictions.jsonl in preds_attention_output_dense\n",
            "Chaz Schilens chaz schilens || 3 3 || Houston Texans raiders || 2 2 || 29 29 || JaMarcus Russell russell || 80 80-yard || 2 2 || 3 3 || 29 29 || 51 51 || 3 4 || 2 2 || 29 29 || 9 9 || 4 5 || 53 53 || 24 24 || 29 29 || T. J. Houshmandzadeh t. j. houshmandzadeh || Exact-match accuracy 61.36\n",
            "F1 score 65.36\n",
            "61.36   &   65.36\n",
            "----\n",
            "date: 150 (1.57%)\n",
            "  Exact-match accuracy 34.667\n",
            "  F1 score 48.153\n",
            "number: 5880 (61.66%)\n",
            "  Exact-match accuracy 65.425\n",
            "  F1 score 65.488\n",
            "span: 3025 (31.72%)\n",
            "  Exact-match accuracy 64.529\n",
            "  F1 score 71.316\n",
            "spans: 481 (5.04%)\n",
            "  Exact-match accuracy 0.000\n",
            "  F1 score 31.655\n"
          ],
          "name": "stdout"
        }
      ]
    },
    {
      "cell_type": "code",
      "metadata": {
        "id": "jCwPK8rlLG6s",
        "colab": {
          "base_uri": "https://localhost:8080/"
        },
        "outputId": "81a3d668-a535-4f03-9887-46edcc9b148e"
      },
      "source": [
        "# Inference\n",
        "!python finetune_on_drop.py \\\n",
        "  --do_eval --do_inference  \\\n",
        "  --examples_n_features_dir ./data/examples_n_features/ \\\n",
        "  --eval_batch_size 128 \\\n",
        "  --init_weights_dir out_drop_finetune_syntext_and_numeric  \\\n",
        "  --output_dir preds_attention_output_dense \\\n",
        "  --prune_rate 0.8 \\\n",
        "  --prune_layer_name  \"attention.output.dense\"\n",
        "# Evaluation\n",
        "!python drop_eval.py --gold_path ../data/drop_dataset_dev.json --prediction_path ./preds_attention_output_dense/predictions.jsonl --answer_key prediction"
      ],
      "execution_count": null,
      "outputs": [
        {
          "output_type": "stream",
          "text": [
            "05/10/2021 14:24:03 - INFO - pytorch_pretrained_bert.tokenization -   loading vocabulary file https://s3.amazonaws.com/models.huggingface.co/bert/bert-base-uncased-vocab.txt from cache at /root/.pytorch_pretrained_bert/26bc1ad6c0ac742e9b52263248f6d0f00068293b33709fae12320c0e35ccfbbb.542ce4285a40d23a559526243235df47c5f75c197f04f37d1a0c124c32c9a084\n",
            "05/10/2021 14:24:03 - INFO - __main__ -   device: cuda n_gpu: 1, distributed training: False, 16-bits training: False\n",
            "05/10/2021 14:24:04 - INFO - pytorch_pretrained_bert.tokenization -   loading vocabulary file https://s3.amazonaws.com/models.huggingface.co/bert/bert-base-uncased-vocab.txt from cache at /root/.pytorch_pretrained_bert/26bc1ad6c0ac742e9b52263248f6d0f00068293b33709fae12320c0e35ccfbbb.542ce4285a40d23a559526243235df47c5f75c197f04f37d1a0c124c32c9a084\n",
            "out_drop_finetune_syntext_and_numeric\n",
            "pytorch_model.bin\n",
            "05/10/2021 14:24:04 - INFO - modeling -   loading weights file out_drop_finetune_syntext_and_numeric/pytorch_model.bin\n",
            "05/10/2021 14:24:04 - INFO - modeling -   loading configuration file out_drop_finetune_syntext_and_numeric/config.json\n",
            "05/10/2021 14:24:04 - INFO - modeling -   Model config {\n",
            "  \"attention_probs_dropout_prob\": 0.1,\n",
            "  \"hidden_act\": \"gelu\",\n",
            "  \"hidden_dropout_prob\": 0.1,\n",
            "  \"hidden_size\": 768,\n",
            "  \"initializer_range\": 0.02,\n",
            "  \"intermediate_size\": 3072,\n",
            "  \"layer_norm_eps\": 1e-12,\n",
            "  \"max_position_embeddings\": 512,\n",
            "  \"num_attention_heads\": 12,\n",
            "  \"num_hidden_layers\": 12,\n",
            "  \"type_vocab_size\": 2,\n",
            "  \"vocab_size\": 30522\n",
            "}\n",
            "\n",
            "********************************************\n",
            "*** Start Prunning Model, rate: 0.8 ***\n",
            "********************************************\n",
            "Global Sparsity: 6.668834688346884%\n",
            "05/10/2021 14:24:10 - INFO - root -   Loading eval examples and features.\n",
            "\n",
            "05/10/2021 14:24:12 - INFO - __main__ -   ***** Running evaluation *****\n",
            "05/10/2021 14:24:12 - INFO - __main__ -     Num examples = 9536\n",
            "05/10/2021 14:24:12 - INFO - __main__ -     Batch size = 128\n",
            "Inference: 100% 75/75 [11:18<00:00,  9.04s/it]\n",
            "05/10/2021 14:35:36 - INFO - __main__ -   EM: 0.38873741610738255, Drop EM: 0.4408557046979866\n",
            "05/10/2021 14:35:36 - INFO - __main__ -   saving predictions.jsonl in preds_attention_output_dense\n",
            "Chaz Schilens chaz schilens || 3 3 || Houston raiders || 3 2 || 29 29 || JaMarcus Russell russell || 80 80-yard || 3 2 || 33 3 || 29 29 || 51 51 || 3 4 || 2 2 || 29 29 || 9 9 || 3 5 || 53 53 || 24 24 || 29 29 || T. J. Houshmandzadeh t. j. houshmandzadeh || Exact-match accuracy 44.09\n",
            "F1 score 48.49\n",
            "44.09   &   48.49\n",
            "----\n",
            "date: 152 (1.59%)\n",
            "  Exact-match accuracy 37.500\n",
            "  F1 score 44.507\n",
            "number: 5870 (61.56%)\n",
            "  Exact-match accuracy 41.823\n",
            "  F1 score 41.910\n",
            "span: 3028 (31.75%)\n",
            "  Exact-match accuracy 55.878\n",
            "  F1 score 64.756\n",
            "spans: 486 (5.10%)\n",
            "  Exact-match accuracy 0.000\n",
            "  F1 score 27.821\n"
          ],
          "name": "stdout"
        }
      ]
    },
    {
      "cell_type": "code",
      "metadata": {
        "id": "g3arQ6JULSwa",
        "colab": {
          "base_uri": "https://localhost:8080/"
        },
        "outputId": "7380f743-070f-4c4d-c299-352b2bd3b015"
      },
      "source": [
        "# Inference\n",
        "!python finetune_on_drop.py \\\n",
        "  --do_eval --do_inference  \\\n",
        "  --examples_n_features_dir ./data/examples_n_features/ \\\n",
        "  --eval_batch_size 128 \\\n",
        "  --init_weights_dir out_drop_finetune_syntext_and_numeric  \\\n",
        "  --output_dir preds_attention_output_dense \\\n",
        "  --prune_rate 0.9 \\\n",
        "  --prune_layer_name  \"attention.output.dense\"\n",
        "# Evaluation\n",
        "!python drop_eval.py --gold_path ../data/drop_dataset_dev.json --prediction_path ./preds_attention_output_dense/predictions.jsonl --answer_key prediction"
      ],
      "execution_count": null,
      "outputs": [
        {
          "output_type": "stream",
          "text": [
            "05/10/2021 14:35:43 - INFO - pytorch_pretrained_bert.tokenization -   loading vocabulary file https://s3.amazonaws.com/models.huggingface.co/bert/bert-base-uncased-vocab.txt from cache at /root/.pytorch_pretrained_bert/26bc1ad6c0ac742e9b52263248f6d0f00068293b33709fae12320c0e35ccfbbb.542ce4285a40d23a559526243235df47c5f75c197f04f37d1a0c124c32c9a084\n",
            "05/10/2021 14:35:43 - INFO - __main__ -   device: cuda n_gpu: 1, distributed training: False, 16-bits training: False\n",
            "05/10/2021 14:35:44 - INFO - pytorch_pretrained_bert.tokenization -   loading vocabulary file https://s3.amazonaws.com/models.huggingface.co/bert/bert-base-uncased-vocab.txt from cache at /root/.pytorch_pretrained_bert/26bc1ad6c0ac742e9b52263248f6d0f00068293b33709fae12320c0e35ccfbbb.542ce4285a40d23a559526243235df47c5f75c197f04f37d1a0c124c32c9a084\n",
            "out_drop_finetune_syntext_and_numeric\n",
            "pytorch_model.bin\n",
            "05/10/2021 14:35:44 - INFO - modeling -   loading weights file out_drop_finetune_syntext_and_numeric/pytorch_model.bin\n",
            "05/10/2021 14:35:44 - INFO - modeling -   loading configuration file out_drop_finetune_syntext_and_numeric/config.json\n",
            "05/10/2021 14:35:44 - INFO - modeling -   Model config {\n",
            "  \"attention_probs_dropout_prob\": 0.1,\n",
            "  \"hidden_act\": \"gelu\",\n",
            "  \"hidden_dropout_prob\": 0.1,\n",
            "  \"hidden_size\": 768,\n",
            "  \"initializer_range\": 0.02,\n",
            "  \"intermediate_size\": 3072,\n",
            "  \"layer_norm_eps\": 1e-12,\n",
            "  \"max_position_embeddings\": 512,\n",
            "  \"num_attention_heads\": 12,\n",
            "  \"num_hidden_layers\": 12,\n",
            "  \"type_vocab_size\": 2,\n",
            "  \"vocab_size\": 30522\n",
            "}\n",
            "\n",
            "********************************************\n",
            "*** Start Prunning Model, rate: 0.9 ***\n",
            "********************************************\n",
            "Global Sparsity: 7.502439024390245%\n",
            "05/10/2021 14:35:49 - INFO - root -   Loading eval examples and features.\n",
            "\n",
            "05/10/2021 14:35:52 - INFO - __main__ -   ***** Running evaluation *****\n",
            "05/10/2021 14:35:52 - INFO - __main__ -     Num examples = 9536\n",
            "05/10/2021 14:35:52 - INFO - __main__ -     Batch size = 128\n",
            "Inference: 100% 75/75 [11:18<00:00,  9.04s/it]\n",
            "05/10/2021 14:47:20 - INFO - __main__ -   EM: 0.09668624161073826, Drop EM: 0.12290268456375839\n",
            "05/10/2021 14:47:20 - INFO - __main__ -   saving predictions.jsonl in preds_attention_output_dense\n",
            "Russell chaz schilens || 3 3 || Patriots raiders || Houston would tie 2 || 37 29 || Russell russell || 80 80-yard || 2 2 || 37 3 || 39 29 || 19 51 || 2 4 || 29 2 || 29 29 || 19 9 || 3 5 || 53 53 || 30 24 || 37 29 || Graham t. j. houshmandzadeh || Exact-match accuracy 12.29\n",
            "F1 score 17.59\n",
            "12.29   &   17.59\n",
            "----\n",
            "date: 151 (1.58%)\n",
            "  Exact-match accuracy 14.570\n",
            "  F1 score 22.848\n",
            "number: 5871 (61.57%)\n",
            "  Exact-match accuracy 6.949\n",
            "  F1 score 7.299\n",
            "span: 3024 (31.71%)\n",
            "  Exact-match accuracy 24.537\n",
            "  F1 score 37.493\n",
            "spans: 490 (5.14%)\n",
            "  Exact-match accuracy 0.000\n",
            "  F1 score 16.492\n"
          ],
          "name": "stdout"
        }
      ]
    },
    {
      "cell_type": "code",
      "metadata": {
        "id": "q1T_LzaCR9-v",
        "colab": {
          "base_uri": "https://localhost:8080/"
        },
        "outputId": "d28611bd-c042-4c20-c31f-f38bc6c8c231"
      },
      "source": [
        "# Inference\n",
        "!python finetune_on_drop.py \\\n",
        "  --do_eval --do_inference  \\\n",
        "  --examples_n_features_dir ./data/examples_n_features/ \\\n",
        "  --eval_batch_size 128 \\\n",
        "  --init_weights_dir out_drop_finetune_syntext_and_numeric  \\\n",
        "  --output_dir preds_attention_output_dense \\\n",
        "  --prune_rate 1. \\\n",
        "  --prune_layer_name  \"attention.output.dense\"\n",
        "# Evaluation\n",
        "!python drop_eval.py --gold_path ../data/drop_dataset_dev.json --prediction_path ./preds_attention_output_dense/predictions.jsonl --answer_key prediction"
      ],
      "execution_count": null,
      "outputs": [
        {
          "output_type": "stream",
          "text": [
            "05/10/2021 14:47:30 - INFO - pytorch_pretrained_bert.tokenization -   loading vocabulary file https://s3.amazonaws.com/models.huggingface.co/bert/bert-base-uncased-vocab.txt from cache at /root/.pytorch_pretrained_bert/26bc1ad6c0ac742e9b52263248f6d0f00068293b33709fae12320c0e35ccfbbb.542ce4285a40d23a559526243235df47c5f75c197f04f37d1a0c124c32c9a084\n",
            "05/10/2021 14:47:30 - INFO - __main__ -   device: cuda n_gpu: 1, distributed training: False, 16-bits training: False\n",
            "05/10/2021 14:47:30 - INFO - pytorch_pretrained_bert.tokenization -   loading vocabulary file https://s3.amazonaws.com/models.huggingface.co/bert/bert-base-uncased-vocab.txt from cache at /root/.pytorch_pretrained_bert/26bc1ad6c0ac742e9b52263248f6d0f00068293b33709fae12320c0e35ccfbbb.542ce4285a40d23a559526243235df47c5f75c197f04f37d1a0c124c32c9a084\n",
            "out_drop_finetune_syntext_and_numeric\n",
            "pytorch_model.bin\n",
            "05/10/2021 14:47:30 - INFO - modeling -   loading weights file out_drop_finetune_syntext_and_numeric/pytorch_model.bin\n",
            "05/10/2021 14:47:30 - INFO - modeling -   loading configuration file out_drop_finetune_syntext_and_numeric/config.json\n",
            "05/10/2021 14:47:30 - INFO - modeling -   Model config {\n",
            "  \"attention_probs_dropout_prob\": 0.1,\n",
            "  \"hidden_act\": \"gelu\",\n",
            "  \"hidden_dropout_prob\": 0.1,\n",
            "  \"hidden_size\": 768,\n",
            "  \"initializer_range\": 0.02,\n",
            "  \"intermediate_size\": 3072,\n",
            "  \"layer_norm_eps\": 1e-12,\n",
            "  \"max_position_embeddings\": 512,\n",
            "  \"num_attention_heads\": 12,\n",
            "  \"num_hidden_layers\": 12,\n",
            "  \"type_vocab_size\": 2,\n",
            "  \"vocab_size\": 30522\n",
            "}\n",
            "\n",
            "********************************************\n",
            "*** Start Prunning Model, rate: 1.0 ***\n",
            "********************************************\n",
            "Global Sparsity: 8.336043360433603%\n",
            "05/10/2021 14:47:36 - INFO - root -   Loading eval examples and features.\n",
            "\n",
            "05/10/2021 14:47:39 - INFO - __main__ -   ***** Running evaluation *****\n",
            "05/10/2021 14:47:39 - INFO - __main__ -     Num examples = 9536\n",
            "05/10/2021 14:47:39 - INFO - __main__ -     Batch size = 128\n",
            "Inference: 100% 75/75 [11:18<00:00,  9.04s/it]\n",
            "05/10/2021 14:59:10 - INFO - __main__ -   EM: 0.0, Drop EM: 0.0\n",
            "05/10/2021 14:59:10 - INFO - __main__ -   saving predictions.jsonl in preds_attention_output_dense\n",
            "9 3 3 3 3 3 3 3 3 3 3 3 3 3 3 3 3 3 3 chaz schilens || 9 3 3 3 3 3 3 3 3 3 3 3 3 3 3 3 3 3 3 3 || 9 3 3 3 3 3 3 3 3 3 3 3 3 3 3 3 3 3 3 raiders || 9 3 3 3 3 3 3 3 3 3 3 3 3 3 3 3 3 3 3 2 || 9 3 3 3 3 3 3 3 3 3 3 3 3 3 3 3 3 3 3 29 || 9 3 3 3 3 3 3 3 3 3 3 3 3 3 3 3 3 3 3 russell || 9 3 3 3 3 3 3 3 3 3 3 3 3 3 3 3 3 3 3 80-yard || 9 3 3 3 3 3 3 3 3 3 3 3 3 3 3 3 3 3 3 2 || 9 3 3 3 3 3 3 3 3 3 3 3 3 3 3 3 3 3 3 3 || 9 3 3 3 3 3 3 3 3 3 3 3 3 3 3 3 3 3 3 29 || 9 3 3 3 3 3 3 3 3 3 3 3 3 3 3 3 3 3 3 51 || 9 3 3 3 3 3 3 3 3 3 3 3 3 3 3 3 3 3 3 4 || 9 3 3 3 3 3 3 3 3 3 3 3 3 3 3 3 3 3 3 2 || 9 3 3 3 3 3 3 3 3 3 3 3 3 3 3 3 3 3 3 29 || 9 3 3 3 3 3 3 3 3 3 3 3 3 3 3 3 3 3 3 9 || 9 3 3 3 3 3 3 3 3 3 3 3 3 3 3 3 3 3 3 5 || 9 3 3 3 3 3 3 3 3 3 3 3 3 3 3 3 3 3 3 53 || 9 3 3 3 3 3 3 3 3 3 3 3 3 3 3 3 3 3 3 24 || 9 3 3 3 3 3 3 3 3 3 3 3 3 3 3 3 3 3 3 29 || 9 3 3 3 3 3 3 3 3 3 3 3 3 3 3 3 3 3 3 t. j. houshmandzadeh || Exact-match accuracy 0.00\n",
            "F1 score 4.40\n",
            "0.00   &   4.40\n",
            "----\n",
            "date: 147 (1.54%)\n",
            "  Exact-match accuracy 0.000\n",
            "  F1 score 2.041\n",
            "number: 5938 (62.27%)\n",
            "  Exact-match accuracy 0.000\n",
            "  F1 score 6.860\n",
            "span: 2973 (31.18%)\n",
            "  Exact-match accuracy 0.000\n",
            "  F1 score 0.262\n",
            "spans: 478 (5.01%)\n",
            "  Exact-match accuracy 0.000\n",
            "  F1 score 0.314\n"
          ],
          "name": "stdout"
        }
      ]
    },
    {
      "cell_type": "markdown",
      "metadata": {
        "id": "Pntw5rigH8lC"
      },
      "source": [
        "### Local Intermidiate Layer Pruning"
      ]
    },
    {
      "cell_type": "code",
      "metadata": {
        "colab": {
          "base_uri": "https://localhost:8080/"
        },
        "id": "iczxg4JyH_7Z",
        "outputId": "57bdd9cd-2d2f-41c8-904e-cafb8e40a0a3"
      },
      "source": [
        "# Inference\n",
        "!python finetune_on_drop.py \\\n",
        "  --do_eval --do_inference  \\\n",
        "  --examples_n_features_dir ./data/examples_n_features/ \\\n",
        "  --eval_batch_size 128 \\\n",
        "  --init_weights_dir out_drop_finetune_syntext_and_numeric  \\\n",
        "  --output_dir preds_intermediate_dense \\\n",
        "  --prune_rate 0.1 \\\n",
        "  --prune_layer_name  \"intermediate.dense\"\n",
        "# Evaluation\n",
        "!python drop_eval.py --gold_path ../data/drop_dataset_dev.json --prediction_path ./preds_intermediate_dense/predictions.jsonl --answer_key prediction"
      ],
      "execution_count": null,
      "outputs": [
        {
          "output_type": "stream",
          "text": [
            "05/10/2021 16:34:49 - INFO - pytorch_pretrained_bert.tokenization -   loading vocabulary file https://s3.amazonaws.com/models.huggingface.co/bert/bert-base-uncased-vocab.txt from cache at /root/.pytorch_pretrained_bert/26bc1ad6c0ac742e9b52263248f6d0f00068293b33709fae12320c0e35ccfbbb.542ce4285a40d23a559526243235df47c5f75c197f04f37d1a0c124c32c9a084\n",
            "05/10/2021 16:34:49 - INFO - __main__ -   device: cuda n_gpu: 1, distributed training: False, 16-bits training: False\n",
            "05/10/2021 16:34:49 - INFO - pytorch_pretrained_bert.tokenization -   loading vocabulary file https://s3.amazonaws.com/models.huggingface.co/bert/bert-base-uncased-vocab.txt from cache at /root/.pytorch_pretrained_bert/26bc1ad6c0ac742e9b52263248f6d0f00068293b33709fae12320c0e35ccfbbb.542ce4285a40d23a559526243235df47c5f75c197f04f37d1a0c124c32c9a084\n",
            "out_drop_finetune_syntext_and_numeric\n",
            "pytorch_model.bin\n",
            "05/10/2021 16:34:49 - INFO - modeling -   loading weights file out_drop_finetune_syntext_and_numeric/pytorch_model.bin\n",
            "05/10/2021 16:34:49 - INFO - modeling -   loading configuration file out_drop_finetune_syntext_and_numeric/config.json\n",
            "05/10/2021 16:34:49 - INFO - modeling -   Model config {\n",
            "  \"attention_probs_dropout_prob\": 0.1,\n",
            "  \"hidden_act\": \"gelu\",\n",
            "  \"hidden_dropout_prob\": 0.1,\n",
            "  \"hidden_size\": 768,\n",
            "  \"initializer_range\": 0.02,\n",
            "  \"intermediate_size\": 3072,\n",
            "  \"layer_norm_eps\": 1e-12,\n",
            "  \"max_position_embeddings\": 512,\n",
            "  \"num_attention_heads\": 12,\n",
            "  \"num_hidden_layers\": 12,\n",
            "  \"type_vocab_size\": 2,\n",
            "  \"vocab_size\": 30522\n",
            "}\n",
            "\n",
            "********************************************\n",
            "*** Start Prunning Model, rate: 0.1 ***\n",
            "********************************************\n",
            "Global Sparsity: 3.334417344173442%\n",
            "05/10/2021 16:34:56 - INFO - root -   Loading eval examples and features.\n",
            "\n",
            "05/10/2021 16:34:58 - INFO - __main__ -   ***** Running evaluation *****\n",
            "05/10/2021 16:34:58 - INFO - __main__ -     Num examples = 9536\n",
            "05/10/2021 16:34:58 - INFO - __main__ -     Batch size = 128\n",
            "Inference: 100% 75/75 [11:18<00:00,  9.04s/it]\n",
            "05/10/2021 16:46:21 - INFO - __main__ -   EM: 0.6266778523489933, Drop EM: 0.6880243288590604\n",
            "05/10/2021 16:46:21 - INFO - __main__ -   saving predictions.jsonl in preds_intermediate_dense\n",
            "Chaz Schilens chaz schilens || 3 3 || Houston Texans raiders || 2 2 || 29 29 || JaMarcus Russell russell || 80 80-yard || 3 2 || 3 3 || 29 29 || 51 51 || 4 4 || 2 2 || 29 29 || 9 9 || 5 5 || 53 53 || 24 24 || 29 29 || T. J. Houshmandzadeh t. j. houshmandzadeh || Exact-match accuracy 68.80\n",
            "F1 score 72.74\n",
            "68.80   &   72.74\n",
            "----\n",
            "date: 148 (1.55%)\n",
            "  Exact-match accuracy 42.568\n",
            "  F1 score 56.047\n",
            "number: 5888 (61.74%)\n",
            "  Exact-match accuracy 75.204\n",
            "  F1 score 75.280\n",
            "span: 3018 (31.65%)\n",
            "  Exact-match accuracy 68.588\n",
            "  F1 score 75.011\n",
            "spans: 482 (5.05%)\n",
            "  Exact-match accuracy 0.000\n",
            "  F1 score 32.602\n"
          ],
          "name": "stdout"
        }
      ]
    },
    {
      "cell_type": "code",
      "metadata": {
        "colab": {
          "base_uri": "https://localhost:8080/"
        },
        "id": "6Pn8aArPIA8J",
        "outputId": "2bc9ccef-fa68-427e-a859-d2f67814c872"
      },
      "source": [
        "# Inference\n",
        "!python finetune_on_drop.py \\\n",
        "  --do_eval --do_inference  \\\n",
        "  --examples_n_features_dir ./data/examples_n_features/ \\\n",
        "  --eval_batch_size 128 \\\n",
        "  --init_weights_dir out_drop_finetune_syntext_and_numeric  \\\n",
        "  --output_dir preds_intermediate_dense \\\n",
        "  --prune_rate 0.2 \\\n",
        "  --prune_layer_name  \"intermediate.dense\"\n",
        "# Evaluation\n",
        "!python drop_eval.py --gold_path ../data/drop_dataset_dev.json --prediction_path ./preds_intermediate_dense/predictions.jsonl --answer_key prediction"
      ],
      "execution_count": null,
      "outputs": [
        {
          "output_type": "stream",
          "text": [
            "05/10/2021 16:46:29 - INFO - pytorch_pretrained_bert.tokenization -   loading vocabulary file https://s3.amazonaws.com/models.huggingface.co/bert/bert-base-uncased-vocab.txt from cache at /root/.pytorch_pretrained_bert/26bc1ad6c0ac742e9b52263248f6d0f00068293b33709fae12320c0e35ccfbbb.542ce4285a40d23a559526243235df47c5f75c197f04f37d1a0c124c32c9a084\n",
            "05/10/2021 16:46:29 - INFO - __main__ -   device: cuda n_gpu: 1, distributed training: False, 16-bits training: False\n",
            "05/10/2021 16:46:29 - INFO - pytorch_pretrained_bert.tokenization -   loading vocabulary file https://s3.amazonaws.com/models.huggingface.co/bert/bert-base-uncased-vocab.txt from cache at /root/.pytorch_pretrained_bert/26bc1ad6c0ac742e9b52263248f6d0f00068293b33709fae12320c0e35ccfbbb.542ce4285a40d23a559526243235df47c5f75c197f04f37d1a0c124c32c9a084\n",
            "out_drop_finetune_syntext_and_numeric\n",
            "pytorch_model.bin\n",
            "05/10/2021 16:46:29 - INFO - modeling -   loading weights file out_drop_finetune_syntext_and_numeric/pytorch_model.bin\n",
            "05/10/2021 16:46:29 - INFO - modeling -   loading configuration file out_drop_finetune_syntext_and_numeric/config.json\n",
            "05/10/2021 16:46:29 - INFO - modeling -   Model config {\n",
            "  \"attention_probs_dropout_prob\": 0.1,\n",
            "  \"hidden_act\": \"gelu\",\n",
            "  \"hidden_dropout_prob\": 0.1,\n",
            "  \"hidden_size\": 768,\n",
            "  \"initializer_range\": 0.02,\n",
            "  \"intermediate_size\": 3072,\n",
            "  \"layer_norm_eps\": 1e-12,\n",
            "  \"max_position_embeddings\": 512,\n",
            "  \"num_attention_heads\": 12,\n",
            "  \"num_hidden_layers\": 12,\n",
            "  \"type_vocab_size\": 2,\n",
            "  \"vocab_size\": 30522\n",
            "}\n",
            "\n",
            "********************************************\n",
            "*** Start Prunning Model, rate: 0.2 ***\n",
            "********************************************\n",
            "Global Sparsity: 6.668834688346884%\n",
            "05/10/2021 16:46:35 - INFO - root -   Loading eval examples and features.\n",
            "\n",
            "05/10/2021 16:46:38 - INFO - __main__ -   ***** Running evaluation *****\n",
            "05/10/2021 16:46:38 - INFO - __main__ -     Num examples = 9536\n",
            "05/10/2021 16:46:38 - INFO - __main__ -     Batch size = 128\n",
            "Inference: 100% 75/75 [11:18<00:00,  9.04s/it]\n",
            "05/10/2021 16:58:01 - INFO - __main__ -   EM: 0.6254194630872483, Drop EM: 0.6859270134228188\n",
            "05/10/2021 16:58:01 - INFO - __main__ -   saving predictions.jsonl in preds_intermediate_dense\n",
            "Chaz Schilens chaz schilens || 3 3 || Houston Texans raiders || 2 2 || 29 29 || JaMarcus Russell russell || 80 80-yard || 2 2 || 3 3 || 29 29 || 51 51 || 4 4 || 2 2 || 29 29 || 9 9 || 5 5 || 53 53 || 24 24 || 29 29 || T. J. Houshmandzadeh t. j. houshmandzadeh || Exact-match accuracy 68.59\n",
            "F1 score 72.48\n",
            "68.59   &   72.48\n",
            "----\n",
            "date: 148 (1.55%)\n",
            "  Exact-match accuracy 43.243\n",
            "  F1 score 56.331\n",
            "number: 5889 (61.76%)\n",
            "  Exact-match accuracy 74.902\n",
            "  F1 score 75.002\n",
            "span: 3017 (31.64%)\n",
            "  Exact-match accuracy 68.479\n",
            "  F1 score 74.653\n",
            "spans: 482 (5.05%)\n",
            "  Exact-match accuracy 0.000\n",
            "  F1 score 33.058\n"
          ],
          "name": "stdout"
        }
      ]
    },
    {
      "cell_type": "code",
      "metadata": {
        "colab": {
          "base_uri": "https://localhost:8080/"
        },
        "id": "kJCushHOIA2w",
        "outputId": "282de15d-db70-47b3-bd58-c8002b76b51d"
      },
      "source": [
        "# Inference\n",
        "!python finetune_on_drop.py \\\n",
        "  --do_eval --do_inference  \\\n",
        "  --examples_n_features_dir ./data/examples_n_features/ \\\n",
        "  --eval_batch_size 128 \\\n",
        "  --init_weights_dir out_drop_finetune_syntext_and_numeric  \\\n",
        "  --output_dir preds_intermediate_dense \\\n",
        "  --prune_rate 0.3 \\\n",
        "  --prune_layer_name  \"intermediate.dense\"\n",
        "# Evaluation\n",
        "!python drop_eval.py --gold_path ../data/drop_dataset_dev.json --prediction_path ./preds_intermediate_dense/predictions.jsonl --answer_key prediction"
      ],
      "execution_count": null,
      "outputs": [
        {
          "output_type": "stream",
          "text": [
            "05/10/2021 16:58:09 - INFO - pytorch_pretrained_bert.tokenization -   loading vocabulary file https://s3.amazonaws.com/models.huggingface.co/bert/bert-base-uncased-vocab.txt from cache at /root/.pytorch_pretrained_bert/26bc1ad6c0ac742e9b52263248f6d0f00068293b33709fae12320c0e35ccfbbb.542ce4285a40d23a559526243235df47c5f75c197f04f37d1a0c124c32c9a084\n",
            "05/10/2021 16:58:09 - INFO - __main__ -   device: cuda n_gpu: 1, distributed training: False, 16-bits training: False\n",
            "05/10/2021 16:58:09 - INFO - pytorch_pretrained_bert.tokenization -   loading vocabulary file https://s3.amazonaws.com/models.huggingface.co/bert/bert-base-uncased-vocab.txt from cache at /root/.pytorch_pretrained_bert/26bc1ad6c0ac742e9b52263248f6d0f00068293b33709fae12320c0e35ccfbbb.542ce4285a40d23a559526243235df47c5f75c197f04f37d1a0c124c32c9a084\n",
            "out_drop_finetune_syntext_and_numeric\n",
            "pytorch_model.bin\n",
            "05/10/2021 16:58:09 - INFO - modeling -   loading weights file out_drop_finetune_syntext_and_numeric/pytorch_model.bin\n",
            "05/10/2021 16:58:09 - INFO - modeling -   loading configuration file out_drop_finetune_syntext_and_numeric/config.json\n",
            "05/10/2021 16:58:09 - INFO - modeling -   Model config {\n",
            "  \"attention_probs_dropout_prob\": 0.1,\n",
            "  \"hidden_act\": \"gelu\",\n",
            "  \"hidden_dropout_prob\": 0.1,\n",
            "  \"hidden_size\": 768,\n",
            "  \"initializer_range\": 0.02,\n",
            "  \"intermediate_size\": 3072,\n",
            "  \"layer_norm_eps\": 1e-12,\n",
            "  \"max_position_embeddings\": 512,\n",
            "  \"num_attention_heads\": 12,\n",
            "  \"num_hidden_layers\": 12,\n",
            "  \"type_vocab_size\": 2,\n",
            "  \"vocab_size\": 30522\n",
            "}\n",
            "\n",
            "********************************************\n",
            "*** Start Prunning Model, rate: 0.3 ***\n",
            "********************************************\n",
            "Global Sparsity: 10.003252032520324%\n",
            "05/10/2021 16:58:15 - INFO - root -   Loading eval examples and features.\n",
            "\n",
            "05/10/2021 16:58:18 - INFO - __main__ -   ***** Running evaluation *****\n",
            "05/10/2021 16:58:18 - INFO - __main__ -     Num examples = 9536\n",
            "05/10/2021 16:58:18 - INFO - __main__ -     Batch size = 128\n",
            "Inference: 100% 75/75 [11:18<00:00,  9.04s/it]\n",
            "05/10/2021 17:09:41 - INFO - __main__ -   EM: 0.6238464765100671, Drop EM: 0.684878355704698\n",
            "05/10/2021 17:09:41 - INFO - __main__ -   saving predictions.jsonl in preds_intermediate_dense\n",
            "Chaz Schilens chaz schilens || 3 3 || Houston Texans raiders || 2 2 || 29 29 || JaMarcus Russell russell || 80 80-yard || 3 2 || 3 3 || 29 29 || 51 51 || 4 4 || 2 2 || 29 29 || 9 9 || 5 5 || 53 53 || 24 24 || 29 29 || T. J. Houshmandzadeh t. j. houshmandzadeh || Exact-match accuracy 68.49\n",
            "F1 score 72.38\n",
            "68.49   &   72.38\n",
            "----\n",
            "date: 148 (1.55%)\n",
            "  Exact-match accuracy 44.595\n",
            "  F1 score 58.135\n",
            "number: 5887 (61.73%)\n",
            "  Exact-match accuracy 74.435\n",
            "  F1 score 74.529\n",
            "span: 3022 (31.69%)\n",
            "  Exact-match accuracy 68.928\n",
            "  F1 score 75.150\n",
            "spans: 479 (5.02%)\n",
            "  Exact-match accuracy 0.000\n",
            "  F1 score 32.996\n"
          ],
          "name": "stdout"
        }
      ]
    },
    {
      "cell_type": "code",
      "metadata": {
        "colab": {
          "base_uri": "https://localhost:8080/"
        },
        "id": "q-KkD-kJIAw4",
        "outputId": "893cb0dc-4621-4322-a093-e53516a663f5"
      },
      "source": [
        "# Inference\n",
        "!python finetune_on_drop.py \\\n",
        "  --do_eval --do_inference  \\\n",
        "  --examples_n_features_dir ./data/examples_n_features/ \\\n",
        "  --eval_batch_size 128 \\\n",
        "  --init_weights_dir out_drop_finetune_syntext_and_numeric  \\\n",
        "  --output_dir preds_intermediate_dense \\\n",
        "  --prune_rate 0.4 \\\n",
        "  --prune_layer_name  \"intermediate.dense\"\n",
        "# Evaluation\n",
        "!python drop_eval.py --gold_path ../data/drop_dataset_dev.json --prediction_path ./preds_intermediate_dense/predictions.jsonl --answer_key prediction"
      ],
      "execution_count": null,
      "outputs": [
        {
          "output_type": "stream",
          "text": [
            "05/10/2021 17:09:48 - INFO - pytorch_pretrained_bert.tokenization -   loading vocabulary file https://s3.amazonaws.com/models.huggingface.co/bert/bert-base-uncased-vocab.txt from cache at /root/.pytorch_pretrained_bert/26bc1ad6c0ac742e9b52263248f6d0f00068293b33709fae12320c0e35ccfbbb.542ce4285a40d23a559526243235df47c5f75c197f04f37d1a0c124c32c9a084\n",
            "05/10/2021 17:09:48 - INFO - __main__ -   device: cuda n_gpu: 1, distributed training: False, 16-bits training: False\n",
            "05/10/2021 17:09:48 - INFO - pytorch_pretrained_bert.tokenization -   loading vocabulary file https://s3.amazonaws.com/models.huggingface.co/bert/bert-base-uncased-vocab.txt from cache at /root/.pytorch_pretrained_bert/26bc1ad6c0ac742e9b52263248f6d0f00068293b33709fae12320c0e35ccfbbb.542ce4285a40d23a559526243235df47c5f75c197f04f37d1a0c124c32c9a084\n",
            "out_drop_finetune_syntext_and_numeric\n",
            "pytorch_model.bin\n",
            "05/10/2021 17:09:48 - INFO - modeling -   loading weights file out_drop_finetune_syntext_and_numeric/pytorch_model.bin\n",
            "05/10/2021 17:09:48 - INFO - modeling -   loading configuration file out_drop_finetune_syntext_and_numeric/config.json\n",
            "05/10/2021 17:09:48 - INFO - modeling -   Model config {\n",
            "  \"attention_probs_dropout_prob\": 0.1,\n",
            "  \"hidden_act\": \"gelu\",\n",
            "  \"hidden_dropout_prob\": 0.1,\n",
            "  \"hidden_size\": 768,\n",
            "  \"initializer_range\": 0.02,\n",
            "  \"intermediate_size\": 3072,\n",
            "  \"layer_norm_eps\": 1e-12,\n",
            "  \"max_position_embeddings\": 512,\n",
            "  \"num_attention_heads\": 12,\n",
            "  \"num_hidden_layers\": 12,\n",
            "  \"type_vocab_size\": 2,\n",
            "  \"vocab_size\": 30522\n",
            "}\n",
            "\n",
            "********************************************\n",
            "*** Start Prunning Model, rate: 0.4 ***\n",
            "********************************************\n",
            "Global Sparsity: 13.337669376693768%\n",
            "05/10/2021 17:09:55 - INFO - root -   Loading eval examples and features.\n",
            "\n",
            "05/10/2021 17:09:57 - INFO - __main__ -   ***** Running evaluation *****\n",
            "05/10/2021 17:09:57 - INFO - __main__ -     Num examples = 9536\n",
            "05/10/2021 17:09:57 - INFO - __main__ -     Batch size = 128\n",
            "Inference: 100% 75/75 [11:18<00:00,  9.04s/it]\n",
            "05/10/2021 17:21:20 - INFO - __main__ -   EM: 0.6108431208053692, Drop EM: 0.6720847315436241\n",
            "05/10/2021 17:21:20 - INFO - __main__ -   saving predictions.jsonl in preds_intermediate_dense\n",
            "Chaz Schilens chaz schilens || 3 3 || Houston Texans raiders || 2 2 || 29 29 || JaMarcus Russell russell || 80 80-yard || 2 2 || 3 3 || 29 29 || 51 51 || 4 4 || 2 2 || 29 29 || 9 9 || 5 5 || 53 53 || 24 24 || 29 29 || T. J. Houshmandzadeh t. j. houshmandzadeh || Exact-match accuracy 67.21\n",
            "F1 score 71.08\n",
            "67.21   &   71.08\n",
            "----\n",
            "date: 147 (1.54%)\n",
            "  Exact-match accuracy 44.218\n",
            "  F1 score 56.850\n",
            "number: 5877 (61.63%)\n",
            "  Exact-match accuracy 72.962\n",
            "  F1 score 73.039\n",
            "span: 3029 (31.76%)\n",
            "  Exact-match accuracy 67.877\n",
            "  F1 score 74.171\n",
            "spans: 483 (5.07%)\n",
            "  Exact-match accuracy 0.000\n",
            "  F1 score 32.288\n"
          ],
          "name": "stdout"
        }
      ]
    },
    {
      "cell_type": "code",
      "metadata": {
        "colab": {
          "base_uri": "https://localhost:8080/"
        },
        "id": "HDNJVARIIArX",
        "outputId": "9d9356a2-2b40-44f3-b79a-0aae1cd6771d"
      },
      "source": [
        "# Inference\n",
        "!python finetune_on_drop.py \\\n",
        "  --do_eval --do_inference  \\\n",
        "  --examples_n_features_dir ./data/examples_n_features/ \\\n",
        "  --eval_batch_size 128 \\\n",
        "  --init_weights_dir out_drop_finetune_syntext_and_numeric  \\\n",
        "  --output_dir preds_intermediate_dense \\\n",
        "  --prune_rate 0.5 \\\n",
        "  --prune_layer_name  \"intermediate.dense\"\n",
        "# Evaluation\n",
        "!python drop_eval.py --gold_path ../data/drop_dataset_dev.json --prediction_path ./preds_intermediate_dense/predictions.jsonl --answer_key prediction"
      ],
      "execution_count": null,
      "outputs": [
        {
          "output_type": "stream",
          "text": [
            "05/10/2021 17:21:28 - INFO - pytorch_pretrained_bert.tokenization -   loading vocabulary file https://s3.amazonaws.com/models.huggingface.co/bert/bert-base-uncased-vocab.txt from cache at /root/.pytorch_pretrained_bert/26bc1ad6c0ac742e9b52263248f6d0f00068293b33709fae12320c0e35ccfbbb.542ce4285a40d23a559526243235df47c5f75c197f04f37d1a0c124c32c9a084\n",
            "05/10/2021 17:21:28 - INFO - __main__ -   device: cuda n_gpu: 1, distributed training: False, 16-bits training: False\n",
            "05/10/2021 17:21:28 - INFO - pytorch_pretrained_bert.tokenization -   loading vocabulary file https://s3.amazonaws.com/models.huggingface.co/bert/bert-base-uncased-vocab.txt from cache at /root/.pytorch_pretrained_bert/26bc1ad6c0ac742e9b52263248f6d0f00068293b33709fae12320c0e35ccfbbb.542ce4285a40d23a559526243235df47c5f75c197f04f37d1a0c124c32c9a084\n",
            "out_drop_finetune_syntext_and_numeric\n",
            "pytorch_model.bin\n",
            "05/10/2021 17:21:28 - INFO - modeling -   loading weights file out_drop_finetune_syntext_and_numeric/pytorch_model.bin\n",
            "05/10/2021 17:21:28 - INFO - modeling -   loading configuration file out_drop_finetune_syntext_and_numeric/config.json\n",
            "05/10/2021 17:21:28 - INFO - modeling -   Model config {\n",
            "  \"attention_probs_dropout_prob\": 0.1,\n",
            "  \"hidden_act\": \"gelu\",\n",
            "  \"hidden_dropout_prob\": 0.1,\n",
            "  \"hidden_size\": 768,\n",
            "  \"initializer_range\": 0.02,\n",
            "  \"intermediate_size\": 3072,\n",
            "  \"layer_norm_eps\": 1e-12,\n",
            "  \"max_position_embeddings\": 512,\n",
            "  \"num_attention_heads\": 12,\n",
            "  \"num_hidden_layers\": 12,\n",
            "  \"type_vocab_size\": 2,\n",
            "  \"vocab_size\": 30522\n",
            "}\n",
            "\n",
            "********************************************\n",
            "*** Start Prunning Model, rate: 0.5 ***\n",
            "********************************************\n",
            "Global Sparsity: 16.672086720867206%\n",
            "05/10/2021 17:21:35 - INFO - root -   Loading eval examples and features.\n",
            "\n",
            "05/10/2021 17:21:37 - INFO - __main__ -   ***** Running evaluation *****\n",
            "05/10/2021 17:21:37 - INFO - __main__ -     Num examples = 9536\n",
            "05/10/2021 17:21:37 - INFO - __main__ -     Batch size = 128\n",
            "Inference: 100% 75/75 [11:18<00:00,  9.04s/it]\n",
            "05/10/2021 17:33:00 - INFO - __main__ -   EM: 0.5875629194630873, Drop EM: 0.6470218120805369\n",
            "05/10/2021 17:33:00 - INFO - __main__ -   saving predictions.jsonl in preds_intermediate_dense\n",
            "Chaz Schilens chaz schilens || 3 3 || Houston Texans raiders || 2 2 || 29 29 || JaMarcus Russell russell || 80 80-yard || 2 2 || 3 3 || 29 29 || 51 51 || 4 4 || 2 2 || 29 29 || 9 9 || 5 5 || 53 53 || 24 24 || 29 29 || T. J. Houshmandzadeh t. j. houshmandzadeh || Exact-match accuracy 64.70\n",
            "F1 score 68.59\n",
            "64.70   &   68.59\n",
            "----\n",
            "date: 152 (1.59%)\n",
            "  Exact-match accuracy 43.421\n",
            "  F1 score 56.355\n",
            "number: 5883 (61.69%)\n",
            "  Exact-match accuracy 69.998\n",
            "  F1 score 70.114\n",
            "span: 3018 (31.65%)\n",
            "  Exact-match accuracy 65.805\n",
            "  F1 score 72.147\n",
            "spans: 483 (5.07%)\n",
            "  Exact-match accuracy 0.000\n",
            "  F1 score 31.646\n"
          ],
          "name": "stdout"
        }
      ]
    },
    {
      "cell_type": "code",
      "metadata": {
        "colab": {
          "base_uri": "https://localhost:8080/"
        },
        "id": "nZMYjo6XIAlx",
        "outputId": "3fd6e4fe-f016-403b-c4a1-58bd512b09b7"
      },
      "source": [
        "# Inference\n",
        "!python finetune_on_drop.py \\\n",
        "  --do_eval --do_inference  \\\n",
        "  --examples_n_features_dir ./data/examples_n_features/ \\\n",
        "  --eval_batch_size 128 \\\n",
        "  --init_weights_dir out_drop_finetune_syntext_and_numeric  \\\n",
        "  --output_dir preds_intermediate_dense \\\n",
        "  --prune_rate 0.6 \\\n",
        "  --prune_layer_name  \"intermediate.dense\"\n",
        "# Evaluation\n",
        "!python drop_eval.py --gold_path ../data/drop_dataset_dev.json --prediction_path ./preds_intermediate_dense/predictions.jsonl --answer_key prediction"
      ],
      "execution_count": null,
      "outputs": [
        {
          "output_type": "stream",
          "text": [
            "05/10/2021 17:33:08 - INFO - pytorch_pretrained_bert.tokenization -   loading vocabulary file https://s3.amazonaws.com/models.huggingface.co/bert/bert-base-uncased-vocab.txt from cache at /root/.pytorch_pretrained_bert/26bc1ad6c0ac742e9b52263248f6d0f00068293b33709fae12320c0e35ccfbbb.542ce4285a40d23a559526243235df47c5f75c197f04f37d1a0c124c32c9a084\n",
            "05/10/2021 17:33:08 - INFO - __main__ -   device: cuda n_gpu: 1, distributed training: False, 16-bits training: False\n",
            "05/10/2021 17:33:08 - INFO - pytorch_pretrained_bert.tokenization -   loading vocabulary file https://s3.amazonaws.com/models.huggingface.co/bert/bert-base-uncased-vocab.txt from cache at /root/.pytorch_pretrained_bert/26bc1ad6c0ac742e9b52263248f6d0f00068293b33709fae12320c0e35ccfbbb.542ce4285a40d23a559526243235df47c5f75c197f04f37d1a0c124c32c9a084\n",
            "out_drop_finetune_syntext_and_numeric\n",
            "pytorch_model.bin\n",
            "05/10/2021 17:33:08 - INFO - modeling -   loading weights file out_drop_finetune_syntext_and_numeric/pytorch_model.bin\n",
            "05/10/2021 17:33:08 - INFO - modeling -   loading configuration file out_drop_finetune_syntext_and_numeric/config.json\n",
            "05/10/2021 17:33:08 - INFO - modeling -   Model config {\n",
            "  \"attention_probs_dropout_prob\": 0.1,\n",
            "  \"hidden_act\": \"gelu\",\n",
            "  \"hidden_dropout_prob\": 0.1,\n",
            "  \"hidden_size\": 768,\n",
            "  \"initializer_range\": 0.02,\n",
            "  \"intermediate_size\": 3072,\n",
            "  \"layer_norm_eps\": 1e-12,\n",
            "  \"max_position_embeddings\": 512,\n",
            "  \"num_attention_heads\": 12,\n",
            "  \"num_hidden_layers\": 12,\n",
            "  \"type_vocab_size\": 2,\n",
            "  \"vocab_size\": 30522\n",
            "}\n",
            "\n",
            "********************************************\n",
            "*** Start Prunning Model, rate: 0.6 ***\n",
            "********************************************\n",
            "Global Sparsity: 20.006504065040648%\n",
            "05/10/2021 17:33:14 - INFO - root -   Loading eval examples and features.\n",
            "\n",
            "05/10/2021 17:33:17 - INFO - __main__ -   ***** Running evaluation *****\n",
            "05/10/2021 17:33:17 - INFO - __main__ -     Num examples = 9536\n",
            "05/10/2021 17:33:17 - INFO - __main__ -     Batch size = 128\n",
            "Inference: 100% 75/75 [11:18<00:00,  9.04s/it]\n",
            "05/10/2021 17:44:40 - INFO - __main__ -   EM: 0.4829068791946309, Drop EM: 0.5374370805369127\n",
            "05/10/2021 17:44:40 - INFO - __main__ -   saving predictions.jsonl in preds_intermediate_dense\n",
            "Chaz Schilens chaz schilens || 3 3 || Houston Texans raiders || 3 2 || 29 29 || JaMarcus Russell russell || 80 80-yard || 2 2 || 3 3 || 29 29 || 51 51 || 5 4 || 2 2 || 29 29 || 9 9 || 5 5 || 53 53 || 24 24 || 29 29 || T. J. Houshmandzadeh t. j. houshmandzadeh || Exact-match accuracy 53.74\n",
            "F1 score 57.75\n",
            "53.74   &   57.75\n",
            "----\n",
            "date: 146 (1.53%)\n",
            "  Exact-match accuracy 39.726\n",
            "  F1 score 50.288\n",
            "number: 5876 (61.62%)\n",
            "  Exact-match accuracy 55.718\n",
            "  F1 score 55.838\n",
            "span: 3021 (31.68%)\n",
            "  Exact-match accuracy 59.351\n",
            "  F1 score 66.685\n",
            "spans: 493 (5.17%)\n",
            "  Exact-match accuracy 0.000\n",
            "  F1 score 28.053\n"
          ],
          "name": "stdout"
        }
      ]
    },
    {
      "cell_type": "code",
      "metadata": {
        "colab": {
          "base_uri": "https://localhost:8080/"
        },
        "id": "QS-qoG3VIAga",
        "outputId": "57d97aea-7278-4a15-dfb6-d64f17c19bb8"
      },
      "source": [
        "# Inference\n",
        "!python finetune_on_drop.py \\\n",
        "  --do_eval --do_inference  \\\n",
        "  --examples_n_features_dir ./data/examples_n_features/ \\\n",
        "  --eval_batch_size 128 \\\n",
        "  --init_weights_dir out_drop_finetune_syntext_and_numeric  \\\n",
        "  --output_dir preds_intermediate_dense \\\n",
        "  --prune_rate 0.7 \\\n",
        "  --prune_layer_name  \"intermediate.dense\"\n",
        "# Evaluation\n",
        "!python drop_eval.py --gold_path ../data/drop_dataset_dev.json --prediction_path ./preds_intermediate_dense/predictions.jsonl --answer_key prediction"
      ],
      "execution_count": null,
      "outputs": [
        {
          "output_type": "stream",
          "text": [
            "05/10/2021 17:44:48 - INFO - pytorch_pretrained_bert.tokenization -   loading vocabulary file https://s3.amazonaws.com/models.huggingface.co/bert/bert-base-uncased-vocab.txt from cache at /root/.pytorch_pretrained_bert/26bc1ad6c0ac742e9b52263248f6d0f00068293b33709fae12320c0e35ccfbbb.542ce4285a40d23a559526243235df47c5f75c197f04f37d1a0c124c32c9a084\n",
            "05/10/2021 17:44:48 - INFO - __main__ -   device: cuda n_gpu: 1, distributed training: False, 16-bits training: False\n",
            "05/10/2021 17:44:48 - INFO - pytorch_pretrained_bert.tokenization -   loading vocabulary file https://s3.amazonaws.com/models.huggingface.co/bert/bert-base-uncased-vocab.txt from cache at /root/.pytorch_pretrained_bert/26bc1ad6c0ac742e9b52263248f6d0f00068293b33709fae12320c0e35ccfbbb.542ce4285a40d23a559526243235df47c5f75c197f04f37d1a0c124c32c9a084\n",
            "out_drop_finetune_syntext_and_numeric\n",
            "pytorch_model.bin\n",
            "05/10/2021 17:44:48 - INFO - modeling -   loading weights file out_drop_finetune_syntext_and_numeric/pytorch_model.bin\n",
            "05/10/2021 17:44:48 - INFO - modeling -   loading configuration file out_drop_finetune_syntext_and_numeric/config.json\n",
            "05/10/2021 17:44:48 - INFO - modeling -   Model config {\n",
            "  \"attention_probs_dropout_prob\": 0.1,\n",
            "  \"hidden_act\": \"gelu\",\n",
            "  \"hidden_dropout_prob\": 0.1,\n",
            "  \"hidden_size\": 768,\n",
            "  \"initializer_range\": 0.02,\n",
            "  \"intermediate_size\": 3072,\n",
            "  \"layer_norm_eps\": 1e-12,\n",
            "  \"max_position_embeddings\": 512,\n",
            "  \"num_attention_heads\": 12,\n",
            "  \"num_hidden_layers\": 12,\n",
            "  \"type_vocab_size\": 2,\n",
            "  \"vocab_size\": 30522\n",
            "}\n",
            "\n",
            "********************************************\n",
            "*** Start Prunning Model, rate: 0.7 ***\n",
            "********************************************\n",
            "Global Sparsity: 23.34092140921409%\n",
            "05/10/2021 17:44:55 - INFO - root -   Loading eval examples and features.\n",
            "\n",
            "05/10/2021 17:44:57 - INFO - __main__ -   ***** Running evaluation *****\n",
            "05/10/2021 17:44:57 - INFO - __main__ -     Num examples = 9536\n",
            "05/10/2021 17:44:57 - INFO - __main__ -     Batch size = 128\n",
            "Inference: 100% 75/75 [11:18<00:00,  9.04s/it]\n",
            "05/10/2021 17:56:25 - INFO - __main__ -   EM: 0.1363255033557047, Drop EM: 0.1631711409395973\n",
            "05/10/2021 17:56:25 - INFO - __main__ -   saving predictions.jsonl in preds_intermediate_dense\n",
            "Chaz Schilens chaz schilens || 24 3 || Raiders stayed at home for a Week 16 duel with the Houston Texans raiders || 30 - yard field goal 2 || 53 29 || Russell russell || 29 - yard touchdown pass from Russell , followed up by an 80 80-yard || 33 - yard and 2 || 33 3 || 29 29 || 29 51 || 3 4 || 20 - yard touchdown 2 || 29 29 || 19 9 || 30 5 || 53 53 || 30 24 || 33 - yard and a 30 29 || Jason Witten . The Bengals would end the half with kicker Shayne Graham getting a 41 - yard and a 31 - yard field goal . In the third quarter , Cincinnati tried to rally as QB Carson Palmer completed an 18 - yard TD pass to WR T. J. Houshmandzadeh t. j. houshmandzadeh || Exact-match accuracy 16.32\n",
            "F1 score 20.87\n",
            "16.32   &   20.87\n",
            "----\n",
            "date: 150 (1.57%)\n",
            "  Exact-match accuracy 20.667\n",
            "  F1 score 29.813\n",
            "number: 5848 (61.33%)\n",
            "  Exact-match accuracy 11.679\n",
            "  F1 score 12.025\n",
            "span: 3042 (31.90%)\n",
            "  Exact-match accuracy 27.679\n",
            "  F1 score 37.978\n",
            "spans: 496 (5.20%)\n",
            "  Exact-match accuracy 0.000\n",
            "  F1 score 17.595\n"
          ],
          "name": "stdout"
        }
      ]
    },
    {
      "cell_type": "code",
      "metadata": {
        "colab": {
          "base_uri": "https://localhost:8080/"
        },
        "id": "XEieu3WSIAap",
        "outputId": "5309ae4c-f8d5-4b51-9d5b-be0b8b67e1a9"
      },
      "source": [
        "# Inference\n",
        "!python finetune_on_drop.py \\\n",
        "  --do_eval --do_inference  \\\n",
        "  --examples_n_features_dir ./data/examples_n_features/ \\\n",
        "  --eval_batch_size 128 \\\n",
        "  --init_weights_dir out_drop_finetune_syntext_and_numeric  \\\n",
        "  --output_dir preds_intermediate_dense \\\n",
        "  --prune_rate 0.8 \\\n",
        "  --prune_layer_name  \"intermediate.dense\"\n",
        "# Evaluation\n",
        "!python drop_eval.py --gold_path ../data/drop_dataset_dev.json --prediction_path ./preds_intermediate_dense/predictions.jsonl --answer_key prediction"
      ],
      "execution_count": null,
      "outputs": [
        {
          "output_type": "stream",
          "text": [
            "05/10/2021 17:56:35 - INFO - pytorch_pretrained_bert.tokenization -   loading vocabulary file https://s3.amazonaws.com/models.huggingface.co/bert/bert-base-uncased-vocab.txt from cache at /root/.pytorch_pretrained_bert/26bc1ad6c0ac742e9b52263248f6d0f00068293b33709fae12320c0e35ccfbbb.542ce4285a40d23a559526243235df47c5f75c197f04f37d1a0c124c32c9a084\n",
            "05/10/2021 17:56:35 - INFO - __main__ -   device: cuda n_gpu: 1, distributed training: False, 16-bits training: False\n",
            "05/10/2021 17:56:36 - INFO - pytorch_pretrained_bert.tokenization -   loading vocabulary file https://s3.amazonaws.com/models.huggingface.co/bert/bert-base-uncased-vocab.txt from cache at /root/.pytorch_pretrained_bert/26bc1ad6c0ac742e9b52263248f6d0f00068293b33709fae12320c0e35ccfbbb.542ce4285a40d23a559526243235df47c5f75c197f04f37d1a0c124c32c9a084\n",
            "out_drop_finetune_syntext_and_numeric\n",
            "pytorch_model.bin\n",
            "05/10/2021 17:56:36 - INFO - modeling -   loading weights file out_drop_finetune_syntext_and_numeric/pytorch_model.bin\n",
            "05/10/2021 17:56:36 - INFO - modeling -   loading configuration file out_drop_finetune_syntext_and_numeric/config.json\n",
            "05/10/2021 17:56:36 - INFO - modeling -   Model config {\n",
            "  \"attention_probs_dropout_prob\": 0.1,\n",
            "  \"hidden_act\": \"gelu\",\n",
            "  \"hidden_dropout_prob\": 0.1,\n",
            "  \"hidden_size\": 768,\n",
            "  \"initializer_range\": 0.02,\n",
            "  \"intermediate_size\": 3072,\n",
            "  \"layer_norm_eps\": 1e-12,\n",
            "  \"max_position_embeddings\": 512,\n",
            "  \"num_attention_heads\": 12,\n",
            "  \"num_hidden_layers\": 12,\n",
            "  \"type_vocab_size\": 2,\n",
            "  \"vocab_size\": 30522\n",
            "}\n",
            "\n",
            "********************************************\n",
            "*** Start Prunning Model, rate: 0.8 ***\n",
            "********************************************\n",
            "Global Sparsity: 26.675338753387535%\n",
            "05/10/2021 17:56:42 - INFO - root -   Loading eval examples and features.\n",
            "\n",
            "05/10/2021 17:56:45 - INFO - __main__ -   ***** Running evaluation *****\n",
            "05/10/2021 17:56:45 - INFO - __main__ -     Num examples = 9536\n",
            "05/10/2021 17:56:45 - INFO - __main__ -     Batch size = 128\n",
            "Inference: 100% 75/75 [11:18<00:00,  9.04s/it]\n",
            "05/10/2021 18:08:23 - INFO - __main__ -   EM: 0.01960989932885906, Drop EM: 0.022441275167785234\n",
            "05/10/2021 18:08:23 - INFO - __main__ -   saving predictions.jsonl in preds_intermediate_dense\n",
            "29 - yard touchdown pass from Russell , followed up by an 80 - yard punt return for a touchdown . The Texans tried to rally in the fourth quarter as Brown nailed a 40 - yard field goal , chaz schilens || 20 - yard touchdown pass to rookie wide receiver Chaz Schilens . The Texans would respond with fullback Vonta Leach 3 || in the first quarter raiders || a 1 - yard touchdown run , yet the Raiders would answer with kicker Sebastian Janikowski getting a 2 || 24 - yard field goal . Oakland would take the lead in the third quarter with wide receiver Johnnie Lee Higgins catching a 29 - yard touchdown pass from Russell , followed up by an 80 - yard punt return for a touchdown . The Texans tried to rally in the fourth quarter as Brown nailed a 40 - yard field goal , yet the Raiders 29 || in the first quarter as quarterback JaMarcus Russell completed a 20 - yard touchdown pass to rookie wide receiver Chaz Schilens . The Texans would respond with fullback Vonta Leach getting a 1 - yard touchdown run , yet the Raiders would answer with kicker Sebastian Janikowski getting a 33 - yard and a 30 - yard field goal . Houston would tie the game in the second quarter with kicker Kris Brown getting a 53 - yard and a 24 - yard field goal . Oakland would take the lead in the third quarter with wide receiver Johnnie Lee Higgins catching a 29 - yard touchdown pass from Russell , followed up by an 80 - yard punt return for a touchdown . The Texans tried to rally in the fourth quarter as Brown nailed a 40 - yard field goal , yet the Raiders russell || 20 - yard touchdown pass to rookie wide receiver Chaz Schilens . The Texans would respond with fullback Vonta Leach getting a 1 - yard touchdown run , yet the Raiders would answer with kicker Sebastian Janikowski getting a 33 - yard and a 30 - yard field goal . Houston would tie the game in the second quarter with kicker Kris Brown getting a 53 - yard and a 24 - yard field goal . Oakland would take the lead in the third quarter with wide receiver Johnnie Lee Higgins catching a 29 - yard touchdown pass from Russell , followed up by an 80 80-yard || yet the Raiders would answer with kicker Sebastian Janikowski getting a 33 - yard and a 30 - yard field goal . Houston would tie the game in the second quarter with kicker Kris Brown getting a 53 - yard and a 24 - yard field goal . Oakland would take the lead in the third quarter with wide receiver Johnnie Lee Higgins catching a 29 - yard touchdown pass from Russell , followed up by an 80 - yard punt return for a touchdown . 2 || 30 3 || 24 - yard field goal . Oakland would take the lead in the third quarter with wide receiver Johnnie Lee Higgins catching a 29 - yard touchdown pass from Russell , followed up by an 80 - yard punt return for a touchdown . The Texans tried to rally in the fourth quarter as Brown nailed a 40 - yard field goal , yet the Raiders 29 || 29 - yard touchdown pass from Russell , followed up by an 80 - yard punt return for a touchdown . The Texans tried to rally in the fourth quarter as Brown nailed a 40 51 || 29 - yard touchdown pass from Russell , 4 || 29 - yard touchdown pass from Russell , 2 || 29 - yard touchdown pass from Russell , followed up by an 80 29 || 29 - yard touchdown pass from Russell , followed up by an 80 - yard punt return for a touchdown . The Texans tried to rally in the fourth quarter as Brown nailed a 40 9 || yet the Raiders would answer with kicker Sebastian Janikowski getting a 33 - yard and a 30 - yard field goal . Houston would tie the game in the second quarter with kicker Kris Brown getting a 53 - yard and a 24 - yard field goal . Oakland would take the lead in the third quarter with wide receiver Johnnie Lee Higgins catching a 29 - yard touchdown pass from Russell , followed up by an 80 - yard punt return for a touchdown . The Texans tried to rally in the fourth quarter as Brown nailed a 40 - yard field goal , yet the Raiders ' defense would shut down any possible attempt . 5 || Leach getting a 1 - yard touchdown run , yet the Raiders would answer with kicker Sebastian Janikowski getting a 33 - yard and a 30 - yard field goal . Houston would tie the game in the second quarter with kicker Kris Brown getting a 53 - yard and a 24 - yard field goal . Oakland would take the lead in the third quarter with wide receiver Johnnie Lee Higgins catching a 29 - yard touchdown pass from Russell , followed up by an 80 - yard punt return for a touchdown . 53 || 20 - yard touchdown pass to rookie wide receiver Chaz Schilens . The Texans would respond with fullback Vonta Leach getting a 1 - yard touchdown run , yet the Raiders would answer with kicker Sebastian Janikowski getting a 33 - yard and a 30 - yard field goal . Houston would tie the game in the second quarter with kicker Kris Brown getting a 53 - yard and a 24 - yard field goal . Oakland would take the lead in the third quarter with wide receiver Johnnie Lee Higgins catching a 29 - yard touchdown pass from Russell , followed up by an 80 - yard punt return for a touchdown . The Texans tried to rally in the fourth quarter as Brown nailed a 40 24 || 30 - yard field goal . Houston would tie the game in the second quarter with kicker Kris Brown getting a 53 - yard and a 24 - yard field goal . Oakland would take the lead in the third quarter with wide receiver Johnnie Lee Higgins catching a 29 - yard touchdown pass from Russell , followed up by an 80 - yard punt return for a touchdown . The Texans tried to rally in the fourth quarter as Brown nailed a 40 29 || searching for their first win , the Bengals flew to Texas Stadium for a Week 5 interconference duel with the Dallas Cowboys . In the first quarter , Cincinnati trailed early as Cowboys kicker Nick Folk got a 30 - yard field goal , along with RB Felix Jones getting a 33 - yard TD run . In the second quarter , Dallas increased its lead as QB Tony Romo completed a 4 - yard TD pass to TE Jason Witten . The Bengals would end the half with kicker Shayne Graham getting a 41 - yard and a 31 - yard field goal . In the third quarter , Cincinnati tried to rally as QB Carson Palmer completed an 18 - yard TD pass to WR T. J. Houshmandzadeh . In the fourth quarter , the Bengals got closer as Graham got a 40 - yard field goal , yet the Cowboys answered with Romo completing a 57 - yard TD pass to WR Terrell Owens . Cincinnati tried to come back as Palmer completed a 10 - yard TD pass to Houshmandzadeh t. j. houshmandzadeh || Exact-match accuracy 2.24\n",
            "F1 score 5.72\n",
            "2.24   &   5.72\n",
            "----\n",
            "date: 146 (1.53%)\n",
            "  Exact-match accuracy 2.740\n",
            "  F1 score 7.329\n",
            "number: 5833 (61.17%)\n",
            "  Exact-match accuracy 0.463\n",
            "  F1 score 1.225\n",
            "span: 3055 (32.04%)\n",
            "  Exact-match accuracy 5.990\n",
            "  F1 score 14.051\n",
            "spans: 502 (5.26%)\n",
            "  Exact-match accuracy 0.000\n",
            "  F1 score 6.880\n"
          ],
          "name": "stdout"
        }
      ]
    },
    {
      "cell_type": "code",
      "metadata": {
        "colab": {
          "base_uri": "https://localhost:8080/"
        },
        "id": "SaKxK7UGIAVs",
        "outputId": "768b792b-5fa3-45e4-d692-f43ffcd01622"
      },
      "source": [
        "# Inference\n",
        "!python finetune_on_drop.py \\\n",
        "  --do_eval --do_inference  \\\n",
        "  --examples_n_features_dir ./data/examples_n_features/ \\\n",
        "  --eval_batch_size 128 \\\n",
        "  --init_weights_dir out_drop_finetune_syntext_and_numeric  \\\n",
        "  --output_dir preds_intermediate_dense \\\n",
        "  --prune_rate 0.9 \\\n",
        "  --prune_layer_name  \"intermediate.dense\"\n",
        "# Evaluation\n",
        "!python drop_eval.py --gold_path ../data/drop_dataset_dev.json --prediction_path ./preds_intermediate_dense/predictions.jsonl --answer_key prediction"
      ],
      "execution_count": null,
      "outputs": [
        {
          "output_type": "stream",
          "text": [
            "05/10/2021 18:08:39 - INFO - pytorch_pretrained_bert.tokenization -   loading vocabulary file https://s3.amazonaws.com/models.huggingface.co/bert/bert-base-uncased-vocab.txt from cache at /root/.pytorch_pretrained_bert/26bc1ad6c0ac742e9b52263248f6d0f00068293b33709fae12320c0e35ccfbbb.542ce4285a40d23a559526243235df47c5f75c197f04f37d1a0c124c32c9a084\n",
            "05/10/2021 18:08:39 - INFO - __main__ -   device: cuda n_gpu: 1, distributed training: False, 16-bits training: False\n",
            "05/10/2021 18:08:40 - INFO - pytorch_pretrained_bert.tokenization -   loading vocabulary file https://s3.amazonaws.com/models.huggingface.co/bert/bert-base-uncased-vocab.txt from cache at /root/.pytorch_pretrained_bert/26bc1ad6c0ac742e9b52263248f6d0f00068293b33709fae12320c0e35ccfbbb.542ce4285a40d23a559526243235df47c5f75c197f04f37d1a0c124c32c9a084\n",
            "out_drop_finetune_syntext_and_numeric\n",
            "pytorch_model.bin\n",
            "05/10/2021 18:08:40 - INFO - modeling -   loading weights file out_drop_finetune_syntext_and_numeric/pytorch_model.bin\n",
            "05/10/2021 18:08:40 - INFO - modeling -   loading configuration file out_drop_finetune_syntext_and_numeric/config.json\n",
            "05/10/2021 18:08:40 - INFO - modeling -   Model config {\n",
            "  \"attention_probs_dropout_prob\": 0.1,\n",
            "  \"hidden_act\": \"gelu\",\n",
            "  \"hidden_dropout_prob\": 0.1,\n",
            "  \"hidden_size\": 768,\n",
            "  \"initializer_range\": 0.02,\n",
            "  \"intermediate_size\": 3072,\n",
            "  \"layer_norm_eps\": 1e-12,\n",
            "  \"max_position_embeddings\": 512,\n",
            "  \"num_attention_heads\": 12,\n",
            "  \"num_hidden_layers\": 12,\n",
            "  \"type_vocab_size\": 2,\n",
            "  \"vocab_size\": 30522\n",
            "}\n",
            "\n",
            "********************************************\n",
            "*** Start Prunning Model, rate: 0.9 ***\n",
            "********************************************\n",
            "Global Sparsity: 30.00975609756098%\n",
            "05/10/2021 18:08:46 - INFO - root -   Loading eval examples and features.\n",
            "\n",
            "05/10/2021 18:08:48 - INFO - __main__ -   ***** Running evaluation *****\n",
            "05/10/2021 18:08:48 - INFO - __main__ -     Num examples = 9536\n",
            "05/10/2021 18:08:48 - INFO - __main__ -     Batch size = 128\n",
            "Inference: 100% 75/75 [11:18<00:00,  9.04s/it]\n",
            "05/10/2021 18:20:29 - INFO - __main__ -   EM: 0.001363255033557047, Drop EM: 0.0014681208053691276\n",
            "05/10/2021 18:20:29 - INFO - __main__ -   saving predictions.jsonl in preds_intermediate_dense\n",
            "53 - yard and a 24 - yard field goal . Oakland would take the lead in the third quarter with wide receiver Johnnie Lee Higgins catching a 29 - yard touchdown pass from chaz schilens || 53 - yard and a 24 - yard field goal . Oakland would take the lead in the third quarter with wide receiver Johnnie Lee Higgins catching a 29 - yard touchdown pass from Russell , followed up by an 80 - yard punt return for a touchdown . The Texans tried to rally in the fourth quarter as Brown nailed a 40 - yard field goal , yet the Raiders ' defense would shut down 3 || a touchdown . The Texans tried to rally in the fourth quarter as Brown nailed a 40 - yard field goal , yet the Raiders ' defense would shut down any possible raiders || completed a 20 - yard touchdown pass to rookie wide 2 || The Texans would respond with fullback Vonta Leach getting a 1 - yard touchdown run , yet the Raiders would answer with kicker Sebastian Janikowski getting a 33 - yard and a 30 - yard field goal . Houston would tie the game in the second quarter with kicker Kris Brown getting a 53 - yard and a 24 - yard field goal . Oakland would take the lead in the third quarter with wide receiver Johnnie Lee Higgins catching a 29 - yard touchdown pass from Russell , followed up by an 80 - yard punt return for a touchdown 29 || 53 - yard and a 24 - yard field goal . Oakland would take the lead in the third quarter with wide receiver Johnnie Lee Higgins catching a 29 - yard touchdown pass from Russell , followed up by an 80 - yard punt return for a touchdown russell || a touchdown . The Texans tried to rally in the fourth quarter as Brown nailed a 40 - yard field goal , yet the Raiders ' defense would shut down any possible 80-yard || Hoping to rebound from their loss to the Patriots , the Raiders stayed at home for a Week 16 duel with the Houston Texans . Oakland would get the early lead in the first quarter as quarterback JaMarcus Russell completed a 20 - yard touchdown pass to rookie wide receiver Chaz Schilens . The Texans would respond with fullback Vonta Leach getting a 1 - yard touchdown run , yet the Raiders would answer with kicker Sebastian Janikowski getting a 33 - yard and a 30 - yard field goal . Houston would tie the game in the second quarter with kicker Kris Brown getting a 53 - yard and a 24 - yard field goal . Oakland would take the lead in the third quarter with wide receiver Johnnie Lee Higgins catching a 29 - yard touchdown pass from Russell , followed up by an 80 - yard punt return for a touchdown . The Texans tried to rally in the fourth quarter as Brown nailed a 40 - yard field goal , yet the Raiders ' defense would shut down any possible 2 || Hoping to rebound from their loss to the Patriots , the Raiders stayed at home for a Week 16 duel with the Houston Texans . Oakland would get the early lead in the first quarter as quarterback JaMarcus Russell completed a 20 - yard touchdown pass to rookie wide receiver Chaz Schilens . The Texans would respond with fullback Vonta Leach getting a 1 - yard touchdown run , yet the Raiders would answer with kicker Sebastian Janikowski getting a 33 - yard and a 30 - yard field goal . Houston would tie the game in the second quarter with kicker Kris Brown getting a 53 - yard and a 24 - yard field goal . Oakland would take the lead in the third quarter with wide receiver Johnnie Lee Higgins catching a 29 - yard touchdown pass from Russell , followed up by an 80 - yard punt return for a touchdown 3 || Hoping to rebound from their loss to the Patriots , the Raiders stayed at home for a Week 16 duel with the Houston 29 || Hoping to rebound from their loss to the Patriots , the Raiders stayed at home for a Week 16 duel with the Houston Texans . Oakland would get the early lead in the first quarter as quarterback JaMarcus Russell completed a 20 - yard touchdown pass to rookie wide receiver Chaz Schil 51 || 53 - yard and a 24 - yard field goal 4 || 53 - yard and a 24 - yard field goal 2 || 53 - yard and a 24 - yard field goal 29 || 53 - yard and a 24 - yard field goal . Oakland would take the lead in the third quarter with wide receiver Johnnie Lee Higgins catching a 29 - yard touchdown pass from Russell , followed up by an 80 - yard punt return for a touchdown . The Texans tried to rally in the fourth quarter as Brown nailed a 40 - yard 9 || 53 - yard and a 24 - yard field goal . Oakland would take the lead in the third quarter with wide receiver Johnnie Lee Higgins catching a 29 - yard touchdown pass from Russell , followed up by an 80 - yard punt return for a touchdown 5 || 53 - yard and a 24 - yard field goal . Oakland would take the lead in the third quarter with wide receiver Johnnie Lee Higgins catching a 29 - yard touchdown pass from Russell , followed up by an 80 - yard punt return for a touchdown . The Texans tried to rally in the fourth quarter as Brown nailed a 40 - yard field goal , yet the Raiders ' defense 53 || 53 - yard and a 24 - yard field goal . Oakland would take the lead in the third quarter with wide receiver Johnnie Lee Higgins catching a 29 - yard touchdown pass from Russell , followed up by an 80 - yard punt return for a touchdown . The Texans tried to rally 24 || from their loss to the Patriots , the Raiders stayed at home for a Week 16 duel with the Houston Texans . Oakland would get the early lead in the first quarter as quarterback JaMarcus Russell completed a 20 - yard touchdown pass to rookie wide 29 || a failed 2 - point conversion ) , but Dallas pulled away t. j. houshmandzadeh || Exact-match accuracy 0.15\n",
            "F1 score 2.45\n",
            "0.15   &   2.45\n",
            "----\n",
            "date: 148 (1.55%)\n",
            "  Exact-match accuracy 0.000\n",
            "  F1 score 2.311\n",
            "number: 5841 (61.25%)\n",
            "  Exact-match accuracy 0.223\n",
            "  F1 score 0.769\n",
            "span: 3062 (32.11%)\n",
            "  Exact-match accuracy 0.033\n",
            "  F1 score 5.577\n",
            "spans: 485 (5.09%)\n",
            "  Exact-match accuracy 0.000\n",
            "  F1 score 2.979\n"
          ],
          "name": "stdout"
        }
      ]
    },
    {
      "cell_type": "code",
      "metadata": {
        "colab": {
          "base_uri": "https://localhost:8080/"
        },
        "id": "RlYLcDmXIWgr",
        "outputId": "5eae126d-473b-443f-9dc8-b0ef97e0b8bb"
      },
      "source": [
        "# Inference\n",
        "!python finetune_on_drop.py \\\n",
        "  --do_eval --do_inference  \\\n",
        "  --examples_n_features_dir ./data/examples_n_features/ \\\n",
        "  --eval_batch_size 128 \\\n",
        "  --init_weights_dir out_drop_finetune_syntext_and_numeric  \\\n",
        "  --output_dir preds_intermediate_dense \\\n",
        "  --prune_rate 1. \\\n",
        "  --prune_layer_name  \"intermediate.dense\"\n",
        "# Evaluation\n",
        "!python drop_eval.py --gold_path ../data/drop_dataset_dev.json --prediction_path ./preds_intermediate_dense/predictions.jsonl --answer_key prediction"
      ],
      "execution_count": null,
      "outputs": [
        {
          "output_type": "stream",
          "text": [
            "05/10/2021 18:20:47 - INFO - pytorch_pretrained_bert.tokenization -   loading vocabulary file https://s3.amazonaws.com/models.huggingface.co/bert/bert-base-uncased-vocab.txt from cache at /root/.pytorch_pretrained_bert/26bc1ad6c0ac742e9b52263248f6d0f00068293b33709fae12320c0e35ccfbbb.542ce4285a40d23a559526243235df47c5f75c197f04f37d1a0c124c32c9a084\n",
            "05/10/2021 18:20:47 - INFO - __main__ -   device: cuda n_gpu: 1, distributed training: False, 16-bits training: False\n",
            "05/10/2021 18:20:48 - INFO - pytorch_pretrained_bert.tokenization -   loading vocabulary file https://s3.amazonaws.com/models.huggingface.co/bert/bert-base-uncased-vocab.txt from cache at /root/.pytorch_pretrained_bert/26bc1ad6c0ac742e9b52263248f6d0f00068293b33709fae12320c0e35ccfbbb.542ce4285a40d23a559526243235df47c5f75c197f04f37d1a0c124c32c9a084\n",
            "out_drop_finetune_syntext_and_numeric\n",
            "pytorch_model.bin\n",
            "05/10/2021 18:20:48 - INFO - modeling -   loading weights file out_drop_finetune_syntext_and_numeric/pytorch_model.bin\n",
            "05/10/2021 18:20:48 - INFO - modeling -   loading configuration file out_drop_finetune_syntext_and_numeric/config.json\n",
            "05/10/2021 18:20:48 - INFO - modeling -   Model config {\n",
            "  \"attention_probs_dropout_prob\": 0.1,\n",
            "  \"hidden_act\": \"gelu\",\n",
            "  \"hidden_dropout_prob\": 0.1,\n",
            "  \"hidden_size\": 768,\n",
            "  \"initializer_range\": 0.02,\n",
            "  \"intermediate_size\": 3072,\n",
            "  \"layer_norm_eps\": 1e-12,\n",
            "  \"max_position_embeddings\": 512,\n",
            "  \"num_attention_heads\": 12,\n",
            "  \"num_hidden_layers\": 12,\n",
            "  \"type_vocab_size\": 2,\n",
            "  \"vocab_size\": 30522\n",
            "}\n",
            "\n",
            "********************************************\n",
            "*** Start Prunning Model, rate: 1.0 ***\n",
            "********************************************\n",
            "Global Sparsity: 33.34417344173441%\n",
            "05/10/2021 18:20:54 - INFO - root -   Loading eval examples and features.\n",
            "\n",
            "05/10/2021 18:20:56 - INFO - __main__ -   ***** Running evaluation *****\n",
            "05/10/2021 18:20:56 - INFO - __main__ -     Num examples = 9536\n",
            "05/10/2021 18:20:56 - INFO - __main__ -     Batch size = 128\n",
            "Inference: 100% 75/75 [11:17<00:00,  9.04s/it]\n",
            "05/10/2021 18:32:29 - INFO - __main__ -   EM: 0.004614093959731544, Drop EM: 0.00587248322147651\n",
            "05/10/2021 18:32:29 - INFO - __main__ -   saving predictions.jsonl in preds_intermediate_dense\n",
            "fullback Vonta Leach getting a 1 - yard touchdown run , yet the Raiders would answer with kicker Sebastian Janikowski getting a 33 chaz schilens || kicker Kris Brown getting a 53 3 || defense raiders || fullback Vonta Leach getting a 1 - yard touchdown run , yet the Raiders would answer with kicker Sebastian Janikowski getting a 33 2 || 33 29 || 24 - yard field goal . Oakland would take the lead in the third quarter with wide receiver Johnnie Lee Higgins catching a 29 - yard touchdown pass russell || 1 - yard touchdown run , yet the Raiders would answer with kicker Sebastian Janikowski getting a 33 80-yard || Janikowski 2 || 33 3 || 80 - yard punt return for a touchdown . The Texans tried to rally in the fourth quarter as Brown nailed a 40 29 || 29 - yard touchdown pass from Russell , followed up by an 80 51 || fullback Vonta Leach getting a 1 - yard touchdown run , yet the Raiders would answer with kicker Sebastian Janikowski getting a 33 4 || fullback Vonta Leach getting a 1 - yard touchdown run , yet the Raiders would answer with kicker Sebastian Janikowski getting a 33 2 || 29 - yard touchdown pass from Russell 29 || 80 - yard punt return for a touchdown . The Texans tried to rally in the fourth quarter as Brown nailed a 40 9 || 80 - yard punt return for a touchdown . The Texans tried to rally in the fourth quarter as Brown nailed a 40 - yard field goal 5 || the Raiders would answer with kicker Sebastian Janikowski getting a 33 53 || 1 - yard touchdown run , yet the Raiders would answer with kicker Sebastian Janikowski getting a 33 24 || fullback Vonta Leach getting a 1 - yard touchdown run , yet the Raiders would answer with kicker Sebastian Janikowski getting a 33 - yard 29 || 15 t. j. houshmandzadeh || Exact-match accuracy 0.59\n",
            "F1 score 4.49\n",
            "0.59   &   4.49\n",
            "----\n",
            "date: 152 (1.59%)\n",
            "  Exact-match accuracy 1.974\n",
            "  F1 score 7.355\n",
            "number: 5859 (61.44%)\n",
            "  Exact-match accuracy 0.546\n",
            "  F1 score 1.564\n",
            "span: 3033 (31.81%)\n",
            "  Exact-match accuracy 0.692\n",
            "  F1 score 9.924\n",
            "spans: 492 (5.16%)\n",
            "  Exact-match accuracy 0.000\n",
            "  F1 score 5.039\n"
          ],
          "name": "stdout"
        }
      ]
    },
    {
      "cell_type": "markdown",
      "metadata": {
        "id": "3-naDc3ZG_Cl"
      },
      "source": [
        "### Search"
      ]
    },
    {
      "cell_type": "code",
      "metadata": {
        "colab": {
          "base_uri": "https://localhost:8080/"
        },
        "id": "NX6E-C6oHAYG",
        "outputId": "6519bfc9-f3c8-42cd-8ff5-e4ca5e9c731f"
      },
      "source": [
        "# Inference\n",
        "!python finetune_on_drop.py \\\n",
        "  --do_eval --do_inference  \\\n",
        "  --examples_n_features_dir ./data/examples_n_features/ \\\n",
        "  --eval_batch_size 128 \\\n",
        "  --init_weights_dir out_drop_finetune_syntext_and_numeric  \\\n",
        "  --output_dir preds_intermediate_dense \\\n",
        "  --prune_rate 1. \\\n",
        "  --prune_layer_name  \"intermediate.dense\"\n",
        "# Evaluation\n",
        "!python drop_eval.py --gold_path ../data/drop_dataset_dev.json --prediction_path ./preds_intermediate_dense/predictions.jsonl --answer_key prediction"
      ],
      "execution_count": null,
      "outputs": [
        {
          "output_type": "stream",
          "text": [
            "1.2.0\n",
            "/usr/local/lib/python3.7/dist-packages/requests/__init__.py:91: RequestsDependencyWarning: urllib3 (1.26.4) or chardet (3.0.4) doesn't match a supported version!\n",
            "  RequestsDependencyWarning)\n",
            "05/11/2021 17:13:12 - INFO - pytorch_pretrained_bert.tokenization -   loading vocabulary file https://s3.amazonaws.com/models.huggingface.co/bert/bert-base-uncased-vocab.txt from cache at /root/.pytorch_pretrained_bert/26bc1ad6c0ac742e9b52263248f6d0f00068293b33709fae12320c0e35ccfbbb.542ce4285a40d23a559526243235df47c5f75c197f04f37d1a0c124c32c9a084\n",
            "05/11/2021 17:13:12 - INFO - __main__ -   device: cuda n_gpu: 1, distributed training: False, 16-bits training: False\n",
            "05/11/2021 17:13:13 - INFO - pytorch_pretrained_bert.tokenization -   loading vocabulary file https://s3.amazonaws.com/models.huggingface.co/bert/bert-base-uncased-vocab.txt from cache at /root/.pytorch_pretrained_bert/26bc1ad6c0ac742e9b52263248f6d0f00068293b33709fae12320c0e35ccfbbb.542ce4285a40d23a559526243235df47c5f75c197f04f37d1a0c124c32c9a084\n",
            "out_drop_finetune_syntext_and_numeric\n",
            "pytorch_model.bin\n",
            "05/11/2021 17:13:13 - INFO - modeling -   loading weights file out_drop_finetune_syntext_and_numeric/pytorch_model.bin\n",
            "05/11/2021 17:13:13 - INFO - modeling -   loading configuration file out_drop_finetune_syntext_and_numeric/config.json\n",
            "05/11/2021 17:13:13 - INFO - modeling -   Model config {\n",
            "  \"attention_probs_dropout_prob\": 0.1,\n",
            "  \"hidden_act\": \"gelu\",\n",
            "  \"hidden_dropout_prob\": 0.1,\n",
            "  \"hidden_size\": 768,\n",
            "  \"initializer_range\": 0.02,\n",
            "  \"intermediate_size\": 3072,\n",
            "  \"layer_norm_eps\": 1e-12,\n",
            "  \"max_position_embeddings\": 512,\n",
            "  \"num_attention_heads\": 12,\n",
            "  \"num_hidden_layers\": 12,\n",
            "  \"type_vocab_size\": 2,\n",
            "  \"vocab_size\": 30522\n",
            "}\n",
            "\n",
            "********************************************\n",
            "*** Start Prunning Model, rate: 1.0 ***\n",
            "********************************************\n",
            "Global Sparsity: 42.49756097560976%\n",
            "05/11/2021 17:13:22 - INFO - root -   Loading eval examples and features.\n",
            "\n",
            "05/11/2021 17:13:24 - INFO - __main__ -   ***** Running evaluation *****\n",
            "05/11/2021 17:13:24 - INFO - __main__ -     Num examples = 9536\n",
            "05/11/2021 17:13:24 - INFO - __main__ -     Batch size = 128\n",
            "Inference: 100% 75/75 [06:42<00:00,  5.37s/it]\n",
            "05/11/2021 17:20:12 - INFO - __main__ -   EM: 0.5076552013422819, Drop EM: 0.5657508389261745\n",
            "05/11/2021 17:20:12 - INFO - __main__ -   saving predictions.jsonl in preds_intermediate_dense\n",
            "Chaz Schilens chaz schilens || 3 3 || Houston Texans raiders || 3 2 || 29 29 || JaMarcus Russell russell || 80 80-yard || 3 2 || 3 3 || 29 29 || 51 51 || 4 4 || 2 2 || 29 29 || 9 9 || 4 5 || 53 53 || 24 24 || 29 29 || T. J. Houshmandzadeh t. j. houshmandzadeh || Exact-match accuracy 56.58\n",
            "F1 score 60.63\n",
            "56.58   &   60.63\n",
            "----\n",
            "date: 146 (1.53%)\n",
            "  Exact-match accuracy 47.260\n",
            "  F1 score 55.829\n",
            "number: 5879 (61.65%)\n",
            "  Exact-match accuracy 58.496\n",
            "  F1 score 58.682\n",
            "span: 3035 (31.83%)\n",
            "  Exact-match accuracy 62.175\n",
            "  F1 score 69.372\n",
            "spans: 476 (4.99%)\n",
            "  Exact-match accuracy 0.000\n",
            "  F1 score 30.460\n"
          ],
          "name": "stdout"
        }
      ]
    }
  ]
}