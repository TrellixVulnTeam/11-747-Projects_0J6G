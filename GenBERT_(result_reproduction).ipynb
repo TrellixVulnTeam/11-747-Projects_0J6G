{
  "nbformat": 4,
  "nbformat_minor": 0,
  "metadata": {
    "accelerator": "GPU",
    "colab": {
      "name": "GenBERT (result reproduction).ipynb",
      "provenance": [],
      "collapsed_sections": [],
      "machine_shape": "hm",
      "include_colab_link": true
    },
    "kernelspec": {
      "display_name": "Python 3",
      "name": "python3"
    },
    "language_info": {
      "name": "python"
    }
  },
  "cells": [
    {
      "cell_type": "markdown",
      "metadata": {
        "id": "view-in-github",
        "colab_type": "text"
      },
      "source": [
        "<a href=\"https://colab.research.google.com/github/gn03249822/11-747-Projects/blob/main/GenBERT_(result_reproduction).ipynb\" target=\"_parent\"><img src=\"https://colab.research.google.com/assets/colab-badge.svg\" alt=\"Open In Colab\"/></a>"
      ]
    },
    {
      "cell_type": "code",
      "metadata": {
        "id": "rt9U3CUeVAay"
      },
      "source": [
        "from google.colab import drive\n"
      ],
      "execution_count": 1,
      "outputs": []
    },
    {
      "cell_type": "code",
      "metadata": {
        "colab": {
          "base_uri": "https://localhost:8080/"
        },
        "id": "s4X4naHOVGQh",
        "outputId": "eb7fb3a3-9293-4a04-c3f5-dd8278b118fe"
      },
      "source": [
        "drive.mount('/content/drive')\n",
        "# !git clone https://github.com/ag1988/injecting_numeracy.git\n"
      ],
      "execution_count": 2,
      "outputs": [
        {
          "output_type": "stream",
          "text": [
            "Mounted at /content/drive\n"
          ],
          "name": "stdout"
        }
      ]
    },
    {
      "cell_type": "code",
      "metadata": {
        "colab": {
          "base_uri": "https://localhost:8080/"
        },
        "id": "FWDL_ewGVLRd",
        "outputId": "b13ddeb9-91e8-4ce5-a54b-2e511e375305"
      },
      "source": [
        "cd /content/drive/MyDrive/injecting_numeracy/pre_training/\n"
      ],
      "execution_count": 3,
      "outputs": [
        {
          "output_type": "stream",
          "text": [
            "/content/drive/MyDrive/injecting_numeracy/pre_training\n"
          ],
          "name": "stdout"
        }
      ]
    },
    {
      "cell_type": "code",
      "metadata": {
        "id": "vLNreVZl_tJh",
        "colab": {
          "base_uri": "https://localhost:8080/"
        },
        "outputId": "5255c5a7-dfd8-42c4-d04d-6a5431b08247"
      },
      "source": [
        "!pip install -r requirements.txt"
      ],
      "execution_count": 4,
      "outputs": [
        {
          "output_type": "stream",
          "text": [
            "Collecting allennlp==0.9\n",
            "\u001b[?25l  Downloading https://files.pythonhosted.org/packages/bb/bb/041115d8bad1447080e5d1e30097c95e4b66e36074277afce8620a61cee3/allennlp-0.9.0-py3-none-any.whl (7.6MB)\n",
            "\u001b[K     |████████████████████████████████| 7.6MB 9.2MB/s \n",
            "\u001b[?25hCollecting neuralcoref==4.0\n",
            "\u001b[?25l  Downloading https://files.pythonhosted.org/packages/06/6d/c90e5bfd1b8ef32f1b231a32f2f625bf33df7525324d2bbcd08992791d64/neuralcoref-4.0-cp37-cp37m-manylinux1_x86_64.whl (286kB)\n",
            "\u001b[K     |████████████████████████████████| 286kB 55.6MB/s \n",
            "\u001b[?25hCollecting spacy==2.1.3\n",
            "\u001b[?25l  Downloading https://files.pythonhosted.org/packages/c7/29/ede5977ea144bb5758407542eb363ebfb11bbb459d26dea5dd0545563854/spacy-2.1.3-cp37-cp37m-manylinux1_x86_64.whl (27.7MB)\n",
            "\u001b[K     |████████████████████████████████| 27.7MB 52.5MB/s \n",
            "\u001b[?25hCollecting spacy-wordnet\n",
            "\u001b[?25l  Downloading https://files.pythonhosted.org/packages/f7/f2/4d8070df0f7a7a9eeed74eb7e9ce3cf41349eb5e06b1e088de9eeca630e2/spacy-wordnet-0.0.4.tar.gz (648kB)\n",
            "\u001b[K     |████████████████████████████████| 655kB 46.3MB/s \n",
            "\u001b[?25hCollecting torch==1.2.0\n",
            "\u001b[?25l  Downloading https://files.pythonhosted.org/packages/05/65/5248be50c55ab7429dd5c11f5e2f9f5865606b80e854ca63139ad1a584f2/torch-1.2.0-cp37-cp37m-manylinux1_x86_64.whl (748.9MB)\n",
            "\u001b[K     |████████████████████████████████| 748.9MB 24kB/s \n",
            "\u001b[?25hCollecting nltk==3.4.5\n",
            "\u001b[?25l  Downloading https://files.pythonhosted.org/packages/f6/1d/d925cfb4f324ede997f6d47bea4d9babba51b49e87a767c170b77005889d/nltk-3.4.5.zip (1.5MB)\n",
            "\u001b[K     |████████████████████████████████| 1.5MB 50.5MB/s \n",
            "\u001b[?25hCollecting pytorch-pretrained-bert==0.6.2\n",
            "\u001b[?25l  Downloading https://files.pythonhosted.org/packages/d7/e0/c08d5553b89973d9a240605b9c12404bcf8227590de62bae27acbcfe076b/pytorch_pretrained_bert-0.6.2-py3-none-any.whl (123kB)\n",
            "\u001b[K     |████████████████████████████████| 133kB 62.5MB/s \n",
            "\u001b[?25hCollecting pytorch-transformers==1.1.0\n",
            "\u001b[?25l  Downloading https://files.pythonhosted.org/packages/50/89/ad0d6bb932d0a51793eaabcf1617a36ff530dc9ab9e38f765a35dc293306/pytorch_transformers-1.1.0-py3-none-any.whl (158kB)\n",
            "\u001b[K     |████████████████████████████████| 163kB 69.4MB/s \n",
            "\u001b[?25hCollecting tensorboardX\n",
            "\u001b[?25l  Downloading https://files.pythonhosted.org/packages/07/84/46421bd3e0e89a92682b1a38b40efc22dafb6d8e3d947e4ceefd4a5fabc7/tensorboardX-2.2-py2.py3-none-any.whl (120kB)\n",
            "\u001b[K     |████████████████████████████████| 122kB 69.4MB/s \n",
            "\u001b[?25hRequirement already satisfied: tqdm in /usr/local/lib/python3.7/dist-packages (from -r requirements.txt (line 10)) (4.41.1)\n",
            "Collecting jsonlines\n",
            "  Downloading https://files.pythonhosted.org/packages/d4/58/06f430ff7607a2929f80f07bfd820acbc508a4e977542fefcc522cde9dff/jsonlines-2.0.0-py3-none-any.whl\n",
            "Collecting ujson\n",
            "\u001b[?25l  Downloading https://files.pythonhosted.org/packages/17/4e/50e8e4cf5f00b537095711c2c86ac4d7191aed2b4fffd5a19f06898f6929/ujson-4.0.2-cp37-cp37m-manylinux1_x86_64.whl (179kB)\n",
            "\u001b[K     |████████████████████████████████| 184kB 56.2MB/s \n",
            "\u001b[?25hCollecting overrides\n",
            "  Downloading https://files.pythonhosted.org/packages/db/52/1ee39040faa35ee9a609a4c7c95b017713f0b8d63399d5ecbaa6555a3cea/overrides-6.1.0-py3-none-any.whl\n",
            "Collecting responses>=0.7\n",
            "  Downloading https://files.pythonhosted.org/packages/ba/00/0e63b7024c2d873bf57411ab0ed77eeafd5f44bace7cbf1d56bca8ab3be2/responses-0.13.3-py2.py3-none-any.whl\n",
            "Requirement already satisfied: requests>=2.18 in /usr/local/lib/python3.7/dist-packages (from allennlp==0.9->-r requirements.txt (line 1)) (2.23.0)\n",
            "Collecting flask-cors>=3.0.7\n",
            "  Downloading https://files.pythonhosted.org/packages/db/84/901e700de86604b1c4ef4b57110d4e947c218b9997adf5d38fa7da493bce/Flask_Cors-3.0.10-py2.py3-none-any.whl\n",
            "Requirement already satisfied: h5py in /usr/local/lib/python3.7/dist-packages (from allennlp==0.9->-r requirements.txt (line 1)) (2.10.0)\n",
            "Collecting jsonpickle\n",
            "  Downloading https://files.pythonhosted.org/packages/bb/1a/f2db026d4d682303793559f1c2bb425ba3ec0d6fd7ac63397790443f2461/jsonpickle-2.0.0-py2.py3-none-any.whl\n",
            "Requirement already satisfied: pytz>=2017.3 in /usr/local/lib/python3.7/dist-packages (from allennlp==0.9->-r requirements.txt (line 1)) (2018.9)\n",
            "Requirement already satisfied: pytest in /usr/local/lib/python3.7/dist-packages (from allennlp==0.9->-r requirements.txt (line 1)) (3.6.4)\n",
            "Requirement already satisfied: scipy in /usr/local/lib/python3.7/dist-packages (from allennlp==0.9->-r requirements.txt (line 1)) (1.4.1)\n",
            "Collecting flaky\n",
            "  Downloading https://files.pythonhosted.org/packages/43/0e/2f50064e327f41a1eb811df089f813036e19a64b95e33f8e9e0b96c2447e/flaky-3.7.0-py2.py3-none-any.whl\n",
            "Collecting unidecode\n",
            "\u001b[?25l  Downloading https://files.pythonhosted.org/packages/9e/25/723487ca2a52ebcee88a34d7d1f5a4b80b793f179ee0f62d5371938dfa01/Unidecode-1.2.0-py2.py3-none-any.whl (241kB)\n",
            "\u001b[K     |████████████████████████████████| 245kB 68.3MB/s \n",
            "\u001b[?25hCollecting numpydoc>=0.8.0\n",
            "\u001b[?25l  Downloading https://files.pythonhosted.org/packages/60/1d/9e398c53d6ae27d5ab312ddc16a9ffe1bee0dfdf1d6ec88c40b0ca97582e/numpydoc-1.1.0-py3-none-any.whl (47kB)\n",
            "\u001b[K     |████████████████████████████████| 51kB 6.7MB/s \n",
            "\u001b[?25hCollecting ftfy\n",
            "\u001b[?25l  Downloading https://files.pythonhosted.org/packages/ce/b5/5da463f9c7823e0e575e9908d004e2af4b36efa8d02d3d6dad57094fcb11/ftfy-6.0.1.tar.gz (63kB)\n",
            "\u001b[K     |████████████████████████████████| 71kB 9.6MB/s \n",
            "\u001b[?25hCollecting jsonnet>=0.10.0; sys_platform != \"win32\"\n",
            "\u001b[?25l  Downloading https://files.pythonhosted.org/packages/42/40/6f16e5ac994b16fa71c24310f97174ce07d3a97b433275589265c6b94d2b/jsonnet-0.17.0.tar.gz (259kB)\n",
            "\u001b[K     |████████████████████████████████| 266kB 49.5MB/s \n",
            "\u001b[?25hRequirement already satisfied: matplotlib>=2.2.3 in /usr/local/lib/python3.7/dist-packages (from allennlp==0.9->-r requirements.txt (line 1)) (3.2.2)\n",
            "Collecting boto3\n",
            "\u001b[?25l  Downloading https://files.pythonhosted.org/packages/11/2d/804332ee1eaf36c8be737e9c44da2f2aa449339c220a96b9a15ae7f61443/boto3-1.17.69-py2.py3-none-any.whl (131kB)\n",
            "\u001b[K     |████████████████████████████████| 133kB 61.6MB/s \n",
            "\u001b[?25hRequirement already satisfied: editdistance in /usr/local/lib/python3.7/dist-packages (from allennlp==0.9->-r requirements.txt (line 1)) (0.5.3)\n",
            "Requirement already satisfied: sqlparse>=0.2.4 in /usr/local/lib/python3.7/dist-packages (from allennlp==0.9->-r requirements.txt (line 1)) (0.4.1)\n",
            "Requirement already satisfied: scikit-learn in /usr/local/lib/python3.7/dist-packages (from allennlp==0.9->-r requirements.txt (line 1)) (0.22.2.post1)\n",
            "Collecting conllu==1.3.1\n",
            "  Downloading https://files.pythonhosted.org/packages/ae/54/b0ae1199f3d01666821b028cd967f7c0ac527ab162af433d3da69242cea2/conllu-1.3.1-py2.py3-none-any.whl\n",
            "Collecting gevent>=1.3.6\n",
            "\u001b[?25l  Downloading https://files.pythonhosted.org/packages/3e/85/df3d1fd2b60a87455475f93012861b76a411d27ba4a0859939adbe2c9dc3/gevent-21.1.2-cp37-cp37m-manylinux2010_x86_64.whl (5.6MB)\n",
            "\u001b[K     |████████████████████████████████| 5.6MB 40.8MB/s \n",
            "\u001b[?25hRequirement already satisfied: numpy in /usr/local/lib/python3.7/dist-packages (from allennlp==0.9->-r requirements.txt (line 1)) (1.19.5)\n",
            "Collecting word2number>=1.1\n",
            "  Downloading https://files.pythonhosted.org/packages/4a/29/a31940c848521f0725f0df6b25dca8917f13a2025b0e8fcbe5d0457e45e6/word2number-1.1.zip\n",
            "Collecting parsimonious>=0.8.0\n",
            "\u001b[?25l  Downloading https://files.pythonhosted.org/packages/02/fc/067a3f89869a41009e1a7cdfb14725f8ddd246f30f63c645e8ef8a1c56f4/parsimonious-0.8.1.tar.gz (45kB)\n",
            "\u001b[K     |████████████████████████████████| 51kB 7.3MB/s \n",
            "\u001b[?25hRequirement already satisfied: flask>=1.0.2 in /usr/local/lib/python3.7/dist-packages (from allennlp==0.9->-r requirements.txt (line 1)) (1.1.2)\n",
            "Requirement already satisfied: cymem<2.1.0,>=2.0.2 in /usr/local/lib/python3.7/dist-packages (from spacy==2.1.3->-r requirements.txt (line 3)) (2.0.5)\n",
            "Requirement already satisfied: srsly<1.1.0,>=0.0.5 in /usr/local/lib/python3.7/dist-packages (from spacy==2.1.3->-r requirements.txt (line 3)) (1.0.5)\n",
            "Collecting blis<0.3.0,>=0.2.2\n",
            "\u001b[?25l  Downloading https://files.pythonhosted.org/packages/fa/5f/47b7b29ad202b2210020e2f33bfb06d1db2abe0e709c2a84736e8a9d1bd5/blis-0.2.4-cp37-cp37m-manylinux1_x86_64.whl (3.2MB)\n",
            "\u001b[K     |████████████████████████████████| 3.2MB 43.4MB/s \n",
            "\u001b[?25hCollecting thinc<7.1.0,>=7.0.2\n",
            "\u001b[?25l  Downloading https://files.pythonhosted.org/packages/36/42/d7ea7539af3852fd8c1f0b3adf4a100fb3d72b40b69cef1a764ff979a743/thinc-7.0.8-cp37-cp37m-manylinux1_x86_64.whl (2.1MB)\n",
            "\u001b[K     |████████████████████████████████| 2.1MB 42.9MB/s \n",
            "\u001b[?25hCollecting preshed<2.1.0,>=2.0.1\n",
            "\u001b[?25l  Downloading https://files.pythonhosted.org/packages/bc/2b/3ecd5d90d2d6fd39fbc520de7d80db5d74defdc2d7c2e15531d9cc3498c7/preshed-2.0.1-cp37-cp37m-manylinux1_x86_64.whl (82kB)\n",
            "\u001b[K     |████████████████████████████████| 92kB 11.9MB/s \n",
            "\u001b[?25hRequirement already satisfied: murmurhash<1.1.0,>=0.28.0 in /usr/local/lib/python3.7/dist-packages (from spacy==2.1.3->-r requirements.txt (line 3)) (1.0.5)\n",
            "Requirement already satisfied: wasabi<1.1.0,>=0.2.0 in /usr/local/lib/python3.7/dist-packages (from spacy==2.1.3->-r requirements.txt (line 3)) (0.8.2)\n",
            "Requirement already satisfied: jsonschema<3.0.0,>=2.6.0 in /usr/local/lib/python3.7/dist-packages (from spacy==2.1.3->-r requirements.txt (line 3)) (2.6.0)\n",
            "Collecting plac<1.0.0,>=0.9.6\n",
            "  Downloading https://files.pythonhosted.org/packages/9e/9b/62c60d2f5bc135d2aa1d8c8a86aaf84edb719a59c7f11a4316259e61a298/plac-0.9.6-py2.py3-none-any.whl\n",
            "Requirement already satisfied: six in /usr/local/lib/python3.7/dist-packages (from nltk==3.4.5->-r requirements.txt (line 6)) (1.15.0)\n",
            "Requirement already satisfied: regex in /usr/local/lib/python3.7/dist-packages (from pytorch-pretrained-bert==0.6.2->-r requirements.txt (line 7)) (2019.12.20)\n",
            "Collecting sentencepiece\n",
            "\u001b[?25l  Downloading https://files.pythonhosted.org/packages/f5/99/e0808cb947ba10f575839c43e8fafc9cc44e4a7a2c8f79c60db48220a577/sentencepiece-0.1.95-cp37-cp37m-manylinux2014_x86_64.whl (1.2MB)\n",
            "\u001b[K     |████████████████████████████████| 1.2MB 42.9MB/s \n",
            "\u001b[?25hRequirement already satisfied: protobuf>=3.8.0 in /usr/local/lib/python3.7/dist-packages (from tensorboardX->-r requirements.txt (line 9)) (3.12.4)\n",
            "Collecting typing-utils>=0.0.3\n",
            "  Downloading https://files.pythonhosted.org/packages/a9/d6/ed54e008ae5aa828b77089aa371e25cb1313271abebd18d20e650fe903b8/typing_utils-0.0.3-py3-none-any.whl\n",
            "Collecting urllib3>=1.25.10\n",
            "\u001b[?25l  Downloading https://files.pythonhosted.org/packages/09/c6/d3e3abe5b4f4f16cf0dfc9240ab7ce10c2baa0e268989a4e3ec19e90c84e/urllib3-1.26.4-py2.py3-none-any.whl (153kB)\n",
            "\u001b[K     |████████████████████████████████| 153kB 45.6MB/s \n",
            "\u001b[?25hRequirement already satisfied: certifi>=2017.4.17 in /usr/local/lib/python3.7/dist-packages (from requests>=2.18->allennlp==0.9->-r requirements.txt (line 1)) (2020.12.5)\n",
            "Requirement already satisfied: chardet<4,>=3.0.2 in /usr/local/lib/python3.7/dist-packages (from requests>=2.18->allennlp==0.9->-r requirements.txt (line 1)) (3.0.4)\n",
            "Requirement already satisfied: idna<3,>=2.5 in /usr/local/lib/python3.7/dist-packages (from requests>=2.18->allennlp==0.9->-r requirements.txt (line 1)) (2.10)\n",
            "Requirement already satisfied: importlib-metadata; python_version < \"3.8\" in /usr/local/lib/python3.7/dist-packages (from jsonpickle->allennlp==0.9->-r requirements.txt (line 1)) (3.10.1)\n",
            "Requirement already satisfied: attrs>=17.4.0 in /usr/local/lib/python3.7/dist-packages (from pytest->allennlp==0.9->-r requirements.txt (line 1)) (20.3.0)\n",
            "Requirement already satisfied: more-itertools>=4.0.0 in /usr/local/lib/python3.7/dist-packages (from pytest->allennlp==0.9->-r requirements.txt (line 1)) (8.7.0)\n",
            "Requirement already satisfied: setuptools in /usr/local/lib/python3.7/dist-packages (from pytest->allennlp==0.9->-r requirements.txt (line 1)) (56.1.0)\n",
            "Requirement already satisfied: pluggy<0.8,>=0.5 in /usr/local/lib/python3.7/dist-packages (from pytest->allennlp==0.9->-r requirements.txt (line 1)) (0.7.1)\n",
            "Requirement already satisfied: py>=1.5.0 in /usr/local/lib/python3.7/dist-packages (from pytest->allennlp==0.9->-r requirements.txt (line 1)) (1.10.0)\n",
            "Requirement already satisfied: atomicwrites>=1.0 in /usr/local/lib/python3.7/dist-packages (from pytest->allennlp==0.9->-r requirements.txt (line 1)) (1.4.0)\n",
            "Requirement already satisfied: sphinx>=1.6.5 in /usr/local/lib/python3.7/dist-packages (from numpydoc>=0.8.0->allennlp==0.9->-r requirements.txt (line 1)) (1.8.5)\n",
            "Requirement already satisfied: Jinja2>=2.3 in /usr/local/lib/python3.7/dist-packages (from numpydoc>=0.8.0->allennlp==0.9->-r requirements.txt (line 1)) (2.11.3)\n",
            "Requirement already satisfied: wcwidth in /usr/local/lib/python3.7/dist-packages (from ftfy->allennlp==0.9->-r requirements.txt (line 1)) (0.2.5)\n",
            "Requirement already satisfied: pyparsing!=2.0.4,!=2.1.2,!=2.1.6,>=2.0.1 in /usr/local/lib/python3.7/dist-packages (from matplotlib>=2.2.3->allennlp==0.9->-r requirements.txt (line 1)) (2.4.7)\n",
            "Requirement already satisfied: python-dateutil>=2.1 in /usr/local/lib/python3.7/dist-packages (from matplotlib>=2.2.3->allennlp==0.9->-r requirements.txt (line 1)) (2.8.1)\n",
            "Requirement already satisfied: cycler>=0.10 in /usr/local/lib/python3.7/dist-packages (from matplotlib>=2.2.3->allennlp==0.9->-r requirements.txt (line 1)) (0.10.0)\n",
            "Requirement already satisfied: kiwisolver>=1.0.1 in /usr/local/lib/python3.7/dist-packages (from matplotlib>=2.2.3->allennlp==0.9->-r requirements.txt (line 1)) (1.3.1)\n",
            "Collecting s3transfer<0.5.0,>=0.4.0\n",
            "\u001b[?25l  Downloading https://files.pythonhosted.org/packages/63/d0/693477c688348654ddc21dcdce0817653a294aa43f41771084c25e7ff9c7/s3transfer-0.4.2-py2.py3-none-any.whl (79kB)\n",
            "\u001b[K     |████████████████████████████████| 81kB 11.1MB/s \n",
            "\u001b[?25hCollecting jmespath<1.0.0,>=0.7.1\n",
            "  Downloading https://files.pythonhosted.org/packages/07/cb/5f001272b6faeb23c1c9e0acc04d48eaaf5c862c17709d20e3469c6e0139/jmespath-0.10.0-py2.py3-none-any.whl\n",
            "Collecting botocore<1.21.0,>=1.20.69\n",
            "\u001b[?25l  Downloading https://files.pythonhosted.org/packages/10/bb/06710dce8770adf852785785df7e15fc1363596b712766898b1c529e358e/botocore-1.20.69-py2.py3-none-any.whl (7.5MB)\n",
            "\u001b[K     |████████████████████████████████| 7.5MB 56.7MB/s \n",
            "\u001b[?25hRequirement already satisfied: joblib>=0.11 in /usr/local/lib/python3.7/dist-packages (from scikit-learn->allennlp==0.9->-r requirements.txt (line 1)) (1.0.1)\n",
            "Collecting zope.event\n",
            "  Downloading https://files.pythonhosted.org/packages/9e/85/b45408c64f3b888976f1d5b37eed8d746b8d5729a66a49ec846fda27d371/zope.event-4.5.0-py2.py3-none-any.whl\n",
            "Collecting zope.interface\n",
            "\u001b[?25l  Downloading https://files.pythonhosted.org/packages/bb/a7/94e1a92c71436f934cdd2102826fa041c83dcb7d21dd0f1fb1a57f6e0620/zope.interface-5.4.0-cp37-cp37m-manylinux2010_x86_64.whl (251kB)\n",
            "\u001b[K     |████████████████████████████████| 256kB 52.7MB/s \n",
            "\u001b[?25hRequirement already satisfied: greenlet<2.0,>=0.4.17; platform_python_implementation == \"CPython\" in /usr/local/lib/python3.7/dist-packages (from gevent>=1.3.6->allennlp==0.9->-r requirements.txt (line 1)) (1.0.0)\n",
            "Requirement already satisfied: click>=5.1 in /usr/local/lib/python3.7/dist-packages (from flask>=1.0.2->allennlp==0.9->-r requirements.txt (line 1)) (7.1.2)\n",
            "Requirement already satisfied: itsdangerous>=0.24 in /usr/local/lib/python3.7/dist-packages (from flask>=1.0.2->allennlp==0.9->-r requirements.txt (line 1)) (1.1.0)\n",
            "Requirement already satisfied: Werkzeug>=0.15 in /usr/local/lib/python3.7/dist-packages (from flask>=1.0.2->allennlp==0.9->-r requirements.txt (line 1)) (1.0.1)\n",
            "Requirement already satisfied: zipp>=0.5 in /usr/local/lib/python3.7/dist-packages (from importlib-metadata; python_version < \"3.8\"->jsonpickle->allennlp==0.9->-r requirements.txt (line 1)) (3.4.1)\n",
            "Requirement already satisfied: typing-extensions>=3.6.4; python_version < \"3.8\" in /usr/local/lib/python3.7/dist-packages (from importlib-metadata; python_version < \"3.8\"->jsonpickle->allennlp==0.9->-r requirements.txt (line 1)) (3.7.4.3)\n",
            "Requirement already satisfied: imagesize in /usr/local/lib/python3.7/dist-packages (from sphinx>=1.6.5->numpydoc>=0.8.0->allennlp==0.9->-r requirements.txt (line 1)) (1.2.0)\n",
            "Requirement already satisfied: packaging in /usr/local/lib/python3.7/dist-packages (from sphinx>=1.6.5->numpydoc>=0.8.0->allennlp==0.9->-r requirements.txt (line 1)) (20.9)\n",
            "Requirement already satisfied: Pygments>=2.0 in /usr/local/lib/python3.7/dist-packages (from sphinx>=1.6.5->numpydoc>=0.8.0->allennlp==0.9->-r requirements.txt (line 1)) (2.6.1)\n",
            "Requirement already satisfied: docutils>=0.11 in /usr/local/lib/python3.7/dist-packages (from sphinx>=1.6.5->numpydoc>=0.8.0->allennlp==0.9->-r requirements.txt (line 1)) (0.17)\n",
            "Requirement already satisfied: snowballstemmer>=1.1 in /usr/local/lib/python3.7/dist-packages (from sphinx>=1.6.5->numpydoc>=0.8.0->allennlp==0.9->-r requirements.txt (line 1)) (2.1.0)\n",
            "Requirement already satisfied: sphinxcontrib-websupport in /usr/local/lib/python3.7/dist-packages (from sphinx>=1.6.5->numpydoc>=0.8.0->allennlp==0.9->-r requirements.txt (line 1)) (1.2.4)\n",
            "Requirement already satisfied: alabaster<0.8,>=0.7 in /usr/local/lib/python3.7/dist-packages (from sphinx>=1.6.5->numpydoc>=0.8.0->allennlp==0.9->-r requirements.txt (line 1)) (0.7.12)\n",
            "Requirement already satisfied: babel!=2.0,>=1.3 in /usr/local/lib/python3.7/dist-packages (from sphinx>=1.6.5->numpydoc>=0.8.0->allennlp==0.9->-r requirements.txt (line 1)) (2.9.0)\n",
            "Requirement already satisfied: MarkupSafe>=0.23 in /usr/local/lib/python3.7/dist-packages (from Jinja2>=2.3->numpydoc>=0.8.0->allennlp==0.9->-r requirements.txt (line 1)) (1.1.1)\n",
            "Requirement already satisfied: sphinxcontrib-serializinghtml in /usr/local/lib/python3.7/dist-packages (from sphinxcontrib-websupport->sphinx>=1.6.5->numpydoc>=0.8.0->allennlp==0.9->-r requirements.txt (line 1)) (1.1.4)\n",
            "Building wheels for collected packages: spacy-wordnet, nltk, ftfy, jsonnet, word2number, parsimonious\n",
            "  Building wheel for spacy-wordnet (setup.py) ... \u001b[?25l\u001b[?25hdone\n",
            "  Created wheel for spacy-wordnet: filename=spacy_wordnet-0.0.4-py2.py3-none-any.whl size=650293 sha256=4306e309ea490303ae93214faa0c925f4ed3f8df7c3536f48c45aa5bee5a6c1c\n",
            "  Stored in directory: /root/.cache/pip/wheels/25/93/1d/c86db913cd146fc9ddb26d10f56579c5d58a3e00bc8f96a3a6\n",
            "  Building wheel for nltk (setup.py) ... \u001b[?25l\u001b[?25hdone\n",
            "  Created wheel for nltk: filename=nltk-3.4.5-cp37-none-any.whl size=1449907 sha256=c71d3cf335027e45800bd52a6f2bfaa11e30d3c65bc572f941929956b73f54c6\n",
            "  Stored in directory: /root/.cache/pip/wheels/96/86/f6/68ab24c23f207c0077381a5e3904b2815136b879538a24b483\n",
            "  Building wheel for ftfy (setup.py) ... \u001b[?25l\u001b[?25hdone\n",
            "  Created wheel for ftfy: filename=ftfy-6.0.1-cp37-none-any.whl size=41573 sha256=2022a6fd260a09df837b2480f6526590ffcef36b40fd040bf151b9de23d0c7e4\n",
            "  Stored in directory: /root/.cache/pip/wheels/ae/73/c7/9056e14b04919e5c262fe80b54133b1a88d73683d05d7ac65c\n",
            "  Building wheel for jsonnet (setup.py) ... \u001b[?25l\u001b[?25hdone\n",
            "  Created wheel for jsonnet: filename=jsonnet-0.17.0-cp37-cp37m-linux_x86_64.whl size=3388772 sha256=3648a882b4cdea6a997810f7258b494c4ec79e2e064757bb84e2568645f88660\n",
            "  Stored in directory: /root/.cache/pip/wheels/26/7a/37/7dbcc30a6b4efd17b91ad1f0128b7bbf84813bd4e1cfb8c1e3\n",
            "  Building wheel for word2number (setup.py) ... \u001b[?25l\u001b[?25hdone\n",
            "  Created wheel for word2number: filename=word2number-1.1-cp37-none-any.whl size=5589 sha256=c9f3ddb7f18ae281752815633791698850ff936da498fef27246194888d9b38a\n",
            "  Stored in directory: /root/.cache/pip/wheels/46/2f/53/5f5c1d275492f2fce1cdab9a9bb12d49286dead829a4078e0e\n",
            "  Building wheel for parsimonious (setup.py) ... \u001b[?25l\u001b[?25hdone\n",
            "  Created wheel for parsimonious: filename=parsimonious-0.8.1-cp37-none-any.whl size=42711 sha256=3dc90a91f9a2f83cbfba27cfc451b8b90b9ac4e23e2b73c09a57f9e68e919dab\n",
            "  Stored in directory: /root/.cache/pip/wheels/b7/8d/e7/a0e74217da5caeb3c1c7689639b6d28ddbf9985b840bc96a9a\n",
            "Successfully built spacy-wordnet nltk ftfy jsonnet word2number parsimonious\n",
            "\u001b[31mERROR: torchvision 0.9.1+cu101 has requirement torch==1.8.1, but you'll have torch 1.2.0 which is incompatible.\u001b[0m\n",
            "\u001b[31mERROR: torchtext 0.9.1 has requirement torch==1.8.1, but you'll have torch 1.2.0 which is incompatible.\u001b[0m\n",
            "\u001b[31mERROR: requests 2.23.0 has requirement urllib3!=1.25.0,!=1.25.1,<1.26,>=1.21.1, but you'll have urllib3 1.26.4 which is incompatible.\u001b[0m\n",
            "\u001b[31mERROR: en-core-web-sm 2.2.5 has requirement spacy>=2.2.2, but you'll have spacy 2.1.3 which is incompatible.\u001b[0m\n",
            "\u001b[31mERROR: datascience 0.10.6 has requirement folium==0.2.1, but you'll have folium 0.8.3 which is incompatible.\u001b[0m\n",
            "\u001b[31mERROR: spacy-wordnet 0.0.4 has requirement nltk<3.4,>=3.3, but you'll have nltk 3.4.5 which is incompatible.\u001b[0m\n",
            "Installing collected packages: nltk, typing-utils, overrides, urllib3, responses, flask-cors, jsonpickle, flaky, unidecode, jmespath, botocore, s3transfer, boto3, torch, pytorch-pretrained-bert, tensorboardX, numpydoc, blis, preshed, plac, thinc, spacy, ftfy, jsonnet, conllu, zope.event, zope.interface, gevent, word2number, sentencepiece, pytorch-transformers, parsimonious, allennlp, neuralcoref, spacy-wordnet, jsonlines, ujson\n",
            "  Found existing installation: nltk 3.2.5\n",
            "    Uninstalling nltk-3.2.5:\n",
            "      Successfully uninstalled nltk-3.2.5\n",
            "  Found existing installation: urllib3 1.24.3\n",
            "    Uninstalling urllib3-1.24.3:\n",
            "      Successfully uninstalled urllib3-1.24.3\n",
            "  Found existing installation: torch 1.8.1+cu101\n",
            "    Uninstalling torch-1.8.1+cu101:\n",
            "      Successfully uninstalled torch-1.8.1+cu101\n",
            "  Found existing installation: blis 0.4.1\n",
            "    Uninstalling blis-0.4.1:\n",
            "      Successfully uninstalled blis-0.4.1\n",
            "  Found existing installation: preshed 3.0.5\n",
            "    Uninstalling preshed-3.0.5:\n",
            "      Successfully uninstalled preshed-3.0.5\n",
            "  Found existing installation: plac 1.1.3\n",
            "    Uninstalling plac-1.1.3:\n",
            "      Successfully uninstalled plac-1.1.3\n",
            "  Found existing installation: thinc 7.4.0\n",
            "    Uninstalling thinc-7.4.0:\n",
            "      Successfully uninstalled thinc-7.4.0\n",
            "  Found existing installation: spacy 2.2.4\n",
            "    Uninstalling spacy-2.2.4:\n",
            "      Successfully uninstalled spacy-2.2.4\n",
            "Successfully installed allennlp-0.9.0 blis-0.2.4 boto3-1.17.69 botocore-1.20.69 conllu-1.3.1 flaky-3.7.0 flask-cors-3.0.10 ftfy-6.0.1 gevent-21.1.2 jmespath-0.10.0 jsonlines-2.0.0 jsonnet-0.17.0 jsonpickle-2.0.0 neuralcoref-4.0 nltk-3.4.5 numpydoc-1.1.0 overrides-6.1.0 parsimonious-0.8.1 plac-0.9.6 preshed-2.0.1 pytorch-pretrained-bert-0.6.2 pytorch-transformers-1.1.0 responses-0.13.3 s3transfer-0.4.2 sentencepiece-0.1.95 spacy-2.1.3 spacy-wordnet-0.0.4 tensorboardX-2.2 thinc-7.0.8 torch-1.2.0 typing-utils-0.0.3 ujson-4.0.2 unidecode-1.2.0 urllib3-1.26.4 word2number-1.1 zope.event-4.5.0 zope.interface-5.4.0\n"
          ],
          "name": "stdout"
        }
      ]
    },
    {
      "cell_type": "code",
      "metadata": {
        "colab": {
          "base_uri": "https://localhost:8080/",
          "height": 35
        },
        "id": "lgZLhWjTVQnZ",
        "outputId": "48aad6fa-be5f-4564-af66-20db8b2eac51"
      },
      "source": [
        "pwd"
      ],
      "execution_count": null,
      "outputs": [
        {
          "output_type": "execute_result",
          "data": {
            "application/vnd.google.colaboratory.intrinsic+json": {
              "type": "string"
            },
            "text/plain": [
              "'/content/drive/My Drive/injecting_numeracy/pre_training'"
            ]
          },
          "metadata": {
            "tags": []
          },
          "execution_count": 8
        }
      ]
    },
    {
      "cell_type": "code",
      "metadata": {
        "colab": {
          "base_uri": "https://localhost:8080/"
        },
        "id": "d5HwPOovXMbK",
        "outputId": "10c066f6-e9d4-46e2-af31-3564c5e71993"
      },
      "source": [
        "cd gen_bert/"
      ],
      "execution_count": null,
      "outputs": [
        {
          "output_type": "stream",
          "text": [
            "/content/drive/My Drive/injecting_numeracy/pre_training/gen_bert\n"
          ],
          "name": "stdout"
        }
      ]
    },
    {
      "cell_type": "code",
      "metadata": {
        "id": "1BLOLDsVVaIS"
      },
      "source": [
        " # 手動生成examples + 提取features\n",
        " # DROP\n",
        "!python create_examples_n_features.py --split train --drop_json ../data/drop_dataset_train.json --output_dir data/examples_n_features --max_seq_length 512\n",
        "!python create_examples_n_features.py --split eval --drop_json ../data/drop_dataset_dev.json --output_dir data/examples_n_features --max_seq_length 512"
      ],
      "execution_count": null,
      "outputs": []
    },
    {
      "cell_type": "code",
      "metadata": {
        "id": "MzcCZ3U4LnKe"
      },
      "source": [
        "# numeric data\n",
        "!python create_examples_n_features.py --split train --drop_json ../data/synthetic_numeric_train_drop_format.json --output_dir data/examples_n_features_numeric --max_seq_length 50 --max_decoding_steps 11 --max_n_samples -1\n",
        "!python create_examples_n_features.py --split eval --drop_json ../data/synthetic_numeric_dev_drop_format.json --output_dir data/examples_n_features_numeric --max_seq_length 50 --max_decoding_steps 11\n",
        "\n"
      ],
      "execution_count": null,
      "outputs": []
    },
    {
      "cell_type": "code",
      "metadata": {
        "id": "BbDeERo8vH5c"
      },
      "source": [
        "# texual synthetic data\n",
        "!python create_examples_n_features.py --split train --drop_json ../data/synthetic_textual_mixed_min3_max6_up0.7_train_drop_format.json --output_dir data/examples_n_features_syntext --max_seq_length 160 --max_n_samples -1\n",
        "!python create_examples_n_features.py --split eval --drop_json ../data/synthetic_textual_mixed_min3_max6_up0.7_dev_drop_format.json --output_dir data/examples_n_features_syntext --max_seq_length 160"
      ],
      "execution_count": null,
      "outputs": []
    },
    {
      "cell_type": "code",
      "metadata": {
        "colab": {
          "base_uri": "https://localhost:8080/"
        },
        "id": "FaZCxmJvFQ2a",
        "outputId": "b1a36f38-a1e7-410a-c520-3851d6967f0d"
      },
      "source": [
        "cd /content/drive/My Drive/injecting_numeracy/pre_training"
      ],
      "execution_count": null,
      "outputs": [
        {
          "output_type": "stream",
          "text": [
            "/content/drive/My Drive/injecting_numeracy/pre_training\n"
          ],
          "name": "stdout"
        }
      ]
    },
    {
      "cell_type": "code",
      "metadata": {
        "id": "atn9wchBFmVy"
      },
      "source": [
        "#!bash download.sh"
      ],
      "execution_count": null,
      "outputs": []
    },
    {
      "cell_type": "code",
      "metadata": {
        "colab": {
          "base_uri": "https://localhost:8080/"
        },
        "id": "MA5TxPztJhr5",
        "outputId": "684c415b-4508-4c04-f887-7676d232f34e"
      },
      "source": [
        "cd gen_bert/"
      ],
      "execution_count": null,
      "outputs": [
        {
          "output_type": "stream",
          "text": [
            "/content/drive/My Drive/injecting_numeracy/pre_training/gen_bert\n"
          ],
          "name": "stdout"
        }
      ]
    },
    {
      "cell_type": "code",
      "metadata": {
        "id": "YgxueteDObGx"
      },
      "source": [
        "# !pip3 install torchsummary\n",
        "!pip3 install transformers"
      ],
      "execution_count": null,
      "outputs": []
    },
    {
      "cell_type": "code",
      "metadata": {
        "id": "dSXhj6iINmsI"
      },
      "source": [
        "import torch\n",
        "from transformers import BertModel, BertConfig\n",
        "\n",
        "\n",
        "# 各種models directory位置\n",
        "path = \"./out_drop_finetune_syntext_and_numeric/\"\n",
        "model = BertModel.from_pretrained(path)"
      ],
      "execution_count": null,
      "outputs": []
    },
    {
      "cell_type": "code",
      "metadata": {
        "id": "ecqBKvsnSt9t"
      },
      "source": [
        "print(model)"
      ],
      "execution_count": null,
      "outputs": []
    },
    {
      "cell_type": "code",
      "metadata": {
        "colab": {
          "base_uri": "https://localhost:8080/",
          "height": 35
        },
        "id": "igu7RV37H0uP",
        "outputId": "db2d66e0-07fd-4c34-fe6f-56574ef98081"
      },
      "source": [
        "pwd"
      ],
      "execution_count": null,
      "outputs": [
        {
          "output_type": "execute_result",
          "data": {
            "application/vnd.google.colaboratory.intrinsic+json": {
              "type": "string"
            },
            "text/plain": [
              "'/content/drive/My Drive/injecting_numeracy/pre_training/gen_bert'"
            ]
          },
          "metadata": {
            "tags": []
          },
          "execution_count": 18
        }
      ]
    },
    {
      "cell_type": "code",
      "metadata": {
        "colab": {
          "base_uri": "https://localhost:8080/"
        },
        "id": "ufxWy4LgQ9NI",
        "outputId": "a6ada8df-6274-4dad-b714-c7fd222dc594"
      },
      "source": [
        "!CUDA_VISIBLE_DEVICES=0,1,2,3 python finetune_on_drop.py --do_eval --do_inference --examples_n_features_dir ./data/examples_n_features/ --eval_batch_size 128 --init_weights_dir out_drop_finetune_syntext_and_numeric  --output_dir preds"
      ],
      "execution_count": null,
      "outputs": [
        {
          "output_type": "stream",
          "text": [
            "/usr/local/lib/python3.7/dist-packages/requests/__init__.py:91: RequestsDependencyWarning: urllib3 (1.26.4) or chardet (3.0.4) doesn't match a supported version!\n",
            "  RequestsDependencyWarning)\n",
            "05/09/2021 21:32:04 - INFO - pytorch_pretrained_bert.tokenization -   loading vocabulary file https://s3.amazonaws.com/models.huggingface.co/bert/bert-base-uncased-vocab.txt from cache at /root/.pytorch_pretrained_bert/26bc1ad6c0ac742e9b52263248f6d0f00068293b33709fae12320c0e35ccfbbb.542ce4285a40d23a559526243235df47c5f75c197f04f37d1a0c124c32c9a084\n",
            "05/09/2021 21:32:04 - INFO - __main__ -   device: cuda n_gpu: 1, distributed training: False, 16-bits training: False\n",
            "05/09/2021 21:32:05 - INFO - pytorch_pretrained_bert.tokenization -   loading vocabulary file https://s3.amazonaws.com/models.huggingface.co/bert/bert-base-uncased-vocab.txt from cache at /root/.pytorch_pretrained_bert/26bc1ad6c0ac742e9b52263248f6d0f00068293b33709fae12320c0e35ccfbbb.542ce4285a40d23a559526243235df47c5f75c197f04f37d1a0c124c32c9a084\n",
            "05/09/2021 21:32:05 - INFO - modeling -   loading weights file out_drop_finetune_syntext_and_numeric/pytorch_model.bin\n",
            "05/09/2021 21:32:05 - INFO - modeling -   loading configuration file out_drop_finetune_syntext_and_numeric/config.json\n",
            "05/09/2021 21:32:05 - INFO - modeling -   Model config {\n",
            "  \"attention_probs_dropout_prob\": 0.1,\n",
            "  \"hidden_act\": \"gelu\",\n",
            "  \"hidden_dropout_prob\": 0.1,\n",
            "  \"hidden_size\": 768,\n",
            "  \"initializer_range\": 0.02,\n",
            "  \"intermediate_size\": 3072,\n",
            "  \"layer_norm_eps\": 1e-12,\n",
            "  \"max_position_embeddings\": 512,\n",
            "  \"num_attention_heads\": 12,\n",
            "  \"num_hidden_layers\": 12,\n",
            "  \"type_vocab_size\": 2,\n",
            "  \"vocab_size\": 30522\n",
            "}\n",
            "\n",
            "05/09/2021 21:32:11 - INFO - root -   Loading eval examples and features.\n",
            "\n",
            "05/09/2021 21:32:13 - INFO - __main__ -   ***** Running evaluation *****\n",
            "05/09/2021 21:32:13 - INFO - __main__ -     Num examples = 9536\n",
            "05/09/2021 21:32:13 - INFO - __main__ -     Batch size = 128\n",
            "Inference: 100% 75/75 [11:18<00:00,  9.05s/it]\n",
            "05/09/2021 21:43:36 - INFO - __main__ -   EM: 0.6267827181208053, Drop EM: 0.6886535234899329\n",
            "05/09/2021 21:43:36 - INFO - __main__ -   saving predictions.jsonl in preds\n",
            "Chaz Schilens chaz schilens || 3 3 || Houston Texans raiders || 2 2 || 29 29 || JaMarcus Russell russell || 80 80-yard || 2 2 || 3 3 || 29 29 || 51 51 || 4 4 || 2 2 || 29 29 || 9 9 || 5 5 || 53 53 || 24 24 || 29 29 || T. J. Houshmandzadeh t. j. houshmandzadeh || "
          ],
          "name": "stdout"
        }
      ]
    },
    {
      "cell_type": "code",
      "metadata": {
        "colab": {
          "base_uri": "https://localhost:8080/",
          "height": 35
        },
        "id": "eSxmdldLFZ1D",
        "outputId": "ec6009a8-a136-4516-df98-58a4fd7fa954"
      },
      "source": [
        "pwd"
      ],
      "execution_count": null,
      "outputs": [
        {
          "output_type": "execute_result",
          "data": {
            "application/vnd.google.colaboratory.intrinsic+json": {
              "type": "string"
            },
            "text/plain": [
              "'/content/drive/MyDrive/injecting_numeracy/pre_training/gen_bert'"
            ]
          },
          "metadata": {
            "tags": []
          },
          "execution_count": 21
        }
      ]
    },
    {
      "cell_type": "code",
      "metadata": {
        "colab": {
          "base_uri": "https://localhost:8080/"
        },
        "id": "QLvHP3ftwQXq",
        "outputId": "c6df5a8a-21ee-4d84-872b-fa3365b2b728"
      },
      "source": [
        "!python drop_eval.py --gold_path ../data/drop_dataset_dev.json --prediction_path ./preds/predictions.jsonl --answer_key prediction"
      ],
      "execution_count": null,
      "outputs": [
        {
          "output_type": "stream",
          "text": [
            "Exact-match accuracy 68.87\n",
            "F1 score 72.80\n",
            "68.87   &   72.80\n",
            "----\n",
            "date: 148 (1.55%)\n",
            "  Exact-match accuracy 42.568\n",
            "  F1 score 55.824\n",
            "number: 5889 (61.76%)\n",
            "  Exact-match accuracy 75.310\n",
            "  F1 score 75.386\n",
            "span: 3019 (31.66%)\n",
            "  Exact-match accuracy 68.533\n",
            "  F1 score 74.925\n",
            "spans: 480 (5.03%)\n",
            "  Exact-match accuracy 0.000\n",
            "  F1 score 32.846\n"
          ],
          "name": "stdout"
        }
      ]
    },
    {
      "cell_type": "code",
      "metadata": {
        "colab": {
          "base_uri": "https://localhost:8080/"
        },
        "id": "-ZGTEi7uGDPv",
        "outputId": "6e7c2241-3463-4db8-d1be-3b419f8a0563"
      },
      "source": [
        "!CUDA_VISIBLE_DEVICES=0,1,2,3 python finetune_on_drop.py --do_eval --do_inference --examples_n_features_dir ./data/examples_n_features/ --eval_batch_size 128 --init_weights_dir out_drop_finetune_no_mlm_no_shift_numeric/  --output_dir preds"
      ],
      "execution_count": null,
      "outputs": [
        {
          "output_type": "stream",
          "text": [
            "/usr/local/lib/python3.7/dist-packages/requests/__init__.py:91: RequestsDependencyWarning: urllib3 (1.26.4) or chardet (3.0.4) doesn't match a supported version!\n",
            "  RequestsDependencyWarning)\n",
            "05/09/2021 23:04:11 - INFO - pytorch_pretrained_bert.tokenization -   loading vocabulary file https://s3.amazonaws.com/models.huggingface.co/bert/bert-base-uncased-vocab.txt from cache at /root/.pytorch_pretrained_bert/26bc1ad6c0ac742e9b52263248f6d0f00068293b33709fae12320c0e35ccfbbb.542ce4285a40d23a559526243235df47c5f75c197f04f37d1a0c124c32c9a084\n",
            "05/09/2021 23:04:11 - INFO - __main__ -   device: cuda n_gpu: 1, distributed training: False, 16-bits training: False\n",
            "05/09/2021 23:04:11 - INFO - pytorch_pretrained_bert.tokenization -   loading vocabulary file https://s3.amazonaws.com/models.huggingface.co/bert/bert-base-uncased-vocab.txt from cache at /root/.pytorch_pretrained_bert/26bc1ad6c0ac742e9b52263248f6d0f00068293b33709fae12320c0e35ccfbbb.542ce4285a40d23a559526243235df47c5f75c197f04f37d1a0c124c32c9a084\n",
            "05/09/2021 23:04:11 - INFO - modeling -   loading weights file out_drop_finetune_no_mlm_no_shift_numeric/pytorch_model.bin\n",
            "05/09/2021 23:04:11 - INFO - modeling -   loading configuration file out_drop_finetune_no_mlm_no_shift_numeric/config.json\n",
            "05/09/2021 23:04:11 - INFO - modeling -   Model config {\n",
            "  \"attention_probs_dropout_prob\": 0.1,\n",
            "  \"hidden_act\": \"gelu\",\n",
            "  \"hidden_dropout_prob\": 0.1,\n",
            "  \"hidden_size\": 768,\n",
            "  \"initializer_range\": 0.02,\n",
            "  \"intermediate_size\": 3072,\n",
            "  \"layer_norm_eps\": 1e-12,\n",
            "  \"max_position_embeddings\": 512,\n",
            "  \"num_attention_heads\": 12,\n",
            "  \"num_hidden_layers\": 12,\n",
            "  \"type_vocab_size\": 2,\n",
            "  \"vocab_size\": 30522\n",
            "}\n",
            "\n",
            "05/09/2021 23:04:17 - INFO - root -   Loading eval examples and features.\n",
            "\n",
            "05/09/2021 23:04:20 - INFO - __main__ -   ***** Running evaluation *****\n",
            "05/09/2021 23:04:20 - INFO - __main__ -     Num examples = 9536\n",
            "05/09/2021 23:04:20 - INFO - __main__ -     Batch size = 128\n",
            "Inference: 100% 75/75 [11:18<00:00,  9.05s/it]\n",
            "05/09/2021 23:15:43 - INFO - __main__ -   EM: 0.5554739932885906, Drop EM: 0.6152474832214765\n",
            "05/09/2021 23:15:43 - INFO - __main__ -   saving predictions.jsonl in preds\n",
            "Chaz Schilens chaz schilens || 3 3 || Houston Texans raiders || 1 2 || 29 29 || r russell || 80 80-yard || 3 2 || 3 3 || 29 29 || 51 51 || 4 4 || 2 2 || 29 29 || 9 9 || 5 5 || 53 53 || 24 24 || 29 29 || T. J. Houshmandzadeh t. j. houshmandzadeh || "
          ],
          "name": "stdout"
        }
      ]
    },
    {
      "cell_type": "code",
      "metadata": {
        "colab": {
          "base_uri": "https://localhost:8080/"
        },
        "id": "xI4N9gvrWSKg",
        "outputId": "e6034c89-234f-4eb9-a5b2-c0fd2b0abae9"
      },
      "source": [
        "!python drop_eval.py --gold_path ../data/drop_dataset_dev.json --prediction_path ./preds/predictions.jsonl --answer_key prediction"
      ],
      "execution_count": null,
      "outputs": [
        {
          "output_type": "stream",
          "text": [
            "Exact-match accuracy 61.52\n",
            "F1 score 65.40\n",
            "61.52   &   65.40\n",
            "----\n",
            "date: 147 (1.54%)\n",
            "  Exact-match accuracy 30.612\n",
            "  F1 score 42.129\n",
            "number: 5887 (61.73%)\n",
            "  Exact-match accuracy 66.927\n",
            "  F1 score 67.023\n",
            "span: 3017 (31.64%)\n",
            "  Exact-match accuracy 62.380\n",
            "  F1 score 69.008\n",
            "spans: 485 (5.09%)\n",
            "  Exact-match accuracy 0.000\n",
            "  F1 score 30.301\n"
          ],
          "name": "stdout"
        }
      ]
    },
    {
      "cell_type": "code",
      "metadata": {
        "colab": {
          "base_uri": "https://localhost:8080/",
          "height": 35
        },
        "id": "6E-lKjb2V8OE",
        "outputId": "d4f09a8c-ab80-400b-a740-72f03c305b2b"
      },
      "source": [
        "pwd"
      ],
      "execution_count": null,
      "outputs": [
        {
          "output_type": "execute_result",
          "data": {
            "application/vnd.google.colaboratory.intrinsic+json": {
              "type": "string"
            },
            "text/plain": [
              "'/content/drive/MyDrive/injecting_numeracy/pre_training/gen_bert'"
            ]
          },
          "metadata": {
            "tags": []
          },
          "execution_count": 38
        }
      ]
    },
    {
      "cell_type": "code",
      "metadata": {
        "colab": {
          "base_uri": "https://localhost:8080/"
        },
        "id": "bnv4DdyvwQ1s",
        "outputId": "ad417373-26df-48cb-ba78-1aa9a00d99b4"
      },
      "source": [
        "!python create_examples_n_features.py --split train --drop_json ../data/drop_dataset_train.json --output_dir data/examples_n_features --max_seq_length 512\n",
        "!python create_examples_n_features.py --split eval --drop_json ../data/drop_dataset_dev.json --output_dir data/examples_n_features --max_seq_length 512"
      ],
      "execution_count": null,
      "outputs": [
        {
          "output_type": "stream",
          "text": [
            "INFO:pytorch_pretrained_bert.tokenization:loading vocabulary file https://s3.amazonaws.com/models.huggingface.co/bert/bert-base-uncased-vocab.txt from cache at /root/.pytorch_pretrained_bert/26bc1ad6c0ac742e9b52263248f6d0f00068293b33709fae12320c0e35ccfbbb.542ce4285a40d23a559526243235df47c5f75c197f04f37d1a0c124c32c9a084\n",
            "INFO:__main__:creating examples\n",
            "INFO:__main__:Reading file at ../data/drop_dataset_train.json\n",
            "100% 5565/5565 [13:32<00:00,  6.85it/s]\n",
            "INFO:__main__:Skipped 9 examples, kept 77400 examples.\n",
            "INFO:__main__:creating features\n",
            "100% 77400/77400 [08:46<00:00, 147.14it/s]\n",
            "INFO:__main__:Skipped 0 features, truncated 4836 features, kept 77400 features.\n",
            "INFO:pytorch_pretrained_bert.tokenization:loading vocabulary file https://s3.amazonaws.com/models.huggingface.co/bert/bert-base-uncased-vocab.txt from cache at /root/.pytorch_pretrained_bert/26bc1ad6c0ac742e9b52263248f6d0f00068293b33709fae12320c0e35ccfbbb.542ce4285a40d23a559526243235df47c5f75c197f04f37d1a0c124c32c9a084\n",
            "INFO:__main__:creating examples\n",
            "INFO:__main__:Reading file at ../data/drop_dataset_dev.json\n",
            "100% 582/582 [01:20<00:00,  7.27it/s]\n",
            "INFO:__main__:Skipped 0 examples, kept 9536 examples.\n",
            "INFO:__main__:creating features\n",
            "100% 9536/9536 [01:01<00:00, 155.33it/s]\n",
            "INFO:__main__:Skipped 0 features, truncated 290 features, kept 9536 features.\n"
          ],
          "name": "stdout"
        }
      ]
    },
    {
      "cell_type": "code",
      "metadata": {
        "id": "dsO61gVTwkKu",
        "colab": {
          "base_uri": "https://localhost:8080/"
        },
        "outputId": "a5c481a1-ad97-45b1-b74d-cb73576e9a5e"
      },
      "source": [
        "# SpanBERT finetune\n",
        "!CUDA_VISIBLE_DEVICES=0,1,2,3 python finetune_on_drop.py   --do_train   --do_eval  --examples_n_features_dir ./data/examples_n_features/ --train_batch_size 8 --mlm_batch_size -1 --eval_batch_size 360 --learning_rate 3e-5  --max_seq_length 512 --num_train_epochs 10 --warmup_proportion 0.1 --output_dir out_drop_spanbert_base/ --num_train_samples -1\n"
      ],
      "execution_count": 13,
      "outputs": [
        {
          "output_type": "stream",
          "text": [
            "/usr/local/lib/python3.7/dist-packages/requests/__init__.py:91: RequestsDependencyWarning: urllib3 (1.26.4) or chardet (3.0.4) doesn't match a supported version!\n",
            "  RequestsDependencyWarning)\n",
            "05/10/2021 03:51:06 - INFO - pytorch_pretrained_bert.file_utils -   https://s3.amazonaws.com/models.huggingface.co/bert/bert-base-uncased-vocab.txt not found in cache, downloading to /tmp/tmpy4c94y1i\n",
            "100% 231508/231508 [00:00<00:00, 676739.97B/s]\n",
            "05/10/2021 03:51:06 - INFO - pytorch_pretrained_bert.file_utils -   copying /tmp/tmpy4c94y1i to cache at /root/.pytorch_pretrained_bert/26bc1ad6c0ac742e9b52263248f6d0f00068293b33709fae12320c0e35ccfbbb.542ce4285a40d23a559526243235df47c5f75c197f04f37d1a0c124c32c9a084\n",
            "05/10/2021 03:51:06 - INFO - pytorch_pretrained_bert.file_utils -   creating metadata file for /root/.pytorch_pretrained_bert/26bc1ad6c0ac742e9b52263248f6d0f00068293b33709fae12320c0e35ccfbbb.542ce4285a40d23a559526243235df47c5f75c197f04f37d1a0c124c32c9a084\n",
            "05/10/2021 03:51:06 - INFO - pytorch_pretrained_bert.file_utils -   removing temp file /tmp/tmpy4c94y1i\n",
            "05/10/2021 03:51:06 - INFO - pytorch_pretrained_bert.tokenization -   loading vocabulary file https://s3.amazonaws.com/models.huggingface.co/bert/bert-base-uncased-vocab.txt from cache at /root/.pytorch_pretrained_bert/26bc1ad6c0ac742e9b52263248f6d0f00068293b33709fae12320c0e35ccfbbb.542ce4285a40d23a559526243235df47c5f75c197f04f37d1a0c124c32c9a084\n",
            "05/10/2021 03:51:07 - INFO - __main__ -   device: cuda n_gpu: 1, distributed training: False, 16-bits training: False\n",
            "05/10/2021 03:51:12 - INFO - pytorch_pretrained_bert.tokenization -   loading vocabulary file https://s3.amazonaws.com/models.huggingface.co/bert/bert-base-uncased-vocab.txt from cache at /root/.pytorch_pretrained_bert/26bc1ad6c0ac742e9b52263248f6d0f00068293b33709fae12320c0e35ccfbbb.542ce4285a40d23a559526243235df47c5f75c197f04f37d1a0c124c32c9a084\n",
            "05/10/2021 03:51:12 - INFO - pytorch_pretrained_bert.file_utils -   https://s3.amazonaws.com/models.huggingface.co/bert/bert-base-uncased-pytorch_model.bin not found in cache, downloading to /tmp/tmpdx2qbj_d\n",
            "100% 440473133/440473133 [00:16<00:00, 26615918.24B/s]\n",
            "05/10/2021 03:51:29 - INFO - pytorch_pretrained_bert.file_utils -   copying /tmp/tmpdx2qbj_d to cache at /root/.pytorch_pretrained_bert/distributed_-1/aa1ef1aede4482d0dbcd4d52baad8ae300e60902e88fcb0bebdec09afd232066.36ca03ab34a1a5d5fa7bc3d03d55c4fa650fed07220e2eeebc06ce58d0e9a157\n",
            "05/10/2021 03:51:30 - INFO - pytorch_pretrained_bert.file_utils -   creating metadata file for /root/.pytorch_pretrained_bert/distributed_-1/aa1ef1aede4482d0dbcd4d52baad8ae300e60902e88fcb0bebdec09afd232066.36ca03ab34a1a5d5fa7bc3d03d55c4fa650fed07220e2eeebc06ce58d0e9a157\n",
            "05/10/2021 03:51:30 - INFO - pytorch_pretrained_bert.file_utils -   removing temp file /tmp/tmpdx2qbj_d\n",
            "05/10/2021 03:51:30 - INFO - pytorch_pretrained_bert.file_utils -   https://s3.amazonaws.com/models.huggingface.co/bert/bert-base-uncased-config.json not found in cache, downloading to /tmp/tmpmp624891\n",
            "100% 433/433 [00:00<00:00, 380023.78B/s]\n",
            "05/10/2021 03:51:30 - INFO - pytorch_pretrained_bert.file_utils -   copying /tmp/tmpmp624891 to cache at /root/.pytorch_pretrained_bert/distributed_-1/4dad0251492946e18ac39290fcfe91b89d370fee250efe9521476438fe8ca185.7156163d5fdc189c3016baca0775ffce230789d7fa2a42ef516483e4ca884517\n",
            "05/10/2021 03:51:30 - INFO - pytorch_pretrained_bert.file_utils -   creating metadata file for /root/.pytorch_pretrained_bert/distributed_-1/4dad0251492946e18ac39290fcfe91b89d370fee250efe9521476438fe8ca185.7156163d5fdc189c3016baca0775ffce230789d7fa2a42ef516483e4ca884517\n",
            "05/10/2021 03:51:30 - INFO - pytorch_pretrained_bert.file_utils -   removing temp file /tmp/tmpmp624891\n",
            "05/10/2021 03:51:30 - INFO - modeling -   loading weights file https://s3.amazonaws.com/models.huggingface.co/bert/bert-base-uncased-pytorch_model.bin from cache at /root/.pytorch_pretrained_bert/distributed_-1/aa1ef1aede4482d0dbcd4d52baad8ae300e60902e88fcb0bebdec09afd232066.36ca03ab34a1a5d5fa7bc3d03d55c4fa650fed07220e2eeebc06ce58d0e9a157\n",
            "05/10/2021 03:51:30 - INFO - modeling -   loading configuration file https://s3.amazonaws.com/models.huggingface.co/bert/bert-base-uncased-config.json from cache at /root/.pytorch_pretrained_bert/distributed_-1/4dad0251492946e18ac39290fcfe91b89d370fee250efe9521476438fe8ca185.7156163d5fdc189c3016baca0775ffce230789d7fa2a42ef516483e4ca884517\n",
            "05/10/2021 03:51:30 - INFO - modeling -   Model config {\n",
            "  \"architectures\": [\n",
            "    \"BertForMaskedLM\"\n",
            "  ],\n",
            "  \"attention_probs_dropout_prob\": 0.1,\n",
            "  \"hidden_act\": \"gelu\",\n",
            "  \"hidden_dropout_prob\": 0.1,\n",
            "  \"hidden_size\": 768,\n",
            "  \"initializer_range\": 0.02,\n",
            "  \"intermediate_size\": 3072,\n",
            "  \"layer_norm_eps\": 1e-12,\n",
            "  \"max_position_embeddings\": 512,\n",
            "  \"model_type\": \"bert\",\n",
            "  \"num_attention_heads\": 12,\n",
            "  \"num_hidden_layers\": 12,\n",
            "  \"pad_token_id\": 0,\n",
            "  \"type_vocab_size\": 2,\n",
            "  \"vocab_size\": 30522\n",
            "}\n",
            "\n",
            "05/10/2021 03:51:33 - INFO - modeling -   Weights of BertTransformer not initialized from pretrained model: ['extra_enc_layer.dense.weight', 'extra_enc_layer.dense.bias', 'extra_enc_layer.LayerNorm.weight', 'extra_enc_layer.LayerNorm.bias', 'embed.weight', 'qa_head._answer_ability_predictor.0.weight', 'qa_head._answer_ability_predictor.0.bias', 'qa_head._answer_ability_predictor.3.weight', 'qa_head._answer_ability_predictor.3.bias', 'qa_head._passage_weights_predictor.weight', 'qa_head._passage_weights_predictor.bias', 'qa_head._question_weights_predictor.weight', 'qa_head._question_weights_predictor.bias', 'qa_head._passage_span_start_predictor.weight', 'qa_head._passage_span_start_predictor.bias', 'qa_head._passage_span_end_predictor.weight', 'qa_head._passage_span_end_predictor.bias', 'qa_head._question_span_start_predictor.0.weight', 'qa_head._question_span_start_predictor.0.bias', 'qa_head._question_span_start_predictor.3.weight', 'qa_head._question_span_start_predictor.3.bias', 'qa_head._question_span_end_predictor.0.weight', 'qa_head._question_span_end_predictor.0.bias', 'qa_head._question_span_end_predictor.3.weight', 'qa_head._question_span_end_predictor.3.bias', 'extra_dec_layer.dense.weight', 'extra_dec_layer.dense.bias', 'extra_dec_layer.LayerNorm.weight', 'extra_dec_layer.LayerNorm.bias', 'head_type.weight', 'head_type.bias', 'dec_head.bias', 'dec_head.decoder.weight']\n",
            "05/10/2021 03:51:33 - INFO - modeling -   Weights from pretrained model not used in BertTransformer: ['cls.seq_relationship.weight', 'cls.seq_relationship.bias']\n",
            "05/10/2021 03:51:36 - INFO - root -   Loading eval examples and features.\n",
            "\n",
            "05/10/2021 03:51:41 - INFO - __main__ -   ***** Running evaluation *****\n",
            "05/10/2021 03:51:41 - INFO - __main__ -     Num examples = 9536\n",
            "05/10/2021 03:51:41 - INFO - __main__ -     Batch size = 360\n",
            "05/10/2021 03:51:41 - INFO - root -   Loading train examples and features.\n",
            "\n",
            "05/10/2021 03:52:09 - INFO - __main__ -   ***** Running training *****\n",
            "05/10/2021 03:52:09 - INFO - __main__ -     Num examples = 77400\n",
            "05/10/2021 03:52:09 - INFO - __main__ -     Batch size = 8\n",
            "05/10/2021 03:52:09 - INFO - __main__ -     Num steps = 96750\n",
            "Epoch:   0% 0/10 [00:00<?, ?it/s]\n",
            "Iteration:   0% 0/9675 [00:00<?, ?it/s]\u001b[A\n",
            "Iteration:   0% 1/9675 [00:00<2:06:20,  1.28it/s]\u001b[A\n",
            "Iteration:   0% 2/9675 [00:01<2:00:27,  1.34it/s]\u001b[A\n",
            "Iteration:   0% 3/9675 [00:02<1:56:25,  1.38it/s]\u001b[A\n",
            "Iteration:   0% 4/9675 [00:02<1:53:34,  1.42it/s]\u001b[A\n",
            "Iteration:   0% 5/9675 [00:03<1:51:34,  1.44it/s]\u001b[A\n",
            "Iteration:   0% 6/9675 [00:04<1:50:10,  1.46it/s]\u001b[A\n",
            "Iteration:   0% 7/9675 [00:04<1:49:19,  1.47it/s]\u001b[A\n",
            "Iteration:   0% 8/9675 [00:05<1:48:36,  1.48it/s]\u001b[A\n",
            "Iteration:   0% 9/9675 [00:06<1:48:12,  1.49it/s]\u001b[A\n",
            "Iteration:   0% 10/9675 [00:06<1:47:49,  1.49it/s]\u001b[A\n",
            "Iteration:   0% 11/9675 [00:07<1:47:32,  1.50it/s]\u001b[A\n",
            "Iteration:   0% 12/9675 [00:08<1:47:30,  1.50it/s]\u001b[A\n",
            "Iteration:   0% 13/9675 [00:08<1:47:23,  1.50it/s]\u001b[A\n",
            "Iteration:   0% 14/9675 [00:09<1:47:15,  1.50it/s]\u001b[A\n",
            "Iteration:   0% 15/9675 [00:10<1:47:09,  1.50it/s]\u001b[A\n",
            "Iteration:   0% 16/9675 [00:10<1:47:19,  1.50it/s]\u001b[A\n",
            "Iteration:   0% 17/9675 [00:11<1:47:24,  1.50it/s]\u001b[A\n",
            "Iteration:   0% 18/9675 [00:12<1:47:17,  1.50it/s]\u001b[A\n",
            "Iteration:   0% 19/9675 [00:12<1:47:08,  1.50it/s]\u001b[A\n",
            "Iteration:   0% 20/9675 [00:13<1:47:02,  1.50it/s]\u001b[A\n",
            "Iteration:   0% 21/9675 [00:14<1:47:01,  1.50it/s]\u001b[A\n",
            "Iteration:   0% 22/9675 [00:14<1:46:57,  1.50it/s]\u001b[A\n",
            "Iteration:   0% 23/9675 [00:15<1:46:52,  1.51it/s]\u001b[A\n",
            "Iteration:   0% 24/9675 [00:16<1:46:50,  1.51it/s]\u001b[A\n",
            "Iteration:   0% 25/9675 [00:16<1:46:49,  1.51it/s]\u001b[A\n",
            "Iteration:   0% 26/9675 [00:17<1:46:50,  1.51it/s]\u001b[A\n",
            "Iteration:   0% 27/9675 [00:18<1:46:46,  1.51it/s]\u001b[A\n",
            "Iteration:   0% 28/9675 [00:18<1:46:50,  1.50it/s]\u001b[A\n",
            "Iteration:   0% 29/9675 [00:19<1:47:02,  1.50it/s]\u001b[A\n",
            "Iteration:   0% 30/9675 [00:20<1:47:00,  1.50it/s]\u001b[A\n",
            "Iteration:   0% 31/9675 [00:20<1:46:55,  1.50it/s]\u001b[A\n",
            "Iteration:   0% 32/9675 [00:21<1:46:54,  1.50it/s]\u001b[A\n",
            "Iteration:   0% 33/9675 [00:22<1:46:54,  1.50it/s]\u001b[A\n",
            "Iteration:   0% 34/9675 [00:22<1:46:49,  1.50it/s]\u001b[A\n",
            "Iteration:   0% 35/9675 [00:23<1:46:46,  1.50it/s]\u001b[A\n",
            "Iteration:   0% 36/9675 [00:24<1:46:45,  1.50it/s]\u001b[A\n",
            "Iteration:   0% 37/9675 [00:24<1:46:43,  1.50it/s]\u001b[A\n",
            "Iteration:   0% 38/9675 [00:25<1:47:07,  1.50it/s]\u001b[A\n",
            "Iteration:   0% 39/9675 [00:26<1:47:09,  1.50it/s]\u001b[A\n",
            "Iteration:   0% 40/9675 [00:26<1:46:59,  1.50it/s]\u001b[A\n",
            "Iteration:   0% 41/9675 [00:27<1:46:51,  1.50it/s]\u001b[A\n",
            "Iteration:   0% 42/9675 [00:28<1:46:50,  1.50it/s]\u001b[A\n",
            "Iteration:   0% 43/9675 [00:28<1:46:46,  1.50it/s]\u001b[A\n",
            "Iteration:   0% 44/9675 [00:29<1:46:41,  1.50it/s]\u001b[A\n",
            "Iteration:   0% 45/9675 [00:30<1:46:41,  1.50it/s]\u001b[A\n",
            "Iteration:   0% 46/9675 [00:30<1:46:45,  1.50it/s]\u001b[A\n",
            "Iteration:   0% 47/9675 [00:31<1:46:41,  1.50it/s]\u001b[A\n",
            "Iteration:   0% 48/9675 [00:32<1:46:38,  1.50it/s]\u001b[A\n",
            "Iteration:   1% 49/9675 [00:32<1:46:38,  1.50it/s]\u001b[A\n",
            "Iteration:   1% 50/9675 [00:33<1:46:35,  1.51it/s]\u001b[A\n",
            "Iteration:   1% 51/9675 [00:34<1:46:37,  1.50it/s]\u001b[A\n",
            "Iteration:   1% 52/9675 [00:34<1:46:32,  1.51it/s]\u001b[A\n",
            "Iteration:   1% 53/9675 [00:35<1:46:30,  1.51it/s]\u001b[A\n",
            "Iteration:   1% 54/9675 [00:36<1:46:33,  1.50it/s]\u001b[A\n",
            "Iteration:   1% 55/9675 [00:36<1:46:38,  1.50it/s]\u001b[A\n",
            "Iteration:   1% 56/9675 [00:37<1:46:36,  1.50it/s]\u001b[A\n",
            "Iteration:   1% 57/9675 [00:38<1:46:36,  1.50it/s]\u001b[A\n",
            "Iteration:   1% 58/9675 [00:38<1:46:34,  1.50it/s]\u001b[A\n",
            "Iteration:   1% 59/9675 [00:39<1:46:34,  1.50it/s]\u001b[A\n",
            "Iteration:   1% 60/9675 [00:40<1:46:34,  1.50it/s]\u001b[A\n",
            "Iteration:   1% 61/9675 [00:40<1:46:30,  1.50it/s]\u001b[A\n",
            "Iteration:   1% 62/9675 [00:41<1:46:30,  1.50it/s]\u001b[A\n",
            "Iteration:   1% 63/9675 [00:42<1:46:46,  1.50it/s]\u001b[A\n",
            "Iteration:   1% 64/9675 [00:42<1:46:40,  1.50it/s]\u001b[A\n",
            "Iteration:   1% 65/9675 [00:43<1:46:35,  1.50it/s]\u001b[A\n",
            "Iteration:   1% 66/9675 [00:44<1:46:36,  1.50it/s]\u001b[A\n",
            "Iteration:   1% 67/9675 [00:44<1:46:34,  1.50it/s]\u001b[A\n",
            "Iteration:   1% 68/9675 [00:45<1:46:27,  1.50it/s]\u001b[A\n",
            "Iteration:   1% 69/9675 [00:46<1:46:33,  1.50it/s]\u001b[A\n",
            "Iteration:   1% 70/9675 [00:46<1:46:33,  1.50it/s]\u001b[A\n",
            "Iteration:   1% 71/9675 [00:47<1:46:35,  1.50it/s]\u001b[A\n",
            "Iteration:   1% 72/9675 [00:48<1:46:36,  1.50it/s]\u001b[A\n",
            "Iteration:   1% 73/9675 [00:48<1:46:34,  1.50it/s]\u001b[A\n",
            "Iteration:   1% 74/9675 [00:49<1:46:26,  1.50it/s]\u001b[A\n",
            "Iteration:   1% 75/9675 [00:49<1:46:29,  1.50it/s]\u001b[A\n",
            "Iteration:   1% 76/9675 [00:50<1:46:25,  1.50it/s]\u001b[A\n",
            "Iteration:   1% 77/9675 [00:51<1:46:18,  1.50it/s]\u001b[A\n",
            "Iteration:   1% 78/9675 [00:51<1:46:30,  1.50it/s]\u001b[A\n",
            "Iteration:   1% 79/9675 [00:52<1:46:32,  1.50it/s]\u001b[A\n",
            "Iteration:   1% 80/9675 [00:53<1:46:25,  1.50it/s]\u001b[A\n",
            "Iteration:   1% 81/9675 [00:53<1:46:23,  1.50it/s]\u001b[A\n",
            "Iteration:   1% 82/9675 [00:54<1:46:19,  1.50it/s]\u001b[A\n",
            "Iteration:   1% 83/9675 [00:55<1:46:17,  1.50it/s]\u001b[A\n",
            "Iteration:   1% 84/9675 [00:55<1:46:20,  1.50it/s]\u001b[A\n",
            "Iteration:   1% 85/9675 [00:56<1:46:13,  1.50it/s]\u001b[A\n",
            "Iteration:   1% 86/9675 [00:57<1:46:08,  1.51it/s]\u001b[A\n",
            "Iteration:   1% 87/9675 [00:57<1:46:13,  1.50it/s]\u001b[A\n",
            "Iteration:   1% 88/9675 [00:58<1:46:10,  1.50it/s]\u001b[A\n",
            "Iteration:   1% 89/9675 [00:59<1:46:09,  1.50it/s]\u001b[A\n",
            "Iteration:   1% 90/9675 [00:59<1:46:12,  1.50it/s]\u001b[A\n",
            "Iteration:   1% 91/9675 [01:00<1:46:07,  1.51it/s]\u001b[A\n",
            "Iteration:   1% 92/9675 [01:01<1:46:09,  1.50it/s]\u001b[A\n",
            "Iteration:   1% 93/9675 [01:01<1:46:11,  1.50it/s]\u001b[A\n",
            "Iteration:   1% 94/9675 [01:02<1:46:08,  1.50it/s]\u001b[A\n",
            "Iteration:   1% 95/9675 [01:03<1:46:05,  1.50it/s]\u001b[A\n",
            "Iteration:   1% 96/9675 [01:03<1:46:13,  1.50it/s]\u001b[A\n",
            "Iteration:   1% 97/9675 [01:04<1:46:07,  1.50it/s]\u001b[A\n",
            "Iteration:   1% 98/9675 [01:05<1:46:04,  1.50it/s]\u001b[A\n",
            "Iteration:   1% 99/9675 [01:05<1:46:02,  1.50it/s]\u001b[A\n",
            "Iteration:   1% 100/9675 [01:06<1:45:59,  1.51it/s]\u001b[A\n",
            "Iteration:   1% 101/9675 [01:07<1:45:57,  1.51it/s]\u001b[A\n",
            "Iteration:   1% 102/9675 [01:07<1:46:00,  1.51it/s]\u001b[A\n",
            "Iteration:   1% 103/9675 [01:08<1:46:01,  1.50it/s]\u001b[A\n",
            "Iteration:   1% 104/9675 [01:09<1:45:58,  1.51it/s]\u001b[A\n",
            "Iteration:   1% 105/9675 [01:09<1:46:01,  1.50it/s]\u001b[A\n",
            "Iteration:   1% 106/9675 [01:10<1:45:59,  1.50it/s]\u001b[A\n",
            "Iteration:   1% 107/9675 [01:11<1:46:10,  1.50it/s]\u001b[A\n",
            "Iteration:   1% 108/9675 [01:11<1:46:04,  1.50it/s]\u001b[A\n",
            "Iteration:   1% 109/9675 [01:12<1:45:59,  1.50it/s]\u001b[A\n",
            "Iteration:   1% 110/9675 [01:13<1:45:58,  1.50it/s]\u001b[A\n",
            "Iteration:   1% 111/9675 [01:13<1:45:58,  1.50it/s]\u001b[A\n",
            "Iteration:   1% 112/9675 [01:14<1:45:56,  1.50it/s]\u001b[A\n",
            "Iteration:   1% 113/9675 [01:15<1:45:51,  1.51it/s]\u001b[A\n",
            "Iteration:   1% 114/9675 [01:15<1:45:55,  1.50it/s]\u001b[A\n",
            "Iteration:   1% 115/9675 [01:16<1:45:54,  1.50it/s]\u001b[A\n",
            "Iteration:   1% 116/9675 [01:17<1:45:50,  1.51it/s]\u001b[A\n",
            "Iteration:   1% 117/9675 [01:17<1:45:47,  1.51it/s]\u001b[A\n",
            "Iteration:   1% 118/9675 [01:18<1:45:48,  1.51it/s]\u001b[A\n",
            "Iteration:   1% 119/9675 [01:19<1:45:53,  1.50it/s]\u001b[A\n",
            "Iteration:   1% 120/9675 [01:19<1:45:48,  1.51it/s]\u001b[A\n",
            "Iteration:   1% 121/9675 [01:20<1:45:50,  1.50it/s]\u001b[A\n",
            "Iteration:   1% 122/9675 [01:21<1:45:47,  1.50it/s]\u001b[A\n",
            "Iteration:   1% 123/9675 [01:21<1:45:46,  1.51it/s]\u001b[A\n",
            "Iteration:   1% 124/9675 [01:22<1:45:44,  1.51it/s]\u001b[A\n",
            "Iteration:   1% 125/9675 [01:23<1:45:41,  1.51it/s]\u001b[A\n",
            "Iteration:   1% 126/9675 [01:23<1:45:43,  1.51it/s]\u001b[A\n",
            "Iteration:   1% 127/9675 [01:24<1:45:51,  1.50it/s]\u001b[A\n",
            "Iteration:   1% 128/9675 [01:25<1:45:45,  1.50it/s]\u001b[A\n",
            "Iteration:   1% 129/9675 [01:25<1:45:45,  1.50it/s]\u001b[A\n",
            "Iteration:   1% 130/9675 [01:26<1:45:44,  1.50it/s]\u001b[A\n",
            "Iteration:   1% 131/9675 [01:27<1:45:42,  1.50it/s]\u001b[A\n",
            "Iteration:   1% 132/9675 [01:27<1:45:42,  1.50it/s]\u001b[A\n",
            "Iteration:   1% 133/9675 [01:28<1:45:46,  1.50it/s]\u001b[A\n",
            "Iteration:   1% 134/9675 [01:29<1:45:42,  1.50it/s]\u001b[A\n",
            "Iteration:   1% 135/9675 [01:29<1:45:38,  1.51it/s]\u001b[A\n",
            "Iteration:   1% 136/9675 [01:30<1:45:37,  1.51it/s]\u001b[A\n",
            "Iteration:   1% 137/9675 [01:31<1:45:38,  1.50it/s]\u001b[A\n",
            "Iteration:   1% 138/9675 [01:31<1:45:36,  1.51it/s]\u001b[A\n",
            "Iteration:   1% 139/9675 [01:32<1:45:39,  1.50it/s]\u001b[A\n",
            "Iteration:   1% 140/9675 [01:33<1:45:35,  1.51it/s]\u001b[A\n",
            "Iteration:   1% 141/9675 [01:33<1:45:31,  1.51it/s]\u001b[A\n",
            "Iteration:   1% 142/9675 [01:34<1:45:33,  1.51it/s]\u001b[A\n",
            "Iteration:   1% 143/9675 [01:35<1:45:30,  1.51it/s]\u001b[A\n",
            "Iteration:   1% 144/9675 [01:35<1:45:28,  1.51it/s]\u001b[A\n",
            "Iteration:   1% 145/9675 [01:36<1:45:25,  1.51it/s]\u001b[A\n",
            "Iteration:   2% 146/9675 [01:37<1:45:26,  1.51it/s]\u001b[A\n",
            "Iteration:   2% 147/9675 [01:37<1:45:25,  1.51it/s]\u001b[A\n",
            "Iteration:   2% 148/9675 [01:38<1:45:28,  1.51it/s]\u001b[A\n",
            "Iteration:   2% 149/9675 [01:39<1:45:27,  1.51it/s]\u001b[A\n",
            "Iteration:   2% 150/9675 [01:39<1:45:27,  1.51it/s]\u001b[A\n",
            "Iteration:   2% 151/9675 [01:40<1:45:23,  1.51it/s]\u001b[A\n",
            "Iteration:   2% 152/9675 [01:41<1:45:35,  1.50it/s]\u001b[A\n",
            "Iteration:   2% 153/9675 [01:41<1:45:35,  1.50it/s]\u001b[A\n",
            "Iteration:   2% 154/9675 [01:42<1:45:32,  1.50it/s]\u001b[A\n",
            "Iteration:   2% 155/9675 [01:43<1:45:32,  1.50it/s]\u001b[A\n",
            "Iteration:   2% 156/9675 [01:43<1:45:29,  1.50it/s]\u001b[A\n",
            "Iteration:   2% 157/9675 [01:44<1:45:28,  1.50it/s]\u001b[A\n",
            "Iteration:   2% 158/9675 [01:45<1:45:26,  1.50it/s]\u001b[A\n",
            "Iteration:   2% 159/9675 [01:45<1:45:24,  1.50it/s]\u001b[A\n",
            "Iteration:   2% 160/9675 [01:46<1:45:24,  1.50it/s]\u001b[A\n",
            "Iteration:   2% 161/9675 [01:47<1:45:24,  1.50it/s]\u001b[A\n",
            "Iteration:   2% 162/9675 [01:47<1:45:20,  1.51it/s]\u001b[A\n",
            "Iteration:   2% 163/9675 [01:48<1:45:18,  1.51it/s]\u001b[A\n",
            "Iteration:   2% 164/9675 [01:49<1:45:20,  1.50it/s]\u001b[A\n",
            "Iteration:   2% 165/9675 [01:49<1:45:19,  1.50it/s]\u001b[A\n",
            "Iteration:   2% 166/9675 [01:50<1:45:18,  1.50it/s]\u001b[A\n",
            "Iteration:   2% 167/9675 [01:51<1:45:15,  1.51it/s]\u001b[A\n",
            "Iteration:   2% 168/9675 [01:51<1:45:12,  1.51it/s]\u001b[A\n",
            "Iteration:   2% 169/9675 [01:52<1:45:13,  1.51it/s]\u001b[A\n",
            "Iteration:   2% 170/9675 [01:53<1:45:29,  1.50it/s]\u001b[A\n",
            "Iteration:   2% 171/9675 [01:53<1:45:24,  1.50it/s]\u001b[A\n",
            "Iteration:   2% 172/9675 [01:54<1:45:21,  1.50it/s]\u001b[A\n",
            "Iteration:   2% 173/9675 [01:55<1:45:16,  1.50it/s]\u001b[A\n",
            "Iteration:   2% 174/9675 [01:55<1:45:12,  1.51it/s]\u001b[A\n",
            "Iteration:   2% 175/9675 [01:56<1:45:10,  1.51it/s]\u001b[A\n",
            "Iteration:   2% 176/9675 [01:57<1:45:10,  1.51it/s]\u001b[A\n",
            "Iteration:   2% 177/9675 [01:57<1:45:11,  1.50it/s]\u001b[A\n",
            "Iteration:   2% 178/9675 [01:58<1:45:13,  1.50it/s]\u001b[A\n",
            "Iteration:   2% 179/9675 [01:59<1:45:13,  1.50it/s]\u001b[A\n",
            "Iteration:   2% 180/9675 [01:59<1:45:07,  1.51it/s]\u001b[A\n",
            "Iteration:   2% 181/9675 [02:00<1:45:03,  1.51it/s]\u001b[A\n",
            "Iteration:   2% 182/9675 [02:01<1:45:04,  1.51it/s]\u001b[A\n",
            "Iteration:   2% 183/9675 [02:01<1:45:01,  1.51it/s]\u001b[A\n",
            "Iteration:   2% 184/9675 [02:02<1:45:03,  1.51it/s]\u001b[A\n",
            "Iteration:   2% 185/9675 [02:03<1:45:02,  1.51it/s]\u001b[A\n",
            "Iteration:   2% 186/9675 [02:03<1:45:06,  1.50it/s]\u001b[A\n",
            "Iteration:   2% 187/9675 [02:04<1:45:03,  1.51it/s]\u001b[A\n",
            "Iteration:   2% 188/9675 [02:05<1:45:06,  1.50it/s]\u001b[A\n",
            "Iteration:   2% 189/9675 [02:05<1:45:09,  1.50it/s]\u001b[A\n",
            "Iteration:   2% 190/9675 [02:06<1:45:10,  1.50it/s]\u001b[A\n",
            "Iteration:   2% 191/9675 [02:07<1:45:04,  1.50it/s]\u001b[A\n",
            "Iteration:   2% 192/9675 [02:07<1:45:02,  1.50it/s]\u001b[A\n",
            "Iteration:   2% 193/9675 [02:08<1:45:03,  1.50it/s]\u001b[A\n",
            "Iteration:   2% 194/9675 [02:09<1:45:00,  1.50it/s]\u001b[A\n",
            "Iteration:   2% 195/9675 [02:09<1:44:56,  1.51it/s]\u001b[A\n",
            "Iteration:   2% 196/9675 [02:10<1:44:54,  1.51it/s]\u001b[A\n",
            "Iteration:   2% 197/9675 [02:11<1:44:52,  1.51it/s]\u001b[A\n",
            "Iteration:   2% 198/9675 [02:11<1:44:50,  1.51it/s]\u001b[A\n",
            "Iteration:   2% 199/9675 [02:12<1:44:48,  1.51it/s]\u001b[A\n",
            "Iteration:   2% 200/9675 [02:13<1:44:47,  1.51it/s]\u001b[A\n",
            "Iteration:   2% 201/9675 [02:13<1:44:46,  1.51it/s]\u001b[A\n",
            "Iteration:   2% 202/9675 [02:14<1:44:49,  1.51it/s]\u001b[A\n",
            "Iteration:   2% 203/9675 [02:15<1:44:48,  1.51it/s]\u001b[A\n",
            "Iteration:   2% 204/9675 [02:15<1:44:46,  1.51it/s]\u001b[A\n",
            "Iteration:   2% 205/9675 [02:16<1:44:47,  1.51it/s]\u001b[A\n",
            "Iteration:   2% 206/9675 [02:17<1:44:50,  1.51it/s]\u001b[A\n",
            "Iteration:   2% 207/9675 [02:17<1:44:48,  1.51it/s]\u001b[A\n",
            "Iteration:   2% 208/9675 [02:18<1:44:47,  1.51it/s]\u001b[A\n",
            "Iteration:   2% 209/9675 [02:19<1:44:52,  1.50it/s]\u001b[A\n",
            "Iteration:   2% 210/9675 [02:19<1:44:49,  1.50it/s]\u001b[A\n",
            "Iteration:   2% 211/9675 [02:20<1:44:49,  1.50it/s]\u001b[A\n",
            "Iteration:   2% 212/9675 [02:21<1:44:47,  1.51it/s]\u001b[A\n",
            "Iteration:   2% 213/9675 [02:21<1:44:51,  1.50it/s]\u001b[A\n",
            "Iteration:   2% 214/9675 [02:22<1:44:46,  1.50it/s]\u001b[A\n",
            "Iteration:   2% 215/9675 [02:23<1:44:50,  1.50it/s]\u001b[A\n",
            "Iteration:   2% 216/9675 [02:23<1:44:45,  1.50it/s]\u001b[A\n",
            "Iteration:   2% 217/9675 [02:24<1:44:41,  1.51it/s]\u001b[A\n",
            "Iteration:   2% 218/9675 [02:25<1:44:42,  1.51it/s]\u001b[A\n",
            "Iteration:   2% 219/9675 [02:25<1:44:38,  1.51it/s]\u001b[A\n",
            "Iteration:   2% 220/9675 [02:26<1:44:49,  1.50it/s]\u001b[A\n",
            "Iteration:   2% 221/9675 [02:27<1:44:46,  1.50it/s]\u001b[A\n",
            "Iteration:   2% 222/9675 [02:27<1:44:43,  1.50it/s]\u001b[A\n",
            "Iteration:   2% 223/9675 [02:28<1:44:38,  1.51it/s]\u001b[A\n",
            "Iteration:   2% 224/9675 [02:29<1:44:39,  1.51it/s]\u001b[A\n",
            "Iteration:   2% 225/9675 [02:29<1:44:37,  1.51it/s]\u001b[A\n",
            "Iteration:   2% 226/9675 [02:30<1:44:33,  1.51it/s]\u001b[A\n",
            "Iteration:   2% 227/9675 [02:31<1:44:45,  1.50it/s]\u001b[A\n",
            "Iteration:   2% 228/9675 [02:31<1:44:47,  1.50it/s]\u001b[A\n",
            "Iteration:   2% 229/9675 [02:32<1:44:52,  1.50it/s]\n",
            "Epoch:   0% 0/10 [02:32<?, ?it/s]\n",
            "Traceback (most recent call last):\n",
            "  File \"finetune_on_drop.py\", line 748, in <module>\n",
            "    main()\n",
            "  File \"finetune_on_drop.py\", line 455, in main\n",
            "    all_losses.append(loss.item()); all_dec_losses.append(dec_loss.item()); \n",
            "KeyboardInterrupt\n",
            "^C\n"
          ],
          "name": "stdout"
        }
      ]
    },
    {
      "cell_type": "code",
      "metadata": {
        "id": "SHVxzzBkkJ4K"
      },
      "source": [
        ""
      ],
      "execution_count": null,
      "outputs": []
    }
  ]
}